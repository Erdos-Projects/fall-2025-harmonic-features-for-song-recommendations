{
 "cells": [
  {
   "cell_type": "markdown",
   "id": "d529ce69-d0f4-4bb5-9f30-7e4b3d9da563",
   "metadata": {},
   "source": [
    "Goal of this notebook: \n",
    "convert the chordonomicon data set to make each song a matrix where each column records a single chord. \n",
    "\n",
    "Steps:\n",
    "\n",
    "1. Import the chordonomicon data set, drop all columns except for 'id' and 'chords'\n",
    "2. Remove section marker info from chords i.e. remove \\<intro_1\\>\n",
    "3. For each song, convert each chord into a vector, then concatenate them into a matrix "
   ]
  },
  {
   "cell_type": "code",
   "execution_count": 2,
   "id": "34b5040a-086e-4be1-975d-6909eca5ab0d",
   "metadata": {},
   "outputs": [
    {
     "name": "stderr",
     "output_type": "stream",
     "text": [
      "C:\\Users\\Joshua\\AppData\\Local\\Temp\\ipykernel_5600\\865321450.py:9: DtypeWarning: Columns (3,4,6,7) have mixed types. Specify dtype option on import or set low_memory=False.\n",
      "  df = pd.read_csv('../data/chordonomicon.csv')\n"
     ]
    }
   ],
   "source": [
    "# importing basic packages\n",
    "import numpy as np\n",
    "import pandas as pd\n",
    "import matplotlib as plt\n",
    "import ast\n",
    "import re\n",
    "\n",
    "# read in the data set\n",
    "df = pd.read_csv('../data/chordonomicon.csv')"
   ]
  },
  {
   "cell_type": "code",
   "execution_count": 3,
   "id": "3cf42aa9-4aae-48fa-b1e7-b8be5b9d9be6",
   "metadata": {},
   "outputs": [
    {
     "data": {
      "text/html": [
       "<div>\n",
       "<style scoped>\n",
       "    .dataframe tbody tr th:only-of-type {\n",
       "        vertical-align: middle;\n",
       "    }\n",
       "\n",
       "    .dataframe tbody tr th {\n",
       "        vertical-align: top;\n",
       "    }\n",
       "\n",
       "    .dataframe thead th {\n",
       "        text-align: right;\n",
       "    }\n",
       "</style>\n",
       "<table border=\"1\" class=\"dataframe\">\n",
       "  <thead>\n",
       "    <tr style=\"text-align: right;\">\n",
       "      <th></th>\n",
       "      <th>id</th>\n",
       "      <th>chords</th>\n",
       "      <th>s_artist</th>\n",
       "      <th>release_date</th>\n",
       "      <th>genres</th>\n",
       "      <th>decade</th>\n",
       "      <th>main_genre</th>\n",
       "      <th>rock_genre</th>\n",
       "      <th>parts</th>\n",
       "    </tr>\n",
       "  </thead>\n",
       "  <tbody>\n",
       "    <tr>\n",
       "      <th>0</th>\n",
       "      <td>1</td>\n",
       "      <td>&lt;intro_1&gt; C &lt;verse_1&gt; F C E7 Amin C F C G7 C F...</td>\n",
       "      <td>artist_0</td>\n",
       "      <td>1977</td>\n",
       "      <td>classic country pop</td>\n",
       "      <td>1970.0</td>\n",
       "      <td>pop</td>\n",
       "      <td>NaN</td>\n",
       "      <td>yes</td>\n",
       "    </tr>\n",
       "    <tr>\n",
       "      <th>1</th>\n",
       "      <td>2</td>\n",
       "      <td>&lt;intro_1&gt; E D A/Cs E D A/Cs &lt;verse_1&gt; E D A/Cs...</td>\n",
       "      <td>artist_1</td>\n",
       "      <td>2003-01-01</td>\n",
       "      <td>alternative metal\"alternative rock\"nu metal\"pe...</td>\n",
       "      <td>2000.0</td>\n",
       "      <td>metal</td>\n",
       "      <td>pop rock</td>\n",
       "      <td>yes</td>\n",
       "    </tr>\n",
       "    <tr>\n",
       "      <th>2</th>\n",
       "      <td>3</td>\n",
       "      <td>&lt;intro_1&gt; D Dmaj7 D Dmaj7 &lt;verse_1&gt; Emin A D G...</td>\n",
       "      <td>artist_2</td>\n",
       "      <td>2022-09-23</td>\n",
       "      <td>NaN</td>\n",
       "      <td>2020.0</td>\n",
       "      <td>NaN</td>\n",
       "      <td>NaN</td>\n",
       "      <td>yes</td>\n",
       "    </tr>\n",
       "    <tr>\n",
       "      <th>3</th>\n",
       "      <td>4</td>\n",
       "      <td>&lt;intro_1&gt; C &lt;verse_1&gt; G C G C &lt;chorus_1&gt; F Dmi...</td>\n",
       "      <td>artist_3</td>\n",
       "      <td>2023-02-10</td>\n",
       "      <td>modern country pop</td>\n",
       "      <td>2020.0</td>\n",
       "      <td>pop</td>\n",
       "      <td>NaN</td>\n",
       "      <td>yes</td>\n",
       "    </tr>\n",
       "    <tr>\n",
       "      <th>4</th>\n",
       "      <td>5</td>\n",
       "      <td>&lt;intro_1&gt; C G C G &lt;verse_1&gt; C G C G C Bmin Emi...</td>\n",
       "      <td>artist_4</td>\n",
       "      <td>2018-08-24</td>\n",
       "      <td>classic opm\"opm</td>\n",
       "      <td>2010.0</td>\n",
       "      <td>NaN</td>\n",
       "      <td>NaN</td>\n",
       "      <td>yes</td>\n",
       "    </tr>\n",
       "  </tbody>\n",
       "</table>\n",
       "</div>"
      ],
      "text/plain": [
       "   id                                             chords  s_artist  \\\n",
       "0   1  <intro_1> C <verse_1> F C E7 Amin C F C G7 C F...  artist_0   \n",
       "1   2  <intro_1> E D A/Cs E D A/Cs <verse_1> E D A/Cs...  artist_1   \n",
       "2   3  <intro_1> D Dmaj7 D Dmaj7 <verse_1> Emin A D G...  artist_2   \n",
       "3   4  <intro_1> C <verse_1> G C G C <chorus_1> F Dmi...  artist_3   \n",
       "4   5  <intro_1> C G C G <verse_1> C G C G C Bmin Emi...  artist_4   \n",
       "\n",
       "  release_date                                             genres  decade  \\\n",
       "0         1977                                classic country pop  1970.0   \n",
       "1   2003-01-01  alternative metal\"alternative rock\"nu metal\"pe...  2000.0   \n",
       "2   2022-09-23                                                NaN  2020.0   \n",
       "3   2023-02-10                                 modern country pop  2020.0   \n",
       "4   2018-08-24                                    classic opm\"opm  2010.0   \n",
       "\n",
       "  main_genre rock_genre parts  \n",
       "0        pop        NaN   yes  \n",
       "1      metal   pop rock   yes  \n",
       "2        NaN        NaN   yes  \n",
       "3        pop        NaN   yes  \n",
       "4        NaN        NaN   yes  "
      ]
     },
     "execution_count": 3,
     "metadata": {},
     "output_type": "execute_result"
    }
   ],
   "source": [
    "df.head()"
   ]
  },
  {
   "cell_type": "code",
   "execution_count": 4,
   "id": "04176e9c-971f-4172-85ec-41ec752e99a0",
   "metadata": {},
   "outputs": [],
   "source": [
    "# drop all columns except for chords\n",
    "chord_data = df[['chords','genres']]"
   ]
  },
  {
   "cell_type": "code",
   "execution_count": 5,
   "id": "5209f55e-a11d-4a7f-8610-119d72212ad6",
   "metadata": {},
   "outputs": [
    {
     "data": {
      "text/html": [
       "<div>\n",
       "<style scoped>\n",
       "    .dataframe tbody tr th:only-of-type {\n",
       "        vertical-align: middle;\n",
       "    }\n",
       "\n",
       "    .dataframe tbody tr th {\n",
       "        vertical-align: top;\n",
       "    }\n",
       "\n",
       "    .dataframe thead th {\n",
       "        text-align: right;\n",
       "    }\n",
       "</style>\n",
       "<table border=\"1\" class=\"dataframe\">\n",
       "  <thead>\n",
       "    <tr style=\"text-align: right;\">\n",
       "      <th></th>\n",
       "      <th>chords</th>\n",
       "      <th>genres</th>\n",
       "    </tr>\n",
       "  </thead>\n",
       "  <tbody>\n",
       "    <tr>\n",
       "      <th>0</th>\n",
       "      <td>&lt;intro_1&gt; C &lt;verse_1&gt; F C E7 Amin C F C G7 C F...</td>\n",
       "      <td>classic country pop</td>\n",
       "    </tr>\n",
       "    <tr>\n",
       "      <th>1</th>\n",
       "      <td>&lt;intro_1&gt; E D A/Cs E D A/Cs &lt;verse_1&gt; E D A/Cs...</td>\n",
       "      <td>alternative metal\"alternative rock\"nu metal\"pe...</td>\n",
       "    </tr>\n",
       "    <tr>\n",
       "      <th>2</th>\n",
       "      <td>&lt;intro_1&gt; D Dmaj7 D Dmaj7 &lt;verse_1&gt; Emin A D G...</td>\n",
       "      <td>NaN</td>\n",
       "    </tr>\n",
       "    <tr>\n",
       "      <th>3</th>\n",
       "      <td>&lt;intro_1&gt; C &lt;verse_1&gt; G C G C &lt;chorus_1&gt; F Dmi...</td>\n",
       "      <td>modern country pop</td>\n",
       "    </tr>\n",
       "    <tr>\n",
       "      <th>4</th>\n",
       "      <td>&lt;intro_1&gt; C G C G &lt;verse_1&gt; C G C G C Bmin Emi...</td>\n",
       "      <td>classic opm\"opm</td>\n",
       "    </tr>\n",
       "  </tbody>\n",
       "</table>\n",
       "</div>"
      ],
      "text/plain": [
       "                                              chords  \\\n",
       "0  <intro_1> C <verse_1> F C E7 Amin C F C G7 C F...   \n",
       "1  <intro_1> E D A/Cs E D A/Cs <verse_1> E D A/Cs...   \n",
       "2  <intro_1> D Dmaj7 D Dmaj7 <verse_1> Emin A D G...   \n",
       "3  <intro_1> C <verse_1> G C G C <chorus_1> F Dmi...   \n",
       "4  <intro_1> C G C G <verse_1> C G C G C Bmin Emi...   \n",
       "\n",
       "                                              genres  \n",
       "0                                classic country pop  \n",
       "1  alternative metal\"alternative rock\"nu metal\"pe...  \n",
       "2                                                NaN  \n",
       "3                                 modern country pop  \n",
       "4                                    classic opm\"opm  "
      ]
     },
     "execution_count": 5,
     "metadata": {},
     "output_type": "execute_result"
    }
   ],
   "source": [
    "chord_data.head()"
   ]
  },
  {
   "cell_type": "markdown",
   "id": "7ce45cfd-98ec-4dff-958c-58322d667eb9",
   "metadata": {},
   "source": [
    "I want to clean up the chord sequences in two ways:\n",
    "1. Replace spaces by commas.\n",
    "2. Delete any section markers like <intro_1>\n",
    "3. Remove 'inversion markers,' i.e. replace 'A/Cs' with 'A'"
   ]
  },
  {
   "cell_type": "code",
   "execution_count": 7,
   "id": "4a6c444b-3263-4b1f-8b8d-04819dca2205",
   "metadata": {},
   "outputs": [
    {
     "data": {
      "text/html": [
       "<div>\n",
       "<style scoped>\n",
       "    .dataframe tbody tr th:only-of-type {\n",
       "        vertical-align: middle;\n",
       "    }\n",
       "\n",
       "    .dataframe tbody tr th {\n",
       "        vertical-align: top;\n",
       "    }\n",
       "\n",
       "    .dataframe thead th {\n",
       "        text-align: right;\n",
       "    }\n",
       "</style>\n",
       "<table border=\"1\" class=\"dataframe\">\n",
       "  <thead>\n",
       "    <tr style=\"text-align: right;\">\n",
       "      <th></th>\n",
       "      <th>chords</th>\n",
       "      <th>genres</th>\n",
       "    </tr>\n",
       "  </thead>\n",
       "  <tbody>\n",
       "    <tr>\n",
       "      <th>0</th>\n",
       "      <td>&lt;intro_1&gt;,C,&lt;verse_1&gt;,F,C,E7,Amin,C,F,C,G7,C,F...</td>\n",
       "      <td>classic country pop</td>\n",
       "    </tr>\n",
       "    <tr>\n",
       "      <th>1</th>\n",
       "      <td>&lt;intro_1&gt;,E,D,A/Cs,E,D,A/Cs,&lt;verse_1&gt;,E,D,A/Cs...</td>\n",
       "      <td>alternative metal\"alternative rock\"nu metal\"pe...</td>\n",
       "    </tr>\n",
       "    <tr>\n",
       "      <th>2</th>\n",
       "      <td>&lt;intro_1&gt;,D,Dmaj7,D,Dmaj7,&lt;verse_1&gt;,Emin,A,D,G...</td>\n",
       "      <td>NaN</td>\n",
       "    </tr>\n",
       "    <tr>\n",
       "      <th>3</th>\n",
       "      <td>&lt;intro_1&gt;,C,&lt;verse_1&gt;,G,C,G,C,&lt;chorus_1&gt;,F,Dmi...</td>\n",
       "      <td>modern country pop</td>\n",
       "    </tr>\n",
       "    <tr>\n",
       "      <th>4</th>\n",
       "      <td>&lt;intro_1&gt;,C,G,C,G,&lt;verse_1&gt;,C,G,C,G,C,Bmin,Emi...</td>\n",
       "      <td>classic opm\"opm</td>\n",
       "    </tr>\n",
       "  </tbody>\n",
       "</table>\n",
       "</div>"
      ],
      "text/plain": [
       "                                              chords  \\\n",
       "0  <intro_1>,C,<verse_1>,F,C,E7,Amin,C,F,C,G7,C,F...   \n",
       "1  <intro_1>,E,D,A/Cs,E,D,A/Cs,<verse_1>,E,D,A/Cs...   \n",
       "2  <intro_1>,D,Dmaj7,D,Dmaj7,<verse_1>,Emin,A,D,G...   \n",
       "3  <intro_1>,C,<verse_1>,G,C,G,C,<chorus_1>,F,Dmi...   \n",
       "4  <intro_1>,C,G,C,G,<verse_1>,C,G,C,G,C,Bmin,Emi...   \n",
       "\n",
       "                                              genres  \n",
       "0                                classic country pop  \n",
       "1  alternative metal\"alternative rock\"nu metal\"pe...  \n",
       "2                                                NaN  \n",
       "3                                 modern country pop  \n",
       "4                                    classic opm\"opm  "
      ]
     },
     "execution_count": 7,
     "metadata": {},
     "output_type": "execute_result"
    }
   ],
   "source": [
    "# replacing spaces with commas\n",
    "def replace_space_with_comma(my_string):\n",
    "    return my_string.replace(\" \",\",\")\n",
    "\n",
    "# replacing spaces with commons in all chords in all rows of the data\n",
    "chord_data.loc[:,'chords'] = chord_data['chords'].apply(replace_space_with_comma)\n",
    "chord_data.head()"
   ]
  },
  {
   "cell_type": "code",
   "execution_count": 8,
   "id": "4e6931ce-a57c-4460-8b04-597ba307c924",
   "metadata": {},
   "outputs": [
    {
     "name": "stdout",
     "output_type": "stream",
     "text": [
      "<intro_1>,C,<verse_1>,F,C,E7,Amin,C,F,C,G7,C,F,C,E7,Amin,C,F,G7,C,<verse_2>,F,C,E7,Amin,C,F,C,G7,C,F,C,E7,Amin,C,F,G7,C,<chorus_1>,F,C,F,C,G,C,F,C,E7,Amin,C,F,G7,C,<solo_1>,D,<chorus_2>,G,D,G,D,A,D,G,D,Fs7,Bmin,D,G,A7,D,G,A7,D\n",
      "\n",
      "C,F,C,E7,Amin,C,F,C,G7,C,F,C,E7,Amin,C,F,G7,C,F,C,E7,Amin,C,F,C,G7,C,F,C,E7,Amin,C,F,G7,C,F,C,F,C,G,C,F,C,E7,Amin,C,F,G7,C,D,G,D,G,D,A,D,G,D,Fs7,Bmin,D,G,A7,D,G,A7,D\n"
     ]
    }
   ],
   "source": [
    "# Remove section markers\n",
    "\n",
    "\n",
    "################################################################\n",
    "# Earlier version, deprecated for memory inefficiency but\n",
    "# should be functionally equivalent\n",
    "################################################################\n",
    "#def remove_section_markers(my_string):\n",
    "#    while True:\n",
    "#        start = my_string.find('<')\n",
    "#        if start == -1:\n",
    "#            break\n",
    "#        else:\n",
    "#            end = my_string.find('>')\n",
    "#            my_string = (my_string[0:start] + my_string[end+2:])\n",
    "#    return my_string\n",
    "##################################################################\n",
    "\n",
    "def remove_section_markers(my_string):\n",
    "    result = []\n",
    "    i = 0\n",
    "    n = len(my_string)\n",
    "    while i < n:\n",
    "        if my_string[i] == '<':\n",
    "            # Skip until after the following \", \"\n",
    "            comma = my_string.find('>', i)\n",
    "            if comma == -1:\n",
    "                break  # no closing comma, stop\n",
    "            i = comma + 2  # skip comma and the space\n",
    "        else:\n",
    "            result.append(my_string[i])\n",
    "            i += 1\n",
    "    return ''.join(result)\n",
    "\n",
    "# just a basic test on the first chord sequence\n",
    "my_string = chord_data.iloc[0]['chords']\n",
    "print(my_string)\n",
    "print()\n",
    "print(remove_section_markers(my_string))"
   ]
  },
  {
   "cell_type": "code",
   "execution_count": 9,
   "id": "d2d81928-7e41-4d72-a9aa-b421228b770e",
   "metadata": {},
   "outputs": [
    {
     "data": {
      "text/html": [
       "<div>\n",
       "<style scoped>\n",
       "    .dataframe tbody tr th:only-of-type {\n",
       "        vertical-align: middle;\n",
       "    }\n",
       "\n",
       "    .dataframe tbody tr th {\n",
       "        vertical-align: top;\n",
       "    }\n",
       "\n",
       "    .dataframe thead th {\n",
       "        text-align: right;\n",
       "    }\n",
       "</style>\n",
       "<table border=\"1\" class=\"dataframe\">\n",
       "  <thead>\n",
       "    <tr style=\"text-align: right;\">\n",
       "      <th></th>\n",
       "      <th>chords</th>\n",
       "      <th>genres</th>\n",
       "    </tr>\n",
       "  </thead>\n",
       "  <tbody>\n",
       "    <tr>\n",
       "      <th>0</th>\n",
       "      <td>C,F,C,E7,Amin,C,F,C,G7,C,F,C,E7,Amin,C,F,G7,C,...</td>\n",
       "      <td>classic country pop</td>\n",
       "    </tr>\n",
       "    <tr>\n",
       "      <th>1</th>\n",
       "      <td>E,D,A/Cs,E,D,A/Cs,E,D,A/Cs,E,D,A/Cs,E,D,A/Cs,E...</td>\n",
       "      <td>alternative metal\"alternative rock\"nu metal\"pe...</td>\n",
       "    </tr>\n",
       "    <tr>\n",
       "      <th>2</th>\n",
       "      <td>D,Dmaj7,D,Dmaj7,Emin,A,D,G,Emin,A,D,G,Emin,A,D...</td>\n",
       "      <td>NaN</td>\n",
       "    </tr>\n",
       "    <tr>\n",
       "      <th>3</th>\n",
       "      <td>C,G,C,G,C,F,Dmin,G,Dmin,G,C,G,C,F,Dmin,G,Dmin,...</td>\n",
       "      <td>modern country pop</td>\n",
       "    </tr>\n",
       "    <tr>\n",
       "      <th>4</th>\n",
       "      <td>C,G,C,G,C,G,C,G,C,Bmin,Emin,Amin,D,G,C,D,G,C,D...</td>\n",
       "      <td>classic opm\"opm</td>\n",
       "    </tr>\n",
       "  </tbody>\n",
       "</table>\n",
       "</div>"
      ],
      "text/plain": [
       "                                              chords  \\\n",
       "0  C,F,C,E7,Amin,C,F,C,G7,C,F,C,E7,Amin,C,F,G7,C,...   \n",
       "1  E,D,A/Cs,E,D,A/Cs,E,D,A/Cs,E,D,A/Cs,E,D,A/Cs,E...   \n",
       "2  D,Dmaj7,D,Dmaj7,Emin,A,D,G,Emin,A,D,G,Emin,A,D...   \n",
       "3  C,G,C,G,C,F,Dmin,G,Dmin,G,C,G,C,F,Dmin,G,Dmin,...   \n",
       "4  C,G,C,G,C,G,C,G,C,Bmin,Emin,Amin,D,G,C,D,G,C,D...   \n",
       "\n",
       "                                              genres  \n",
       "0                                classic country pop  \n",
       "1  alternative metal\"alternative rock\"nu metal\"pe...  \n",
       "2                                                NaN  \n",
       "3                                 modern country pop  \n",
       "4                                    classic opm\"opm  "
      ]
     },
     "execution_count": 9,
     "metadata": {},
     "output_type": "execute_result"
    }
   ],
   "source": [
    "# removing section markers from all rows\n",
    "chord_data.loc[:,'chords'] = chord_data['chords'].apply(remove_section_markers)\n",
    "chord_data.head()"
   ]
  },
  {
   "cell_type": "code",
   "execution_count": 10,
   "id": "ee3c90b0-666b-48f1-9166-c180752bc2a3",
   "metadata": {},
   "outputs": [
    {
     "name": "stdout",
     "output_type": "stream",
     "text": [
      "E,D,A/Cs,E,D,A/Cs,E,D,A/Cs,E,D,A/Cs,E,D,A/Cs,E,D,A,C,E,G,D,A,E,G,D,A,E,G,D,A,C,D,E,D,A/Cs,E,D,A/Cs,E,D,A/Cs,E,D,A/Cs,E,D,A,C,E,G,D,A,E,G,D,A,E,G,D,A,C,D,E,C,G,D,E,C,G,D,E,C,G,D,C,D,E,G,E,G,D,A,E,G,D,A,E,G,D,A,C,D,E,G,D,A,E,G,D,A,E,G,D,A,C,D,E,C,G,D,E,C,G,D,E,C,G,D,C,D,E\n",
      "\n",
      "E,D,A,D,A,D,A,D,A,D,A,D,A,C,E,G,D,A,E,G,D,A,E,G,D,A,C,D,E,D,A,D,A,D,A,D,A,D,A,C,E,G,D,A,E,G,D,A,E,G,D,A,C,D,E,C,G,D,E,C,G,D,E,C,G,D,C,D,E,G,E,G,D,A,E,G,D,A,E,G,D,A,C,D,E,G,D,A,E,G,D,A,E,G,D,A,C,D,E,C,G,D,E,C,G,D,E,C,G,D,C,D,E\n"
     ]
    }
   ],
   "source": [
    "# Removing inversions\n",
    "\n",
    "################################################################\n",
    "# Earlier version, deprecated for memory inefficiency but\n",
    "# should be functionally equivalent\n",
    "################################################################\n",
    "#def remove_inversions(my_string):\n",
    "#    while True:\n",
    "#        start = my_string.find('/')\n",
    "#        if start == -1:\n",
    "#            break\n",
    "#        else:\n",
    "#            end = my_string.find(',',start)\n",
    "#            my_string = (my_string[0:start] + my_string[end+2:])\n",
    "#    return my_string\n",
    "##################################################################\n",
    "\n",
    "def remove_inversions(my_string):\n",
    "    result = []\n",
    "    i = 0\n",
    "    n = len(my_string)\n",
    "    while i < n:\n",
    "        if my_string[i] == '/':\n",
    "            # Skip until after the following \", \"\n",
    "            comma = my_string.find(',', i)\n",
    "            if comma == -1:\n",
    "                break  # no closing comma, stop\n",
    "            i = comma + 2  # skip comma and the space\n",
    "        else:\n",
    "            result.append(my_string[i])\n",
    "            i += 1\n",
    "    return ''.join(result)\n",
    "\n",
    "# just a basic test on the first chord sequence\n",
    "my_string = chord_data.iloc[1]['chords']\n",
    "print(my_string)\n",
    "print()\n",
    "print(remove_inversions(my_string))"
   ]
  },
  {
   "cell_type": "code",
   "execution_count": 11,
   "id": "3ca0150a-acae-41da-b233-778ddac3c63c",
   "metadata": {},
   "outputs": [
    {
     "data": {
      "text/html": [
       "<div>\n",
       "<style scoped>\n",
       "    .dataframe tbody tr th:only-of-type {\n",
       "        vertical-align: middle;\n",
       "    }\n",
       "\n",
       "    .dataframe tbody tr th {\n",
       "        vertical-align: top;\n",
       "    }\n",
       "\n",
       "    .dataframe thead th {\n",
       "        text-align: right;\n",
       "    }\n",
       "</style>\n",
       "<table border=\"1\" class=\"dataframe\">\n",
       "  <thead>\n",
       "    <tr style=\"text-align: right;\">\n",
       "      <th></th>\n",
       "      <th>chords</th>\n",
       "      <th>genres</th>\n",
       "    </tr>\n",
       "  </thead>\n",
       "  <tbody>\n",
       "    <tr>\n",
       "      <th>0</th>\n",
       "      <td>C,F,C,E7,Amin,C,F,C,G7,C,F,C,E7,Amin,C,F,G7,C,...</td>\n",
       "      <td>classic country pop</td>\n",
       "    </tr>\n",
       "    <tr>\n",
       "      <th>1</th>\n",
       "      <td>E,D,A,D,A,D,A,D,A,D,A,D,A,C,E,G,D,A,E,G,D,A,E,...</td>\n",
       "      <td>alternative metal\"alternative rock\"nu metal\"pe...</td>\n",
       "    </tr>\n",
       "    <tr>\n",
       "      <th>2</th>\n",
       "      <td>D,Dmaj7,D,Dmaj7,Emin,A,D,G,Emin,A,D,G,Emin,A,D...</td>\n",
       "      <td>NaN</td>\n",
       "    </tr>\n",
       "    <tr>\n",
       "      <th>3</th>\n",
       "      <td>C,G,C,G,C,F,Dmin,G,Dmin,G,C,G,C,F,Dmin,G,Dmin,...</td>\n",
       "      <td>modern country pop</td>\n",
       "    </tr>\n",
       "    <tr>\n",
       "      <th>4</th>\n",
       "      <td>C,G,C,G,C,G,C,G,C,Bmin,Emin,Amin,D,G,C,D,G,C,D...</td>\n",
       "      <td>classic opm\"opm</td>\n",
       "    </tr>\n",
       "  </tbody>\n",
       "</table>\n",
       "</div>"
      ],
      "text/plain": [
       "                                              chords  \\\n",
       "0  C,F,C,E7,Amin,C,F,C,G7,C,F,C,E7,Amin,C,F,G7,C,...   \n",
       "1  E,D,A,D,A,D,A,D,A,D,A,D,A,C,E,G,D,A,E,G,D,A,E,...   \n",
       "2  D,Dmaj7,D,Dmaj7,Emin,A,D,G,Emin,A,D,G,Emin,A,D...   \n",
       "3  C,G,C,G,C,F,Dmin,G,Dmin,G,C,G,C,F,Dmin,G,Dmin,...   \n",
       "4  C,G,C,G,C,G,C,G,C,Bmin,Emin,Amin,D,G,C,D,G,C,D...   \n",
       "\n",
       "                                              genres  \n",
       "0                                classic country pop  \n",
       "1  alternative metal\"alternative rock\"nu metal\"pe...  \n",
       "2                                                NaN  \n",
       "3                                 modern country pop  \n",
       "4                                    classic opm\"opm  "
      ]
     },
     "execution_count": 11,
     "metadata": {},
     "output_type": "execute_result"
    }
   ],
   "source": [
    "# removing inversions on the whole data set\n",
    "chord_data.loc[:,'chords'] = chord_data['chords'].apply(remove_inversions)\n",
    "chord_data.head()"
   ]
  },
  {
   "cell_type": "markdown",
   "id": "478bd0c4-ab97-49e0-bf2e-8aefc967704d",
   "metadata": {},
   "source": [
    "Now that the chord data is cleaned up into a format I like, I'll convert chords to vectors."
   ]
  },
  {
   "cell_type": "code",
   "execution_count": 13,
   "id": "14d4fa60-190b-466e-99fb-0b7c90dcafbb",
   "metadata": {},
   "outputs": [],
   "source": [
    "# some code written by the Chordonomicon authors for converting chord names to vector\n",
    "\n",
    "# Read the mapping CSV file\n",
    "chord_relations = pd.read_csv('../data/chords_mapping.csv')\n",
    "\n",
    "# Create a dictionary with keys the \"chords\" and values the \"degrees\"\n",
    "chord_degrees = dict(zip(chord_relations['Chords'], chord_relations['Degrees']))\n",
    "for key, value in chord_degrees.items():\n",
    "    chord_degrees[key] = ast.literal_eval(value)"
   ]
  },
  {
   "cell_type": "markdown",
   "id": "ef9ec1f2-475a-4aa0-b0f8-8a88eb28219a",
   "metadata": {},
   "source": [
    "Now chord_degrees is a dictionary where keys are chord names of the form 'Cmaj','E9', etc. and values are binary vectors of length 12, with 1 in a position where that note is included."
   ]
  },
  {
   "cell_type": "code",
   "execution_count": 15,
   "id": "b2adc846-f084-47b8-bb00-9ec2360a844c",
   "metadata": {},
   "outputs": [
    {
     "name": "stdout",
     "output_type": "stream",
     "text": [
      "[1, 0, 0, 0, 1, 0, 0, 1, 0, 0, 0, 0]\n",
      "[0, 1, 0, 0, 0, 1, 0, 0, 1, 0, 0, 0]\n",
      "[0, 0, 1, 0, 0, 0, 1, 0, 0, 1, 0, 0]\n"
     ]
    }
   ],
   "source": [
    "print(chord_degrees['C'])\n",
    "print(chord_degrees['Cs'])\n",
    "print(chord_degrees['D'])"
   ]
  },
  {
   "cell_type": "code",
   "execution_count": 16,
   "id": "c3119574-f461-43fd-8b53-ae97e77517ad",
   "metadata": {},
   "outputs": [
    {
     "name": "stdout",
     "output_type": "stream",
     "text": [
      "[[0.06845819 0.1728776  0.5498252  0.00987757]\n",
      " [0.82212376 0.20332511 0.67170763 0.51871111]]\n",
      "\n",
      "[[0.06845819 0.82212376]\n",
      " [0.1728776  0.20332511]\n",
      " [0.5498252  0.67170763]\n",
      " [0.00987757 0.51871111]]\n"
     ]
    }
   ],
   "source": [
    "my_array = np.random.rand(2,4)\n",
    "print(my_array)\n",
    "print()\n",
    "print(my_array.transpose())"
   ]
  },
  {
   "cell_type": "code",
   "execution_count": 17,
   "id": "2f94bb9f-30e8-4c53-8a16-cae21b55b8bf",
   "metadata": {},
   "outputs": [
    {
     "name": "stdout",
     "output_type": "stream",
     "text": [
      "C,F,C,E7,Amin,C,F,C,G7,C,F,C,E7,Amin,C,F,G7,C,F,C,E7,Amin,C,F,C,G7,C,F,C,E7,Amin,C,F,G7,C,F,C,F,C,G,C,F,C,E7,Amin,C,F,G7,C,D,G,D,G,D,A,D,G,D,Fs7,Bmin,D,G,A7,D,G,A7,D\n",
      "\n",
      "[[0 0 0 1 0 0 0 0 1 0 0 0 1 0 0 0 1 0 0 0 1 0 0 0 0 1 0 0 0 1 0 0 0 1 0 0 0 0 0 1 0 0 0 1 0 0 0 1 0 0 1 0 1 0 0 0 1 0 0 1 0 1 0 0 1 0 0]\n",
      " [0 0 0 0 0 0 0 0 0 0 0 0 0 0 0 0 0 0 0 0 0 0 0 0 0 0 0 0 0 0 0 0 0 0 0 0 0 0 0 0 0 0 0 0 0 0 0 0 0 0 0 0 0 0 0 0 0 0 1 0 0 0 0 0 0 0 0]\n",
      " [0 1 0 0 1 0 1 0 0 0 1 0 0 1 0 1 0 0 1 0 0 1 0 1 0 0 0 1 0 0 1 0 1 0 0 1 0 1 0 0 0 1 0 0 1 0 1 0 0 1 0 1 0 1 1 1 0 1 0 0 1 0 1 1 0 1 1]\n",
      " [0 0 0 1 0 0 0 0 0 0 0 0 1 0 0 0 0 0 0 0 1 0 0 0 0 0 0 0 0 1 0 0 0 0 0 0 0 0 0 0 0 0 0 1 0 0 0 0 0 0 0 0 0 0 0 0 0 0 0 0 0 0 0 0 0 0 0]\n",
      " [1 0 1 0 0 1 0 1 1 1 0 1 0 0 1 0 1 1 0 1 0 0 1 0 1 1 1 0 1 0 0 1 0 1 1 0 1 0 1 1 1 0 1 0 0 1 0 1 1 0 1 0 1 0 0 0 1 0 0 0 0 1 1 0 1 1 0]\n",
      " [0 0 0 0 0 0 0 0 0 0 0 0 0 0 0 0 0 0 0 0 0 0 0 0 0 0 0 0 0 0 0 0 0 0 0 0 0 0 0 0 0 0 0 0 0 0 0 0 0 1 0 1 0 1 0 1 0 1 1 1 1 0 0 1 0 0 1]\n",
      " [0 1 0 0 0 0 1 0 1 0 1 0 0 0 0 1 1 0 1 0 0 0 0 1 0 1 0 1 0 0 0 0 1 1 0 1 0 1 0 0 0 1 0 0 0 0 1 1 0 0 0 0 0 0 0 0 0 0 0 0 0 0 0 0 0 0 0]\n",
      " [1 0 1 1 1 1 0 1 0 1 0 1 1 1 1 0 0 1 0 1 1 1 1 0 1 0 1 0 1 1 1 1 0 0 1 0 1 0 1 0 1 0 1 1 1 1 0 0 1 0 0 0 0 0 1 0 0 0 1 0 0 0 1 0 0 1 0]\n",
      " [0 0 0 0 0 0 0 0 0 0 0 0 0 0 0 0 0 0 0 0 0 0 0 0 0 0 0 0 0 0 0 0 0 0 0 0 0 0 0 0 0 0 0 0 0 0 0 0 0 0 0 0 0 0 0 0 0 0 0 0 0 0 0 0 0 0 0]\n",
      " [0 0 0 1 0 0 0 0 1 0 0 0 1 0 0 0 1 0 0 0 1 0 0 0 0 1 0 0 0 1 0 0 0 1 0 0 0 0 0 1 0 0 0 1 0 0 0 1 0 1 1 1 1 1 0 1 1 1 0 1 1 1 0 1 1 0 1]\n",
      " [0 0 0 0 0 0 0 0 0 0 0 0 0 0 0 0 0 0 0 0 0 0 0 0 0 0 0 0 0 0 0 0 0 0 0 0 0 0 0 0 0 0 0 0 0 0 0 0 0 0 0 0 0 0 1 0 0 0 1 0 0 0 1 0 0 1 0]\n",
      " [1 1 1 0 1 1 1 1 0 1 1 1 0 1 1 1 0 1 1 1 0 1 1 1 1 0 1 1 1 0 1 1 1 0 1 1 1 1 1 0 1 1 1 0 1 1 1 0 1 0 0 0 0 0 0 0 0 0 0 0 0 0 0 0 0 0 0]]\n"
     ]
    }
   ],
   "source": [
    "# function to convert a string of comma-separated chords into a matrix, where each column denotes a chord\n",
    "def string_to_chord_matrix(chord_sequence):\n",
    "    # split sequence over commas, then look up each chord in chord_degrees dictionary by the key value (c here)\n",
    "    return np.array([chord_degrees[c][::-1] for c in chord_sequence.split(',')]).transpose()\n",
    "\n",
    "np.set_printoptions(linewidth=400)\n",
    "my_string = chord_data.iloc[0]['chords']\n",
    "print(my_string)\n",
    "print()\n",
    "print(string_to_chord_matrix(my_string))"
   ]
  },
  {
   "cell_type": "code",
   "execution_count": 18,
   "id": "6455527b-5cc7-4fa7-b82a-cade5ac6471f",
   "metadata": {},
   "outputs": [
    {
     "name": "stdout",
     "output_type": "stream",
     "text": [
      "C,F,C,E7,Amin,C,F,C,G7,C,F,C,E7,Amin,C,F,G7,C,F,C,E7,Amin,C,F,C,G7,C,F,C,E7,Amin,C,F,G7,C,F,C,F,C,G,C,F,C,E7,Amin,C,F,G7,C,D,G,D,G,D,A,D,G,D,Fs7,Bmin,D,G,A7,D,G,A7,D\n",
      "\n",
      "[[0 0 0 1 0 0 0 0 1 0 0 0 1 0 0 0 1 0 0 0 1 0 0 0 0 1 0 0 0 1 0 0 0 1 0 0 0 0 0 1 0 0 0 1 0 0 0 1 0 0 1 0 1 0 0 0 1 0 0 1 0 1 0 0 1 0 0]\n",
      " [0 0 0 0 0 0 0 0 0 0 0 0 0 0 0 0 0 0 0 0 0 0 0 0 0 0 0 0 0 0 0 0 0 0 0 0 0 0 0 0 0 0 0 0 0 0 0 0 0 0 0 0 0 0 0 0 0 0 1 0 0 0 0 0 0 0 0]\n",
      " [0 1 0 0 1 0 1 0 0 0 1 0 0 1 0 1 0 0 1 0 0 1 0 1 0 0 0 1 0 0 1 0 1 0 0 1 0 1 0 0 0 1 0 0 1 0 1 0 0 1 0 1 0 1 1 1 0 1 0 0 1 0 1 1 0 1 1]\n",
      " [0 0 0 1 0 0 0 0 0 0 0 0 1 0 0 0 0 0 0 0 1 0 0 0 0 0 0 0 0 1 0 0 0 0 0 0 0 0 0 0 0 0 0 1 0 0 0 0 0 0 0 0 0 0 0 0 0 0 0 0 0 0 0 0 0 0 0]\n",
      " [1 0 1 0 0 1 0 1 1 1 0 1 0 0 1 0 1 1 0 1 0 0 1 0 1 1 1 0 1 0 0 1 0 1 1 0 1 0 1 1 1 0 1 0 0 1 0 1 1 0 1 0 1 0 0 0 1 0 0 0 0 1 1 0 1 1 0]\n",
      " [0 0 0 0 0 0 0 0 0 0 0 0 0 0 0 0 0 0 0 0 0 0 0 0 0 0 0 0 0 0 0 0 0 0 0 0 0 0 0 0 0 0 0 0 0 0 0 0 0 1 0 1 0 1 0 1 0 1 1 1 1 0 0 1 0 0 1]\n",
      " [0 1 0 0 0 0 1 0 1 0 1 0 0 0 0 1 1 0 1 0 0 0 0 1 0 1 0 1 0 0 0 0 1 1 0 1 0 1 0 0 0 1 0 0 0 0 1 1 0 0 0 0 0 0 0 0 0 0 0 0 0 0 0 0 0 0 0]\n",
      " [1 0 1 1 1 1 0 1 0 1 0 1 1 1 1 0 0 1 0 1 1 1 1 0 1 0 1 0 1 1 1 1 0 0 1 0 1 0 1 0 1 0 1 1 1 1 0 0 1 0 0 0 0 0 1 0 0 0 1 0 0 0 1 0 0 1 0]\n",
      " [0 0 0 0 0 0 0 0 0 0 0 0 0 0 0 0 0 0 0 0 0 0 0 0 0 0 0 0 0 0 0 0 0 0 0 0 0 0 0 0 0 0 0 0 0 0 0 0 0 0 0 0 0 0 0 0 0 0 0 0 0 0 0 0 0 0 0]\n",
      " [0 0 0 1 0 0 0 0 1 0 0 0 1 0 0 0 1 0 0 0 1 0 0 0 0 1 0 0 0 1 0 0 0 1 0 0 0 0 0 1 0 0 0 1 0 0 0 1 0 1 1 1 1 1 0 1 1 1 0 1 1 1 0 1 1 0 1]\n",
      " [0 0 0 0 0 0 0 0 0 0 0 0 0 0 0 0 0 0 0 0 0 0 0 0 0 0 0 0 0 0 0 0 0 0 0 0 0 0 0 0 0 0 0 0 0 0 0 0 0 0 0 0 0 0 1 0 0 0 1 0 0 0 1 0 0 1 0]\n",
      " [1 1 1 0 1 1 1 1 0 1 1 1 0 1 1 1 0 1 1 1 0 1 1 1 1 0 1 1 1 0 1 1 1 0 1 1 1 1 1 0 1 1 1 0 1 1 1 0 1 0 0 0 0 0 0 0 0 0 0 0 0 0 0 0 0 0 0]]\n",
      "\n",
      "E,D,A,D,A,D,A,D,A,D,A,D,A,C,E,G,D,A,E,G,D,A,E,G,D,A,C,D,E,D,A,D,A,D,A,D,A,D,A,C,E,G,D,A,E,G,D,A,E,G,D,A,C,D,E,C,G,D,E,C,G,D,E,C,G,D,C,D,E,G,E,G,D,A,E,G,D,A,E,G,D,A,C,D,E,G,D,A,E,G,D,A,E,G,D,A,C,D,E,C,G,D,E,C,G,D,E,C,G,D,C,D,E\n",
      "\n",
      "[[1 0 0 ... 0 0 1]\n",
      " [0 0 0 ... 0 0 0]\n",
      " [0 1 1 ... 0 1 0]\n",
      " ...\n",
      " [0 1 0 ... 0 1 0]\n",
      " [0 0 1 ... 0 0 0]\n",
      " [0 0 0 ... 1 0 0]]\n",
      "\n",
      "D,Dmaj7,D,Dmaj7,Emin,A,D,G,Emin,A,D,G,Emin,A,D,G,Emin,A,D,Emin,A,D,G,Emin,A,D,G,Dmin,A,D,G,Dmin,A,D,G,Emin,A,D,G,Emin,A,D,G,Emin,A,D,G,Emin,A,D,G,Emin,A,D,G,Emin,A,D,Emin,A,D,G,Emin,A,D,G,Dmin,A,D,G,Dmin,A,D,G,Emin,A,D,G,Dmin,A,D,G,Dmin,A,D,G,Dmin,A,D,Emin,A,D,G,Emin,A,D,G,Dmin,A,D,G,Dmin,A,D,G,Emin,A,D,G,Dmin,A,D,G,Dmin,A,D,G,Dmin,A,D,G,Emin,A,D,G,D\n",
      "\n",
      "[[0 0 0 ... 0 1 0]\n",
      " [0 0 0 ... 0 0 0]\n",
      " [1 1 1 ... 1 0 1]\n",
      " ...\n",
      " [1 1 1 ... 1 1 1]\n",
      " [0 1 0 ... 0 0 0]\n",
      " [0 0 0 ... 0 0 0]]\n",
      "\n"
     ]
    }
   ],
   "source": [
    "for i in range(3):\n",
    "    my_string = chord_data.iloc[i]['chords']\n",
    "    print(my_string)\n",
    "    print()\n",
    "    print(string_to_chord_matrix(my_string))\n",
    "    print()"
   ]
  },
  {
   "cell_type": "markdown",
   "id": "e573e38a-d9b7-4586-a69a-416fd1e86be0",
   "metadata": {},
   "source": [
    "Now to apply this to every song in the database. Here goes."
   ]
  },
  {
   "cell_type": "code",
   "execution_count": 48,
   "id": "0810b948-3c6f-4863-9a86-c09830916e59",
   "metadata": {},
   "outputs": [
    {
     "name": "stdout",
     "output_type": "stream",
     "text": [
      "[1, 0, 0, 0, 0, 1, 0, 0, 0, 1, 0, 0]\n",
      "[0, 0, 0, 0, 1, 0, 0, 0, 1, 0, 0, 1]\n",
      "[0, 0, 0, 0, 1, 0, 0, 0, 1, 0, 0, 1]\n"
     ]
    }
   ],
   "source": [
    "print(chord_degrees['F'])\n",
    "print(chord_degrees['E'])\n",
    "chord_degrees['Fb'] = chord_degrees['E']\n",
    "print(chord_degrees['Fb'])"
   ]
  },
  {
   "cell_type": "code",
   "execution_count": 50,
   "id": "b78aaa77-aa85-4e6c-850a-5c64e1669605",
   "metadata": {},
   "outputs": [
    {
     "ename": "KeyError",
     "evalue": "'Amin7maj7'",
     "output_type": "error",
     "traceback": [
      "\u001b[1;31m---------------------------------------------------------------------------\u001b[0m",
      "\u001b[1;31mKeyError\u001b[0m                                  Traceback (most recent call last)",
      "Cell \u001b[1;32mIn[50], line 1\u001b[0m\n\u001b[1;32m----> 1\u001b[0m chord_data\u001b[38;5;241m.\u001b[39mloc[:,\u001b[38;5;124m'\u001b[39m\u001b[38;5;124mchords\u001b[39m\u001b[38;5;124m'\u001b[39m] \u001b[38;5;241m=\u001b[39m chord_data[\u001b[38;5;124m'\u001b[39m\u001b[38;5;124mchords\u001b[39m\u001b[38;5;124m'\u001b[39m]\u001b[38;5;241m.\u001b[39mapply(string_to_chord_matrix)\n\u001b[0;32m      2\u001b[0m chord_data\u001b[38;5;241m.\u001b[39mhead()\n",
      "File \u001b[1;32m~\\anaconda3\\Lib\\site-packages\\pandas\\core\\series.py:4924\u001b[0m, in \u001b[0;36mSeries.apply\u001b[1;34m(self, func, convert_dtype, args, by_row, **kwargs)\u001b[0m\n\u001b[0;32m   4789\u001b[0m \u001b[38;5;28;01mdef\u001b[39;00m \u001b[38;5;21mapply\u001b[39m(\n\u001b[0;32m   4790\u001b[0m     \u001b[38;5;28mself\u001b[39m,\n\u001b[0;32m   4791\u001b[0m     func: AggFuncType,\n\u001b[1;32m   (...)\u001b[0m\n\u001b[0;32m   4796\u001b[0m     \u001b[38;5;241m*\u001b[39m\u001b[38;5;241m*\u001b[39mkwargs,\n\u001b[0;32m   4797\u001b[0m ) \u001b[38;5;241m-\u001b[39m\u001b[38;5;241m>\u001b[39m DataFrame \u001b[38;5;241m|\u001b[39m Series:\n\u001b[0;32m   4798\u001b[0m \u001b[38;5;250m    \u001b[39m\u001b[38;5;124;03m\"\"\"\u001b[39;00m\n\u001b[0;32m   4799\u001b[0m \u001b[38;5;124;03m    Invoke function on values of Series.\u001b[39;00m\n\u001b[0;32m   4800\u001b[0m \n\u001b[1;32m   (...)\u001b[0m\n\u001b[0;32m   4915\u001b[0m \u001b[38;5;124;03m    dtype: float64\u001b[39;00m\n\u001b[0;32m   4916\u001b[0m \u001b[38;5;124;03m    \"\"\"\u001b[39;00m\n\u001b[0;32m   4917\u001b[0m     \u001b[38;5;28;01mreturn\u001b[39;00m SeriesApply(\n\u001b[0;32m   4918\u001b[0m         \u001b[38;5;28mself\u001b[39m,\n\u001b[0;32m   4919\u001b[0m         func,\n\u001b[0;32m   4920\u001b[0m         convert_dtype\u001b[38;5;241m=\u001b[39mconvert_dtype,\n\u001b[0;32m   4921\u001b[0m         by_row\u001b[38;5;241m=\u001b[39mby_row,\n\u001b[0;32m   4922\u001b[0m         args\u001b[38;5;241m=\u001b[39margs,\n\u001b[0;32m   4923\u001b[0m         kwargs\u001b[38;5;241m=\u001b[39mkwargs,\n\u001b[1;32m-> 4924\u001b[0m     )\u001b[38;5;241m.\u001b[39mapply()\n",
      "File \u001b[1;32m~\\anaconda3\\Lib\\site-packages\\pandas\\core\\apply.py:1427\u001b[0m, in \u001b[0;36mSeriesApply.apply\u001b[1;34m(self)\u001b[0m\n\u001b[0;32m   1424\u001b[0m     \u001b[38;5;28;01mreturn\u001b[39;00m \u001b[38;5;28mself\u001b[39m\u001b[38;5;241m.\u001b[39mapply_compat()\n\u001b[0;32m   1426\u001b[0m \u001b[38;5;66;03m# self.func is Callable\u001b[39;00m\n\u001b[1;32m-> 1427\u001b[0m \u001b[38;5;28;01mreturn\u001b[39;00m \u001b[38;5;28mself\u001b[39m\u001b[38;5;241m.\u001b[39mapply_standard()\n",
      "File \u001b[1;32m~\\anaconda3\\Lib\\site-packages\\pandas\\core\\apply.py:1507\u001b[0m, in \u001b[0;36mSeriesApply.apply_standard\u001b[1;34m(self)\u001b[0m\n\u001b[0;32m   1501\u001b[0m \u001b[38;5;66;03m# row-wise access\u001b[39;00m\n\u001b[0;32m   1502\u001b[0m \u001b[38;5;66;03m# apply doesn't have a `na_action` keyword and for backward compat reasons\u001b[39;00m\n\u001b[0;32m   1503\u001b[0m \u001b[38;5;66;03m# we need to give `na_action=\"ignore\"` for categorical data.\u001b[39;00m\n\u001b[0;32m   1504\u001b[0m \u001b[38;5;66;03m# TODO: remove the `na_action=\"ignore\"` when that default has been changed in\u001b[39;00m\n\u001b[0;32m   1505\u001b[0m \u001b[38;5;66;03m#  Categorical (GH51645).\u001b[39;00m\n\u001b[0;32m   1506\u001b[0m action \u001b[38;5;241m=\u001b[39m \u001b[38;5;124m\"\u001b[39m\u001b[38;5;124mignore\u001b[39m\u001b[38;5;124m\"\u001b[39m \u001b[38;5;28;01mif\u001b[39;00m \u001b[38;5;28misinstance\u001b[39m(obj\u001b[38;5;241m.\u001b[39mdtype, CategoricalDtype) \u001b[38;5;28;01melse\u001b[39;00m \u001b[38;5;28;01mNone\u001b[39;00m\n\u001b[1;32m-> 1507\u001b[0m mapped \u001b[38;5;241m=\u001b[39m obj\u001b[38;5;241m.\u001b[39m_map_values(\n\u001b[0;32m   1508\u001b[0m     mapper\u001b[38;5;241m=\u001b[39mcurried, na_action\u001b[38;5;241m=\u001b[39maction, convert\u001b[38;5;241m=\u001b[39m\u001b[38;5;28mself\u001b[39m\u001b[38;5;241m.\u001b[39mconvert_dtype\n\u001b[0;32m   1509\u001b[0m )\n\u001b[0;32m   1511\u001b[0m \u001b[38;5;28;01mif\u001b[39;00m \u001b[38;5;28mlen\u001b[39m(mapped) \u001b[38;5;129;01mand\u001b[39;00m \u001b[38;5;28misinstance\u001b[39m(mapped[\u001b[38;5;241m0\u001b[39m], ABCSeries):\n\u001b[0;32m   1512\u001b[0m     \u001b[38;5;66;03m# GH#43986 Need to do list(mapped) in order to get treated as nested\u001b[39;00m\n\u001b[0;32m   1513\u001b[0m     \u001b[38;5;66;03m#  See also GH#25959 regarding EA support\u001b[39;00m\n\u001b[0;32m   1514\u001b[0m     \u001b[38;5;28;01mreturn\u001b[39;00m obj\u001b[38;5;241m.\u001b[39m_constructor_expanddim(\u001b[38;5;28mlist\u001b[39m(mapped), index\u001b[38;5;241m=\u001b[39mobj\u001b[38;5;241m.\u001b[39mindex)\n",
      "File \u001b[1;32m~\\anaconda3\\Lib\\site-packages\\pandas\\core\\base.py:921\u001b[0m, in \u001b[0;36mIndexOpsMixin._map_values\u001b[1;34m(self, mapper, na_action, convert)\u001b[0m\n\u001b[0;32m    918\u001b[0m \u001b[38;5;28;01mif\u001b[39;00m \u001b[38;5;28misinstance\u001b[39m(arr, ExtensionArray):\n\u001b[0;32m    919\u001b[0m     \u001b[38;5;28;01mreturn\u001b[39;00m arr\u001b[38;5;241m.\u001b[39mmap(mapper, na_action\u001b[38;5;241m=\u001b[39mna_action)\n\u001b[1;32m--> 921\u001b[0m \u001b[38;5;28;01mreturn\u001b[39;00m algorithms\u001b[38;5;241m.\u001b[39mmap_array(arr, mapper, na_action\u001b[38;5;241m=\u001b[39mna_action, convert\u001b[38;5;241m=\u001b[39mconvert)\n",
      "File \u001b[1;32m~\\anaconda3\\Lib\\site-packages\\pandas\\core\\algorithms.py:1743\u001b[0m, in \u001b[0;36mmap_array\u001b[1;34m(arr, mapper, na_action, convert)\u001b[0m\n\u001b[0;32m   1741\u001b[0m values \u001b[38;5;241m=\u001b[39m arr\u001b[38;5;241m.\u001b[39mastype(\u001b[38;5;28mobject\u001b[39m, copy\u001b[38;5;241m=\u001b[39m\u001b[38;5;28;01mFalse\u001b[39;00m)\n\u001b[0;32m   1742\u001b[0m \u001b[38;5;28;01mif\u001b[39;00m na_action \u001b[38;5;129;01mis\u001b[39;00m \u001b[38;5;28;01mNone\u001b[39;00m:\n\u001b[1;32m-> 1743\u001b[0m     \u001b[38;5;28;01mreturn\u001b[39;00m lib\u001b[38;5;241m.\u001b[39mmap_infer(values, mapper, convert\u001b[38;5;241m=\u001b[39mconvert)\n\u001b[0;32m   1744\u001b[0m \u001b[38;5;28;01melse\u001b[39;00m:\n\u001b[0;32m   1745\u001b[0m     \u001b[38;5;28;01mreturn\u001b[39;00m lib\u001b[38;5;241m.\u001b[39mmap_infer_mask(\n\u001b[0;32m   1746\u001b[0m         values, mapper, mask\u001b[38;5;241m=\u001b[39misna(values)\u001b[38;5;241m.\u001b[39mview(np\u001b[38;5;241m.\u001b[39muint8), convert\u001b[38;5;241m=\u001b[39mconvert\n\u001b[0;32m   1747\u001b[0m     )\n",
      "File \u001b[1;32mlib.pyx:2972\u001b[0m, in \u001b[0;36mpandas._libs.lib.map_infer\u001b[1;34m()\u001b[0m\n",
      "Cell \u001b[1;32mIn[17], line 4\u001b[0m, in \u001b[0;36mstring_to_chord_matrix\u001b[1;34m(chord_sequence)\u001b[0m\n\u001b[0;32m      2\u001b[0m \u001b[38;5;28;01mdef\u001b[39;00m \u001b[38;5;21mstring_to_chord_matrix\u001b[39m(chord_sequence):\n\u001b[0;32m      3\u001b[0m     \u001b[38;5;66;03m# split sequence over commas, then look up each chord in chord_degrees dictionary by the key value (c here)\u001b[39;00m\n\u001b[1;32m----> 4\u001b[0m     \u001b[38;5;28;01mreturn\u001b[39;00m np\u001b[38;5;241m.\u001b[39marray([chord_degrees[c][::\u001b[38;5;241m-\u001b[39m\u001b[38;5;241m1\u001b[39m] \u001b[38;5;28;01mfor\u001b[39;00m c \u001b[38;5;129;01min\u001b[39;00m chord_sequence\u001b[38;5;241m.\u001b[39msplit(\u001b[38;5;124m'\u001b[39m\u001b[38;5;124m,\u001b[39m\u001b[38;5;124m'\u001b[39m)])\u001b[38;5;241m.\u001b[39mtranspose()\n",
      "\u001b[1;31mKeyError\u001b[0m: 'Amin7maj7'"
     ]
    }
   ],
   "source": [
    "# I would like to turn every chord sequence into a matrix\n",
    "# However, there is an obstacle: not every chord in the database is in the chords_mapping.csv data file\n",
    "# For example, Fb (which is enharmonically and mathematically equivalent to E) is missing\n",
    "# This is fixable by doing:\n",
    "chord_degrees['Fb'] = chord_degrees['E']\n",
    "# However, there are other things missing which I am not sure how to remedy. Currently the first key error encountered by running this code is\n",
    "# 'Amin7maj7'\n",
    "# I have no idea what that refers to. Is it a real chord? Or is it just 'Amin7' that got accidentally spliced somehow by my other data processing? I'm not sure.\n",
    "\n",
    "chord_data.loc[:,'chords'] = chord_data['chords'].apply(string_to_chord_matrix)\n",
    "chord_data.head()"
   ]
  }
 ],
 "metadata": {
  "kernelspec": {
   "display_name": "Python 3 (ipykernel)",
   "language": "python",
   "name": "python3"
  },
  "language_info": {
   "codemirror_mode": {
    "name": "ipython",
    "version": 3
   },
   "file_extension": ".py",
   "mimetype": "text/x-python",
   "name": "python",
   "nbconvert_exporter": "python",
   "pygments_lexer": "ipython3",
   "version": "3.12.4"
  }
 },
 "nbformat": 4,
 "nbformat_minor": 5
}
