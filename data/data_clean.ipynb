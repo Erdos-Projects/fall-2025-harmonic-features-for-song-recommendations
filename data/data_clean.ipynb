{
 "cells": [
  {
   "cell_type": "code",
   "execution_count": 145,
   "id": "41d95f3b",
   "metadata": {},
   "outputs": [],
   "source": [
    "import numpy as np\n",
    "import pandas as pd"
   ]
  },
  {
   "cell_type": "markdown",
   "id": "591ae26d",
   "metadata": {},
   "source": [
    "Read csv and standardize NaNs:"
   ]
  },
  {
   "cell_type": "code",
   "execution_count": 146,
   "id": "0376ee78",
   "metadata": {},
   "outputs": [
    {
     "name": "stderr",
     "output_type": "stream",
     "text": [
      "C:\\Users\\matth\\AppData\\Local\\Temp\\ipykernel_26048\\2902310045.py:2: DtypeWarning: Columns (2,3,5,6,7,8,9) have mixed types. Specify dtype option on import or set low_memory=False.\n",
      "  raw_df=pd.read_csv('chordonomicon_raw.csv')\n"
     ]
    }
   ],
   "source": [
    "# csv imported fom https://huggingface.co/datasets/ailsntua/Chordonomicon/blob/main/chordonomicon_v2.csv\n",
    "raw_df=pd.read_csv('chordonomicon_raw.csv')\n",
    "raw_df = raw_df.replace({np.nan: pd.NA})\n"
   ]
  },
  {
   "cell_type": "markdown",
   "id": "5fab7965",
   "metadata": {},
   "source": [
    "Since we are analyzing release dataes, main genre and popularity (via spotify song id), remove any entries that don't have any of these features. In the end, it seems that only 70% of the data could be useful to us."
   ]
  },
  {
   "cell_type": "code",
   "execution_count": 147,
   "id": "ecdea62f",
   "metadata": {},
   "outputs": [
    {
     "name": "stdout",
     "output_type": "stream",
     "text": [
      "(478709, 10)\n"
     ]
    },
    {
     "data": {
      "text/html": [
       "<div>\n",
       "<style scoped>\n",
       "    .dataframe tbody tr th:only-of-type {\n",
       "        vertical-align: middle;\n",
       "    }\n",
       "\n",
       "    .dataframe tbody tr th {\n",
       "        vertical-align: top;\n",
       "    }\n",
       "\n",
       "    .dataframe thead th {\n",
       "        text-align: right;\n",
       "    }\n",
       "</style>\n",
       "<table border=\"1\" class=\"dataframe\">\n",
       "  <thead>\n",
       "    <tr style=\"text-align: right;\">\n",
       "      <th></th>\n",
       "      <th>id</th>\n",
       "      <th>chords</th>\n",
       "      <th>release_date</th>\n",
       "      <th>genres</th>\n",
       "      <th>decade</th>\n",
       "      <th>rock_genre</th>\n",
       "      <th>artist_id</th>\n",
       "      <th>main_genre</th>\n",
       "      <th>spotify_song_id</th>\n",
       "      <th>spotify_artist_id</th>\n",
       "    </tr>\n",
       "  </thead>\n",
       "  <tbody>\n",
       "    <tr>\n",
       "      <th>0</th>\n",
       "      <td>1</td>\n",
       "      <td>&lt;intro_1&gt; C &lt;verse_1&gt; F C E7 Amin C F C G7 C F...</td>\n",
       "      <td>&lt;NA&gt;</td>\n",
       "      <td>'classic country pop'</td>\n",
       "      <td>&lt;NA&gt;</td>\n",
       "      <td>&lt;NA&gt;</td>\n",
       "      <td>artist_1</td>\n",
       "      <td>pop</td>\n",
       "      <td>&lt;NA&gt;</td>\n",
       "      <td>4AIEGdwDzPELXYgM5JaEY5</td>\n",
       "    </tr>\n",
       "    <tr>\n",
       "      <th>1</th>\n",
       "      <td>2</td>\n",
       "      <td>&lt;intro_1&gt; E D A/Cs E D A/Cs &lt;verse_1&gt; E D A/Cs...</td>\n",
       "      <td>2003-01-01</td>\n",
       "      <td>'alternative metal' 'alternative rock' 'nu met...</td>\n",
       "      <td>2000.0</td>\n",
       "      <td>pop rock</td>\n",
       "      <td>artist_2</td>\n",
       "      <td>metal</td>\n",
       "      <td>2ffJZ2r8HxI5DHcmf3BO6c</td>\n",
       "      <td>694QW15WkebjcrWgQHzRYF</td>\n",
       "    </tr>\n",
       "    <tr>\n",
       "      <th>2</th>\n",
       "      <td>3</td>\n",
       "      <td>&lt;intro_1&gt; Csmin &lt;verse_1&gt; A Csmin A Csmin A Cs...</td>\n",
       "      <td>2003-01-01</td>\n",
       "      <td>'alternative metal' 'canadian rock' 'funk meta...</td>\n",
       "      <td>2000.0</td>\n",
       "      <td>canadian rock</td>\n",
       "      <td>artist_3</td>\n",
       "      <td>metal</td>\n",
       "      <td>5KiY8SZEnvCPyIEkFGRR3y</td>\n",
       "      <td>0niJkG4tKkne3zwr7I8n9n</td>\n",
       "    </tr>\n",
       "    <tr>\n",
       "      <th>3</th>\n",
       "      <td>4</td>\n",
       "      <td>&lt;intro_1&gt; D Dmaj7 D Dmaj7 &lt;verse_1&gt; Emin A D G...</td>\n",
       "      <td>2022-09-23</td>\n",
       "      <td>&lt;NA&gt;</td>\n",
       "      <td>2020.0</td>\n",
       "      <td>&lt;NA&gt;</td>\n",
       "      <td>artist_4</td>\n",
       "      <td>&lt;NA&gt;</td>\n",
       "      <td>01TtAcUqyLCRBZq4ZZiQWS</td>\n",
       "      <td>17BfKBemmMGO5ZAK25wraW</td>\n",
       "    </tr>\n",
       "    <tr>\n",
       "      <th>4</th>\n",
       "      <td>5</td>\n",
       "      <td>&lt;intro_1&gt; C &lt;verse_1&gt; G C G C &lt;chorus_1&gt; F Dmi...</td>\n",
       "      <td>2023-02-10</td>\n",
       "      <td>'modern country pop'</td>\n",
       "      <td>2020.0</td>\n",
       "      <td>&lt;NA&gt;</td>\n",
       "      <td>artist_5</td>\n",
       "      <td>pop</td>\n",
       "      <td>3zUecdrWC3IqrNSjhnoF3G</td>\n",
       "      <td>4GGfAshSkqoxpZdoaHm7ky</td>\n",
       "    </tr>\n",
       "  </tbody>\n",
       "</table>\n",
       "</div>"
      ],
      "text/plain": [
       "   id                                             chords release_date  \\\n",
       "0   1  <intro_1> C <verse_1> F C E7 Amin C F C G7 C F...         <NA>   \n",
       "1   2  <intro_1> E D A/Cs E D A/Cs <verse_1> E D A/Cs...   2003-01-01   \n",
       "2   3  <intro_1> Csmin <verse_1> A Csmin A Csmin A Cs...   2003-01-01   \n",
       "3   4  <intro_1> D Dmaj7 D Dmaj7 <verse_1> Emin A D G...   2022-09-23   \n",
       "4   5  <intro_1> C <verse_1> G C G C <chorus_1> F Dmi...   2023-02-10   \n",
       "\n",
       "                                              genres  decade     rock_genre  \\\n",
       "0                              'classic country pop'    <NA>           <NA>   \n",
       "1  'alternative metal' 'alternative rock' 'nu met...  2000.0       pop rock   \n",
       "2  'alternative metal' 'canadian rock' 'funk meta...  2000.0  canadian rock   \n",
       "3                                               <NA>  2020.0           <NA>   \n",
       "4                               'modern country pop'  2020.0           <NA>   \n",
       "\n",
       "  artist_id main_genre         spotify_song_id       spotify_artist_id  \n",
       "0  artist_1        pop                    <NA>  4AIEGdwDzPELXYgM5JaEY5  \n",
       "1  artist_2      metal  2ffJZ2r8HxI5DHcmf3BO6c  694QW15WkebjcrWgQHzRYF  \n",
       "2  artist_3      metal  5KiY8SZEnvCPyIEkFGRR3y  0niJkG4tKkne3zwr7I8n9n  \n",
       "3  artist_4       <NA>  01TtAcUqyLCRBZq4ZZiQWS  17BfKBemmMGO5ZAK25wraW  \n",
       "4  artist_5        pop  3zUecdrWC3IqrNSjhnoF3G  4GGfAshSkqoxpZdoaHm7ky  "
      ]
     },
     "execution_count": 147,
     "metadata": {},
     "output_type": "execute_result"
    }
   ],
   "source": [
    "clean_df=raw_df[raw_df['release_date'].notna() | raw_df['spotify_song_id'].notna() | raw_df['main_genre'].notna()]\n",
    "\n",
    "print(clean_df.shape) \n",
    "clean_df.head()"
   ]
  },
  {
   "cell_type": "markdown",
   "id": "2bead54e",
   "metadata": {},
   "source": [
    "The genre and by extension rock_genre labels seem to specific to be useful. To confirm, check how many unique genres are listed and view some of them"
   ]
  },
  {
   "cell_type": "code",
   "execution_count": 148,
   "id": "d4192f7d",
   "metadata": {},
   "outputs": [
    {
     "name": "stdout",
     "output_type": "stream",
     "text": [
      "4992\n",
      "['danish jazz', 'mexican hip hop', 'dungeon synth', 'bosnian indie', 'uk bass', 'lullaby', 'vintage broadway', 'power-pop punk', 'greek rock', 'greek indie rock', 'raw techno', 'jamaican dancehall', 'trap venezolano', 'classical cello', 'venda pop', 'aesthetic rap', 'musique mahoraise', 'yu-mex', 'japanese post-punk', 'birmingham hip hop']\n"
     ]
    }
   ],
   "source": [
    "#find number of unique genres\n",
    "\n",
    "import random\n",
    "#since each genres entry is a list, split the list into components\n",
    "newlist=[string.split(\"' '\") for string in clean_df[clean_df.genres.notna()].genres]\n",
    "#unnest all the components into one list\n",
    "unnested_list=[j.strip(\"'\") for i in newlist for j in i]\n",
    "#analyze unique elements\n",
    "print(len(set(unnested_list)))\n",
    "print(random.sample(list(set(unnested_list)),20)) #random sample of unique genres"
   ]
  },
  {
   "cell_type": "markdown",
   "id": "42eff4c5",
   "metadata": {},
   "source": [
    "There are 4992 genres and a quick glance shows many are quite specific. This information is likely too precise to be useful and will be dropped. By extension, also drop rock_genre feature. Finally, drop the 'id' feature because this has no useful information."
   ]
  },
  {
   "cell_type": "code",
   "execution_count": 149,
   "id": "331e5e6d",
   "metadata": {},
   "outputs": [
    {
     "data": {
      "text/html": [
       "<div>\n",
       "<style scoped>\n",
       "    .dataframe tbody tr th:only-of-type {\n",
       "        vertical-align: middle;\n",
       "    }\n",
       "\n",
       "    .dataframe tbody tr th {\n",
       "        vertical-align: top;\n",
       "    }\n",
       "\n",
       "    .dataframe thead th {\n",
       "        text-align: right;\n",
       "    }\n",
       "</style>\n",
       "<table border=\"1\" class=\"dataframe\">\n",
       "  <thead>\n",
       "    <tr style=\"text-align: right;\">\n",
       "      <th></th>\n",
       "      <th>chords</th>\n",
       "      <th>release_date</th>\n",
       "      <th>decade</th>\n",
       "      <th>artist_id</th>\n",
       "      <th>main_genre</th>\n",
       "      <th>spotify_song_id</th>\n",
       "      <th>spotify_artist_id</th>\n",
       "    </tr>\n",
       "  </thead>\n",
       "  <tbody>\n",
       "    <tr>\n",
       "      <th>0</th>\n",
       "      <td>&lt;intro_1&gt; C &lt;verse_1&gt; F C E7 Amin C F C G7 C F...</td>\n",
       "      <td>&lt;NA&gt;</td>\n",
       "      <td>&lt;NA&gt;</td>\n",
       "      <td>artist_1</td>\n",
       "      <td>pop</td>\n",
       "      <td>&lt;NA&gt;</td>\n",
       "      <td>4AIEGdwDzPELXYgM5JaEY5</td>\n",
       "    </tr>\n",
       "    <tr>\n",
       "      <th>1</th>\n",
       "      <td>&lt;intro_1&gt; E D A/Cs E D A/Cs &lt;verse_1&gt; E D A/Cs...</td>\n",
       "      <td>2003-01-01</td>\n",
       "      <td>2000.0</td>\n",
       "      <td>artist_2</td>\n",
       "      <td>metal</td>\n",
       "      <td>2ffJZ2r8HxI5DHcmf3BO6c</td>\n",
       "      <td>694QW15WkebjcrWgQHzRYF</td>\n",
       "    </tr>\n",
       "    <tr>\n",
       "      <th>2</th>\n",
       "      <td>&lt;intro_1&gt; Csmin &lt;verse_1&gt; A Csmin A Csmin A Cs...</td>\n",
       "      <td>2003-01-01</td>\n",
       "      <td>2000.0</td>\n",
       "      <td>artist_3</td>\n",
       "      <td>metal</td>\n",
       "      <td>5KiY8SZEnvCPyIEkFGRR3y</td>\n",
       "      <td>0niJkG4tKkne3zwr7I8n9n</td>\n",
       "    </tr>\n",
       "    <tr>\n",
       "      <th>3</th>\n",
       "      <td>&lt;intro_1&gt; D Dmaj7 D Dmaj7 &lt;verse_1&gt; Emin A D G...</td>\n",
       "      <td>2022-09-23</td>\n",
       "      <td>2020.0</td>\n",
       "      <td>artist_4</td>\n",
       "      <td>&lt;NA&gt;</td>\n",
       "      <td>01TtAcUqyLCRBZq4ZZiQWS</td>\n",
       "      <td>17BfKBemmMGO5ZAK25wraW</td>\n",
       "    </tr>\n",
       "    <tr>\n",
       "      <th>4</th>\n",
       "      <td>&lt;intro_1&gt; C &lt;verse_1&gt; G C G C &lt;chorus_1&gt; F Dmi...</td>\n",
       "      <td>2023-02-10</td>\n",
       "      <td>2020.0</td>\n",
       "      <td>artist_5</td>\n",
       "      <td>pop</td>\n",
       "      <td>3zUecdrWC3IqrNSjhnoF3G</td>\n",
       "      <td>4GGfAshSkqoxpZdoaHm7ky</td>\n",
       "    </tr>\n",
       "  </tbody>\n",
       "</table>\n",
       "</div>"
      ],
      "text/plain": [
       "                                              chords release_date  decade  \\\n",
       "0  <intro_1> C <verse_1> F C E7 Amin C F C G7 C F...         <NA>    <NA>   \n",
       "1  <intro_1> E D A/Cs E D A/Cs <verse_1> E D A/Cs...   2003-01-01  2000.0   \n",
       "2  <intro_1> Csmin <verse_1> A Csmin A Csmin A Cs...   2003-01-01  2000.0   \n",
       "3  <intro_1> D Dmaj7 D Dmaj7 <verse_1> Emin A D G...   2022-09-23  2020.0   \n",
       "4  <intro_1> C <verse_1> G C G C <chorus_1> F Dmi...   2023-02-10  2020.0   \n",
       "\n",
       "  artist_id main_genre         spotify_song_id       spotify_artist_id  \n",
       "0  artist_1        pop                    <NA>  4AIEGdwDzPELXYgM5JaEY5  \n",
       "1  artist_2      metal  2ffJZ2r8HxI5DHcmf3BO6c  694QW15WkebjcrWgQHzRYF  \n",
       "2  artist_3      metal  5KiY8SZEnvCPyIEkFGRR3y  0niJkG4tKkne3zwr7I8n9n  \n",
       "3  artist_4       <NA>  01TtAcUqyLCRBZq4ZZiQWS  17BfKBemmMGO5ZAK25wraW  \n",
       "4  artist_5        pop  3zUecdrWC3IqrNSjhnoF3G  4GGfAshSkqoxpZdoaHm7ky  "
      ]
     },
     "execution_count": 149,
     "metadata": {},
     "output_type": "execute_result"
    }
   ],
   "source": [
    "clean_df=clean_df.drop(columns=['id','genres','rock_genre'])\n",
    "clean_df.head()"
   ]
  },
  {
   "cell_type": "markdown",
   "id": "b110fca3",
   "metadata": {},
   "source": [
    "Create a new feature 'chord_dict' by using Iliyana's song_split function to separate the song sections in the 'chords' feature into dictionary entries:"
   ]
  },
  {
   "cell_type": "code",
   "execution_count": 150,
   "id": "4dad8a4e",
   "metadata": {},
   "outputs": [],
   "source": [
    "#copy over Iliyana's code\n",
    "\n",
    "import re\n",
    "\n",
    "# regex to capture tags like <verse 1>, <chorus_2>, <bridge>, etc.\n",
    "TAG = re.compile(r\"<\\s*([^>]+?)\\s*>\", flags=re.IGNORECASE)\n",
    "\n",
    "# Given string of chords partioned into sections, returns dictionary of sections:chords in section.  \n",
    "def song_split(chord_str: str):\n",
    "    s = (chord_str or \"\").strip()\n",
    "\n",
    "    # find all tags and their spans\n",
    "    spans = [(m.group(1).strip(), m.start(), m.end()) for m in TAG.finditer(s)]\n",
    "    if not spans:\n",
    "        return {\"whole\": s}   # no tags → treat the whole thing as one section\n",
    "\n",
    "    # sentinel for the end of the string\n",
    "    spans.append((\"__END__\", len(s), len(s)))\n",
    "\n",
    "    chord_dict = {}\n",
    "    for (name, _, tag_end), (_, next_start, _) in zip(spans, spans[1:]):\n",
    "        if name == \"__END__\":\n",
    "            break\n",
    "        segment = s[tag_end:next_start].strip()\n",
    "        if segment:                     # only keep non-empty segments\n",
    "            chord_dict[name] = segment\n",
    "\n",
    "    return chord_dict\n",
    "\n",
    "# make new 'chord_dict' feature\n",
    "clean_df.insert(1,'chord_dict',clean_df['chords'].apply(song_split))\n",
    "\n"
   ]
  },
  {
   "cell_type": "markdown",
   "id": "7244af6d",
   "metadata": {},
   "source": [
    "Create some more basic features:\n",
    "* num_sections: number of sections the song is split into (verses, choruses, etc.)\n",
    "* tot_chords: the total number of chords listed in the progression\n",
    "* tot_unique_chords: number of unique chords appearing in the progression"
   ]
  },
  {
   "cell_type": "code",
   "execution_count": 151,
   "id": "8855b045",
   "metadata": {},
   "outputs": [],
   "source": [
    "# create num_sections\n",
    "clean_df.insert(2,'num_sections',clean_df['chord_dict'].apply(len))\n"
   ]
  },
  {
   "cell_type": "code",
   "execution_count": 152,
   "id": "9431664a",
   "metadata": {},
   "outputs": [],
   "source": [
    "#helper functions to make tot_chords and tot_unique chords\n",
    "\n",
    "def total_chord_count(dict):\n",
    "    #split each sequence into a list\n",
    "    nest_list=[dict[i].split() for i in dict.keys()]\n",
    "    #concatenate lists\n",
    "    unnest_list=[j for i in nest_list for j in i]\n",
    "    return len(unnest_list)\n",
    "   \n",
    "def unique_chord_count(dict):\n",
    "    #split each sequence into a list\n",
    "    nest_list=[dict[i].split() for i in dict.keys()]\n",
    "    #concatenate lists\n",
    "    unnest_list=[j for i in nest_list for j in i]\n",
    "    return len(set(unnest_list))\n",
    "\n"
   ]
  },
  {
   "cell_type": "code",
   "execution_count": 153,
   "id": "f15fe3ee",
   "metadata": {},
   "outputs": [],
   "source": [
    "#create tot_chords and total_unique chords\n",
    "clean_df.insert(3,'tot_chords',clean_df['chord_dict'].apply(total_chord_count))\n",
    "clean_df.insert(4,'tot_unique_chords',clean_df['chord_dict'].apply(unique_chord_count))"
   ]
  },
  {
   "cell_type": "code",
   "execution_count": 157,
   "id": "ce672b98",
   "metadata": {},
   "outputs": [
    {
     "name": "stderr",
     "output_type": "stream",
     "text": [
      "<>:1: SyntaxWarning: invalid escape sequence '\\c'\n",
      "<>:1: SyntaxWarning: invalid escape sequence '\\c'\n",
      "C:\\Users\\matth\\AppData\\Local\\Temp\\ipykernel_26048\\3968997893.py:1: SyntaxWarning: invalid escape sequence '\\c'\n",
      "  clean_df.to_csv('.\\clean.csv')\n"
     ]
    }
   ],
   "source": [
    "clean_df.to_csv('.\\clean.csv')"
   ]
  },
  {
   "cell_type": "code",
   "execution_count": null,
   "id": "be7458b8",
   "metadata": {},
   "outputs": [],
   "source": []
  }
 ],
 "metadata": {
  "kernelspec": {
   "display_name": "erdos_ds_environment",
   "language": "python",
   "name": "python3"
  },
  "language_info": {
   "codemirror_mode": {
    "name": "ipython",
    "version": 3
   },
   "file_extension": ".py",
   "mimetype": "text/x-python",
   "name": "python",
   "nbconvert_exporter": "python",
   "pygments_lexer": "ipython3",
   "version": "3.12.11"
  }
 },
 "nbformat": 4,
 "nbformat_minor": 5
}
