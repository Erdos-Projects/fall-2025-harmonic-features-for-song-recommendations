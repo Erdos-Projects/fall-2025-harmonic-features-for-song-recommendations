{
 "cells": [
  {
   "cell_type": "code",
   "execution_count": 40,
   "id": "41d95f3b",
   "metadata": {},
   "outputs": [],
   "source": [
    "import numpy as np\n",
    "import pandas as pd\n",
    "from matplotlib import pyplot as plt"
   ]
  },
  {
   "cell_type": "markdown",
   "id": "591ae26d",
   "metadata": {},
   "source": [
    "Read csv and standardize NaNs:"
   ]
  },
  {
   "cell_type": "code",
   "execution_count": 41,
   "id": "0376ee78",
   "metadata": {},
   "outputs": [],
   "source": [
    "# csv imported fom https://huggingface.co/datasets/ailsntua/Chordonomicon/blob/main/chordonomicon_v2.csv\n",
    "raw_df=pd.read_csv('../../data/chordonomicon_raw.csv', low_memory=False)\n",
    "raw_df = raw_df.replace({np.nan: pd.NA})\n"
   ]
  },
  {
   "cell_type": "code",
   "execution_count": 42,
   "id": "e7368fbc",
   "metadata": {},
   "outputs": [
    {
     "data": {
      "text/plain": [
       "(679807, 10)"
      ]
     },
     "execution_count": 42,
     "metadata": {},
     "output_type": "execute_result"
    }
   ],
   "source": [
    "raw_df.shape"
   ]
  },
  {
   "cell_type": "markdown",
   "id": "5fab7965",
   "metadata": {},
   "source": [
    "Since we are analyzing release dates, main genre and popularity (via spotify song id), remove any entries that don't have any of these features. In the end, it seems that only 70% of the data could be useful to us."
   ]
  },
  {
   "cell_type": "code",
   "execution_count": 43,
   "id": "ecdea62f",
   "metadata": {},
   "outputs": [
    {
     "name": "stdout",
     "output_type": "stream",
     "text": [
      "(301564, 10)\n"
     ]
    },
    {
     "data": {
      "text/html": [
       "<div>\n",
       "<style scoped>\n",
       "    .dataframe tbody tr th:only-of-type {\n",
       "        vertical-align: middle;\n",
       "    }\n",
       "\n",
       "    .dataframe tbody tr th {\n",
       "        vertical-align: top;\n",
       "    }\n",
       "\n",
       "    .dataframe thead th {\n",
       "        text-align: right;\n",
       "    }\n",
       "</style>\n",
       "<table border=\"1\" class=\"dataframe\">\n",
       "  <thead>\n",
       "    <tr style=\"text-align: right;\">\n",
       "      <th></th>\n",
       "      <th>id</th>\n",
       "      <th>chords</th>\n",
       "      <th>release_date</th>\n",
       "      <th>genres</th>\n",
       "      <th>decade</th>\n",
       "      <th>rock_genre</th>\n",
       "      <th>artist_id</th>\n",
       "      <th>main_genre</th>\n",
       "      <th>spotify_song_id</th>\n",
       "      <th>spotify_artist_id</th>\n",
       "    </tr>\n",
       "  </thead>\n",
       "  <tbody>\n",
       "    <tr>\n",
       "      <th>1</th>\n",
       "      <td>2</td>\n",
       "      <td>&lt;intro_1&gt; E D A/Cs E D A/Cs &lt;verse_1&gt; E D A/Cs...</td>\n",
       "      <td>2003-01-01</td>\n",
       "      <td>'alternative metal' 'alternative rock' 'nu met...</td>\n",
       "      <td>2000.0</td>\n",
       "      <td>pop rock</td>\n",
       "      <td>artist_2</td>\n",
       "      <td>metal</td>\n",
       "      <td>2ffJZ2r8HxI5DHcmf3BO6c</td>\n",
       "      <td>694QW15WkebjcrWgQHzRYF</td>\n",
       "    </tr>\n",
       "    <tr>\n",
       "      <th>2</th>\n",
       "      <td>3</td>\n",
       "      <td>&lt;intro_1&gt; Csmin &lt;verse_1&gt; A Csmin A Csmin A Cs...</td>\n",
       "      <td>2003-01-01</td>\n",
       "      <td>'alternative metal' 'canadian rock' 'funk meta...</td>\n",
       "      <td>2000.0</td>\n",
       "      <td>canadian rock</td>\n",
       "      <td>artist_3</td>\n",
       "      <td>metal</td>\n",
       "      <td>5KiY8SZEnvCPyIEkFGRR3y</td>\n",
       "      <td>0niJkG4tKkne3zwr7I8n9n</td>\n",
       "    </tr>\n",
       "    <tr>\n",
       "      <th>4</th>\n",
       "      <td>5</td>\n",
       "      <td>&lt;intro_1&gt; C &lt;verse_1&gt; G C G C &lt;chorus_1&gt; F Dmi...</td>\n",
       "      <td>2023-02-10</td>\n",
       "      <td>'modern country pop'</td>\n",
       "      <td>2020.0</td>\n",
       "      <td>&lt;NA&gt;</td>\n",
       "      <td>artist_5</td>\n",
       "      <td>pop</td>\n",
       "      <td>3zUecdrWC3IqrNSjhnoF3G</td>\n",
       "      <td>4GGfAshSkqoxpZdoaHm7ky</td>\n",
       "    </tr>\n",
       "    <tr>\n",
       "      <th>6</th>\n",
       "      <td>7</td>\n",
       "      <td>&lt;intro_1&gt; G Bmin Amin D G Bmin &lt;verse_1&gt; Amin ...</td>\n",
       "      <td>2023-02-10</td>\n",
       "      <td>'modern country pop'</td>\n",
       "      <td>2020.0</td>\n",
       "      <td>&lt;NA&gt;</td>\n",
       "      <td>artist_5</td>\n",
       "      <td>pop</td>\n",
       "      <td>1gh9q0HsS3tVXQypDXp4gf</td>\n",
       "      <td>4GGfAshSkqoxpZdoaHm7ky</td>\n",
       "    </tr>\n",
       "    <tr>\n",
       "      <th>7</th>\n",
       "      <td>8</td>\n",
       "      <td>&lt;intro_1&gt; Fsmin Fsno3d Bno3d E/B Fsno3d Bno3d ...</td>\n",
       "      <td>2023-02-10</td>\n",
       "      <td>'french pop' 'nouvelle chanson francaise'</td>\n",
       "      <td>2020.0</td>\n",
       "      <td>&lt;NA&gt;</td>\n",
       "      <td>artist_7</td>\n",
       "      <td>pop</td>\n",
       "      <td>4y3uAOMHISJ3OOdjPC1FFN</td>\n",
       "      <td>6e3pZKXUxrPfnUPJ960Hd9</td>\n",
       "    </tr>\n",
       "  </tbody>\n",
       "</table>\n",
       "</div>"
      ],
      "text/plain": [
       "   id                                             chords release_date  \\\n",
       "1   2  <intro_1> E D A/Cs E D A/Cs <verse_1> E D A/Cs...   2003-01-01   \n",
       "2   3  <intro_1> Csmin <verse_1> A Csmin A Csmin A Cs...   2003-01-01   \n",
       "4   5  <intro_1> C <verse_1> G C G C <chorus_1> F Dmi...   2023-02-10   \n",
       "6   7  <intro_1> G Bmin Amin D G Bmin <verse_1> Amin ...   2023-02-10   \n",
       "7   8  <intro_1> Fsmin Fsno3d Bno3d E/B Fsno3d Bno3d ...   2023-02-10   \n",
       "\n",
       "                                              genres  decade     rock_genre  \\\n",
       "1  'alternative metal' 'alternative rock' 'nu met...  2000.0       pop rock   \n",
       "2  'alternative metal' 'canadian rock' 'funk meta...  2000.0  canadian rock   \n",
       "4                               'modern country pop'  2020.0           <NA>   \n",
       "6                               'modern country pop'  2020.0           <NA>   \n",
       "7          'french pop' 'nouvelle chanson francaise'  2020.0           <NA>   \n",
       "\n",
       "  artist_id main_genre         spotify_song_id       spotify_artist_id  \n",
       "1  artist_2      metal  2ffJZ2r8HxI5DHcmf3BO6c  694QW15WkebjcrWgQHzRYF  \n",
       "2  artist_3      metal  5KiY8SZEnvCPyIEkFGRR3y  0niJkG4tKkne3zwr7I8n9n  \n",
       "4  artist_5        pop  3zUecdrWC3IqrNSjhnoF3G  4GGfAshSkqoxpZdoaHm7ky  \n",
       "6  artist_5        pop  1gh9q0HsS3tVXQypDXp4gf  4GGfAshSkqoxpZdoaHm7ky  \n",
       "7  artist_7        pop  4y3uAOMHISJ3OOdjPC1FFN  6e3pZKXUxrPfnUPJ960Hd9  "
      ]
     },
     "execution_count": 43,
     "metadata": {},
     "output_type": "execute_result"
    }
   ],
   "source": [
    "clean_df=raw_df[raw_df['release_date'].notna() & raw_df['spotify_song_id'].notna() & raw_df['main_genre'].notna()]\n",
    "\n",
    "print(clean_df.shape) \n",
    "clean_df.head()"
   ]
  },
  {
   "cell_type": "markdown",
   "id": "2bead54e",
   "metadata": {},
   "source": [
    "The genre and by extension rock_genre labels seem too specific to be useful. To confirm, check how many unique genres are listed and view some of them"
   ]
  },
  {
   "cell_type": "code",
   "execution_count": 44,
   "id": "d4192f7d",
   "metadata": {},
   "outputs": [
    {
     "name": "stdout",
     "output_type": "stream",
     "text": [
      "4113\n",
      "['italian underground hip hop', 'talentschau', 'ottawa rap', 'futurepop', 'blues mexicano', 'swedish idol pop', 'soul flow', 'reggaeton chileno', 'german rock', 'dirty south rap', 'glitch pop', 'vietnamese singer-songwriter', 'frankfurt indie', 'aggrotech', 'romanian pop', 'metal ecuatoriano', 'deep dance pop', 'minimal techno', 'russian hyperpop', 'euskal indie']\n"
     ]
    }
   ],
   "source": [
    "#find number of unique genres\n",
    "\n",
    "import random\n",
    "#since each genres entry is a list, split the list into components\n",
    "newlist=[string.split(\"' '\") for string in clean_df[clean_df.genres.notna()].genres]\n",
    "#unnest all the components into one list\n",
    "unnested_list=[j.strip(\"'\") for i in newlist for j in i]\n",
    "#analyze unique elements\n",
    "print(len(set(unnested_list)))\n",
    "print(random.sample(list(set(unnested_list)),20)) #random sample of unique genres"
   ]
  },
  {
   "cell_type": "markdown",
   "id": "42eff4c5",
   "metadata": {},
   "source": [
    "There are 4992 genres and a quick glance shows many are quite specific. This information is likely too precise to be useful and will be dropped. By extension, also drop rock_genre feature. Finally, drop the 'id' feature because this has no useful information, and the artist_id features becasue the spotfiy_artist_id feature makes this redundant."
   ]
  },
  {
   "cell_type": "code",
   "execution_count": 45,
   "id": "331e5e6d",
   "metadata": {},
   "outputs": [
    {
     "data": {
      "text/html": [
       "<div>\n",
       "<style scoped>\n",
       "    .dataframe tbody tr th:only-of-type {\n",
       "        vertical-align: middle;\n",
       "    }\n",
       "\n",
       "    .dataframe tbody tr th {\n",
       "        vertical-align: top;\n",
       "    }\n",
       "\n",
       "    .dataframe thead th {\n",
       "        text-align: right;\n",
       "    }\n",
       "</style>\n",
       "<table border=\"1\" class=\"dataframe\">\n",
       "  <thead>\n",
       "    <tr style=\"text-align: right;\">\n",
       "      <th></th>\n",
       "      <th>chords</th>\n",
       "      <th>release_date</th>\n",
       "      <th>decade</th>\n",
       "      <th>main_genre</th>\n",
       "      <th>spotify_song_id</th>\n",
       "      <th>spotify_artist_id</th>\n",
       "    </tr>\n",
       "  </thead>\n",
       "  <tbody>\n",
       "    <tr>\n",
       "      <th>1</th>\n",
       "      <td>&lt;intro_1&gt; E D A/Cs E D A/Cs &lt;verse_1&gt; E D A/Cs...</td>\n",
       "      <td>2003-01-01</td>\n",
       "      <td>2000.0</td>\n",
       "      <td>metal</td>\n",
       "      <td>2ffJZ2r8HxI5DHcmf3BO6c</td>\n",
       "      <td>694QW15WkebjcrWgQHzRYF</td>\n",
       "    </tr>\n",
       "    <tr>\n",
       "      <th>2</th>\n",
       "      <td>&lt;intro_1&gt; Csmin &lt;verse_1&gt; A Csmin A Csmin A Cs...</td>\n",
       "      <td>2003-01-01</td>\n",
       "      <td>2000.0</td>\n",
       "      <td>metal</td>\n",
       "      <td>5KiY8SZEnvCPyIEkFGRR3y</td>\n",
       "      <td>0niJkG4tKkne3zwr7I8n9n</td>\n",
       "    </tr>\n",
       "    <tr>\n",
       "      <th>4</th>\n",
       "      <td>&lt;intro_1&gt; C &lt;verse_1&gt; G C G C &lt;chorus_1&gt; F Dmi...</td>\n",
       "      <td>2023-02-10</td>\n",
       "      <td>2020.0</td>\n",
       "      <td>pop</td>\n",
       "      <td>3zUecdrWC3IqrNSjhnoF3G</td>\n",
       "      <td>4GGfAshSkqoxpZdoaHm7ky</td>\n",
       "    </tr>\n",
       "    <tr>\n",
       "      <th>6</th>\n",
       "      <td>&lt;intro_1&gt; G Bmin Amin D G Bmin &lt;verse_1&gt; Amin ...</td>\n",
       "      <td>2023-02-10</td>\n",
       "      <td>2020.0</td>\n",
       "      <td>pop</td>\n",
       "      <td>1gh9q0HsS3tVXQypDXp4gf</td>\n",
       "      <td>4GGfAshSkqoxpZdoaHm7ky</td>\n",
       "    </tr>\n",
       "    <tr>\n",
       "      <th>7</th>\n",
       "      <td>&lt;intro_1&gt; Fsmin Fsno3d Bno3d E/B Fsno3d Bno3d ...</td>\n",
       "      <td>2023-02-10</td>\n",
       "      <td>2020.0</td>\n",
       "      <td>pop</td>\n",
       "      <td>4y3uAOMHISJ3OOdjPC1FFN</td>\n",
       "      <td>6e3pZKXUxrPfnUPJ960Hd9</td>\n",
       "    </tr>\n",
       "  </tbody>\n",
       "</table>\n",
       "</div>"
      ],
      "text/plain": [
       "                                              chords release_date  decade  \\\n",
       "1  <intro_1> E D A/Cs E D A/Cs <verse_1> E D A/Cs...   2003-01-01  2000.0   \n",
       "2  <intro_1> Csmin <verse_1> A Csmin A Csmin A Cs...   2003-01-01  2000.0   \n",
       "4  <intro_1> C <verse_1> G C G C <chorus_1> F Dmi...   2023-02-10  2020.0   \n",
       "6  <intro_1> G Bmin Amin D G Bmin <verse_1> Amin ...   2023-02-10  2020.0   \n",
       "7  <intro_1> Fsmin Fsno3d Bno3d E/B Fsno3d Bno3d ...   2023-02-10  2020.0   \n",
       "\n",
       "  main_genre         spotify_song_id       spotify_artist_id  \n",
       "1      metal  2ffJZ2r8HxI5DHcmf3BO6c  694QW15WkebjcrWgQHzRYF  \n",
       "2      metal  5KiY8SZEnvCPyIEkFGRR3y  0niJkG4tKkne3zwr7I8n9n  \n",
       "4        pop  3zUecdrWC3IqrNSjhnoF3G  4GGfAshSkqoxpZdoaHm7ky  \n",
       "6        pop  1gh9q0HsS3tVXQypDXp4gf  4GGfAshSkqoxpZdoaHm7ky  \n",
       "7        pop  4y3uAOMHISJ3OOdjPC1FFN  6e3pZKXUxrPfnUPJ960Hd9  "
      ]
     },
     "execution_count": 45,
     "metadata": {},
     "output_type": "execute_result"
    }
   ],
   "source": [
    "clean_df=clean_df.drop(columns=['id','artist_id','genres','rock_genre'])\n",
    "clean_df.head()"
   ]
  },
  {
   "cell_type": "markdown",
   "id": "ba1ea318",
   "metadata": {},
   "source": [
    "If we take a quick look at the decade feature, we see that decades from 1890-1940 appear very sporadically, in fact these decades combined account for less than .07% of all data with a decade listed. "
   ]
  },
  {
   "cell_type": "code",
   "execution_count": 46,
   "id": "18cda08b",
   "metadata": {},
   "outputs": [
    {
     "name": "stdout",
     "output_type": "stream",
     "text": [
      "decade\n",
      "2010.0    128614\n",
      "2000.0     68686\n",
      "1990.0     33016\n",
      "2020.0     31532\n",
      "1980.0     16491\n",
      "1970.0     13808\n",
      "1960.0      7916\n",
      "1950.0      1296\n",
      "1940.0        83\n",
      "1930.0        58\n",
      "1920.0        40\n",
      "1890.0        23\n",
      "1900.0         1\n",
      "Name: count, dtype: int64\n"
     ]
    },
    {
     "data": {
      "image/png": "[encoded data removed]",
      "text/plain": [
       "<Figure size 640x480 with 1 Axes>"
      ]
     },
     "metadata": {},
     "output_type": "display_data"
    }
   ],
   "source": [
    "yrs=clean_df['decade'].value_counts()\n",
    "print(yrs)\n",
    "plt.bar(yrs.index,yrs,width=4)\n",
    "plt.xlabel('Decade')\n",
    "plt.ylabel('Number of Songs')\n",
    "plt.show()"
   ]
  },
  {
   "cell_type": "markdown",
   "id": "3148231b",
   "metadata": {},
   "source": [
    "This class imbalance is far to large for these decades to be of any use, so we will restrict our study to decades from the 1950's on. "
   ]
  },
  {
   "cell_type": "code",
   "execution_count": 47,
   "id": "b31061ee",
   "metadata": {},
   "outputs": [],
   "source": [
    "clean_df=clean_df[(clean_df['decade']>1940) | clean_df['decade'].isna()==True]\n"
   ]
  },
  {
   "cell_type": "markdown",
   "id": "591434a5",
   "metadata": {},
   "source": [
    "Looking at the main_genre feature also shows some imbalance, but not as drastic as the decade feature so we retain all genres here."
   ]
  },
  {
   "cell_type": "code",
   "execution_count": 48,
   "id": "2bb25024",
   "metadata": {},
   "outputs": [
    {
     "name": "stdout",
     "output_type": "stream",
     "text": [
      "main_genre\n",
      "pop            72598\n",
      "rock           57501\n",
      "country        44902\n",
      "alternative    42255\n",
      "pop rock       33995\n",
      "punk           14381\n",
      "metal          10129\n",
      "rap             8765\n",
      "soul            6158\n",
      "jazz            5306\n",
      "reggae          3309\n",
      "electronic      2060\n",
      "Name: count, dtype: int64\n"
     ]
    },
    {
     "data": {
      "text/plain": [
       "Text(0, 0.5, 'Main Genre')"
      ]
     },
     "execution_count": 48,
     "metadata": {},
     "output_type": "execute_result"
    },
    {
     "data": {
      "image/png": "[encoded data removed]",
      "text/plain": [
       "<Figure size 640x480 with 1 Axes>"
      ]
     },
     "metadata": {},
     "output_type": "display_data"
    }
   ],
   "source": [
    "grs=clean_df['main_genre'].value_counts()\n",
    "print(grs)\n",
    "plt.barh(grs.index,grs)\n",
    "plt.xlabel('Number of Songs')\n",
    "plt.ylabel('Main Genre')"
   ]
  },
  {
   "cell_type": "markdown",
   "id": "b110fca3",
   "metadata": {},
   "source": [
    "Create a new feature 'chord_dict' by using Juan's song_split function to separate the song sections in the 'chords' feature into dictionary entries:"
   ]
  },
  {
   "cell_type": "code",
   "execution_count": 49,
   "id": "4dad8a4e",
   "metadata": {},
   "outputs": [],
   "source": [
    "#copy over Juan's code, edited to fix bug that occurs when two sections have the same name\n",
    "\n",
    "import re\n",
    "\n",
    "# regex to capture tags like <verse_1>, <chorus_2>, <bridge>, etc.\n",
    "TAG = re.compile(r\"<\\s*([^>]+?)\\s*>\", flags=re.IGNORECASE)\n",
    "\n",
    "# Given string of chords partitioned into sections, returns dictionary of sections:chords in section.\n",
    "def song_split(chord_str: str):\n",
    "    s = (chord_str or \"\").strip()\n",
    "\n",
    "    # find all tags and their spans\n",
    "    spans = [(m.group(1).strip(), m.start(), m.end()) for m in TAG.finditer(s)]\n",
    "    if not spans:\n",
    "        return {\"whole\": s}  # no tags → treat the whole thing as one section\n",
    "\n",
    "    # sentinel for the end of the string\n",
    "    spans.append((\"__END__\", len(s), len(s)))\n",
    "\n",
    "    chord_dict = {}\n",
    "    for (name, tag_start, tag_end), (_, next_start, _) in zip(spans, spans[1:]):\n",
    "        if name == \"__END__\":\n",
    "            break\n",
    "        # Get the segment between the end of the current tag and the start of the next tag\n",
    "        segment = s[tag_end:next_start].strip()\n",
    "        if segment:  # only keep non-empty segments\n",
    "            # If the section already exists, concatenate the new segment to the existing string\n",
    "            if name in chord_dict:\n",
    "                chord_dict[name] += \" \" + segment\n",
    "            else:\n",
    "                chord_dict[name] = segment\n",
    "\n",
    "    return chord_dict\n",
    "\n",
    "# make new 'chord_dict' feature\n",
    "clean_df.insert(1,'chord_dict',clean_df['chords'].apply(song_split))\n",
    "\n"
   ]
  },
  {
   "cell_type": "markdown",
   "id": "7244af6d",
   "metadata": {},
   "source": [
    "Create some more basic features:\n",
    "* num_sections: number of sections the song is split into (verses, choruses, etc.)\n",
    "* tot_chords: the total number of chords listed in the progression\n",
    "* tot_unique_chords: number of unique chords appearing in the progression"
   ]
  },
  {
   "cell_type": "code",
   "execution_count": 50,
   "id": "8855b045",
   "metadata": {},
   "outputs": [],
   "source": [
    "# create num_sections\n",
    "clean_df.insert(2,'num_sections',clean_df['chord_dict'].apply(len))\n"
   ]
  },
  {
   "cell_type": "code",
   "execution_count": 51,
   "id": "9431664a",
   "metadata": {},
   "outputs": [],
   "source": [
    "#helper functions to make tot_chords and tot_unique chords\n",
    "\n",
    "def total_chord_count(dict):\n",
    "    #split each sequence into a list\n",
    "    nest_list=[dict[i].split() for i in dict.keys()]\n",
    "    #concatenate lists\n",
    "    unnest_list=[j for i in nest_list for j in i]\n",
    "    return len(unnest_list)\n",
    "   \n",
    "def unique_chord_count(dict):\n",
    "    #split each sequence into a list\n",
    "    nest_list=[dict[i].split() for i in dict.keys()]\n",
    "    #concatenate lists\n",
    "    unnest_list=[j for i in nest_list for j in i]\n",
    "    return len(set(unnest_list))\n",
    "\n"
   ]
  },
  {
   "cell_type": "code",
   "execution_count": 52,
   "id": "f15fe3ee",
   "metadata": {},
   "outputs": [],
   "source": [
    "#create tot_chords and total_unique chords\n",
    "clean_df.insert(3,'tot_chords',clean_df['chord_dict'].apply(total_chord_count))\n",
    "clean_df.insert(4,'tot_unique_chords',clean_df['chord_dict'].apply(unique_chord_count))"
   ]
  },
  {
   "cell_type": "markdown",
   "id": "67d26e65",
   "metadata": {},
   "source": [
    "Taking a quick peek at tot_chords, there are many entries that have only a few (<10) chord changes"
   ]
  },
  {
   "cell_type": "code",
   "execution_count": 53,
   "id": "9b5f7ffd",
   "metadata": {},
   "outputs": [
    {
     "data": {
      "text/plain": [
       "tot_chords\n",
       "1        84\n",
       "2        34\n",
       "3        69\n",
       "4       126\n",
       "5       332\n",
       "       ... \n",
       "1551      1\n",
       "1601      1\n",
       "1648      1\n",
       "2011      1\n",
       "2261      1\n",
       "Name: count, Length: 490, dtype: int64"
      ]
     },
     "execution_count": 53,
     "metadata": {},
     "output_type": "execute_result"
    }
   ],
   "source": [
    "clean_df.tot_chords.value_counts().sort_index()"
   ]
  },
  {
   "cell_type": "markdown",
   "id": "4a92d2a9",
   "metadata": {},
   "source": [
    "If we are using n-grams of up to length 5 as features, then we need to remove all data entries having 5 or fewer total chords."
   ]
  },
  {
   "cell_type": "code",
   "execution_count": 54,
   "id": "56d685d7",
   "metadata": {},
   "outputs": [
    {
     "data": {
      "text/plain": [
       "(300714, 10)"
      ]
     },
     "execution_count": 54,
     "metadata": {},
     "output_type": "execute_result"
    }
   ],
   "source": [
    "clean_df=clean_df[clean_df['tot_chords']>5]\n",
    "clean_df=clean_df.reset_index(drop=True) #update row indices after removing data points\n",
    "clean_df.shape"
   ]
  },
  {
   "cell_type": "markdown",
   "id": "72b933c1",
   "metadata": {},
   "source": [
    "I naive measure of song complexity would be the ratio of the number of unique chords to the total number of chords. Add this feature to the data as unique_chord_density."
   ]
  },
  {
   "cell_type": "code",
   "execution_count": 55,
   "id": "86bba14f",
   "metadata": {},
   "outputs": [],
   "source": [
    "clean_df.insert(5,'unique_chord_density',clean_df['tot_unique_chords']/clean_df['tot_chords'])"
   ]
  },
  {
   "cell_type": "markdown",
   "id": "40784e21",
   "metadata": {},
   "source": [
    "By extension, the number of unique 2,3,4 and 5-grams as as a ratio to the total number of chords could also be a complexity measure. Write a helper function to create new columns for unique n-gram density."
   ]
  },
  {
   "cell_type": "code",
   "execution_count": 56,
   "id": "fe15770e",
   "metadata": {},
   "outputs": [],
   "source": [
    "def unique_n_density(dict,n):\n",
    "    #split each sequence into a list\n",
    "    nest_list=[dict[i].split() for i in dict.keys()]\n",
    "    \n",
    "    #concatenate lists\n",
    "    unnest_list=[j for i in nest_list for j in i]\n",
    "    unique=[]\n",
    "    no_unique=0\n",
    "    \n",
    "    #check sequential n-grams for uniqueness\n",
    "    for i in range(len(unnest_list)-n+1):\n",
    "        if unnest_list[i:i+n] not in unique:\n",
    "            unique.append(unnest_list[i:i+n])\n",
    "            no_unique+=1\n",
    "    \n",
    "    return(no_unique/len(unnest_list))"
   ]
  },
  {
   "cell_type": "markdown",
   "id": "4dfa98d4",
   "metadata": {},
   "source": [
    "Add these features to the dataset: unique_2gram_density, unique_3gram_density, unique_4gram_density, unique_5gram_density"
   ]
  },
  {
   "cell_type": "code",
   "execution_count": 57,
   "id": "e8889a4c",
   "metadata": {},
   "outputs": [],
   "source": [
    "clean_df.insert(6,'unique_2gram_density',clean_df['chord_dict'].apply(unique_n_density,n=2))\n",
    "clean_df.insert(7,'unique_3gram_density',clean_df['chord_dict'].apply(unique_n_density,n=3))\n",
    "clean_df.insert(8,'unique_4gram_density',clean_df['chord_dict'].apply(unique_n_density,n=4))\n",
    "clean_df.insert(9,'unique_5gram_density',clean_df['chord_dict'].apply(unique_n_density,n=5))"
   ]
  },
  {
   "cell_type": "markdown",
   "id": "43507624",
   "metadata": {},
   "source": [
    "Another useful measure of song complexity could be the difference between the number of unique 2-grams and number of unique chords, normalized by the total number of chords. This is because a song which repeats the same progression over and over will have the same number of unique chords and number of unique 2-grams. For example, a song that repeats I-IV-V-I over and over has three unique chords (I,IV,V) and three unique 2-grams ([I,IV],[IV,V],[V,I]). If the motif changes or the key modulates, the difference should capture this."
   ]
  },
  {
   "cell_type": "code",
   "execution_count": 58,
   "id": "4dbd2a31",
   "metadata": {},
   "outputs": [],
   "source": [
    "unique_diff=(clean_df['unique_2gram_density']-clean_df['unique_chord_density'])\n",
    "clean_df.insert(10,'unique_2gram_difference',unique_diff)"
   ]
  },
  {
   "cell_type": "code",
   "execution_count": 19,
   "id": "ce672b98",
   "metadata": {},
   "outputs": [],
   "source": [
    "clean_df.to_csv('../../data/clean.csv')"
   ]
  }
 ],
 "metadata": {
  "kernelspec": {
   "display_name": "erdos_ds_environment",
   "language": "python",
   "name": "python3"
  },
  "language_info": {
   "codemirror_mode": {
    "name": "ipython",
    "version": 3
   },
   "file_extension": ".py",
   "mimetype": "text/x-python",
   "name": "python",
   "nbconvert_exporter": "python",
   "pygments_lexer": "ipython3",
   "version": "3.12.11"
  }
 },
 "nbformat": 4,
 "nbformat_minor": 5
}
