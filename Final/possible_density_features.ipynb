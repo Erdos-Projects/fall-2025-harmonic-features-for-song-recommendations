{
 "cells": [
  {
   "cell_type": "code",
   "execution_count": 34,
   "id": "41d95f3b",
   "metadata": {},
   "outputs": [],
   "source": [
    "import numpy as np\n",
    "import pandas as pd"
   ]
  },
  {
   "cell_type": "markdown",
   "id": "591ae26d",
   "metadata": {},
   "source": [
    "Read training set:"
   ]
  },
  {
   "cell_type": "code",
   "execution_count": 35,
   "id": "0376ee78",
   "metadata": {},
   "outputs": [],
   "source": [
    "path_to_train='../../data/final_train.csv'\n",
    "df=pd.read_csv(path_to_train, low_memory=False)"
   ]
  },
  {
   "cell_type": "markdown",
   "id": "b110fca3",
   "metadata": {},
   "source": [
    "Some final features to test:\n",
    "* unique_chord_density: number of unique chords divided by total number of chords\n",
    "* unique_2gram_density: number of unique 2-grams divided by total number of chords\n",
    "* unique_5gram_density: number of unique 5-grams divided by total number of chords\n",
    "\n",
    "3 and 4-gram densities are not included because they are fairly correlated with the 2 and 5-gram densities."
   ]
  },
  {
   "cell_type": "code",
   "execution_count": null,
   "id": "4dad8a4e",
   "metadata": {},
   "outputs": [],
   "source": [
    "#temporary helper functions to find the total number of chords listed in each song\n",
    "\n",
    "import re\n",
    "\n",
    "# regex to capture tags like <verse_1>, <chorus_2>, <bridge>, etc.\n",
    "TAG = re.compile(r\"<\\s*([^>]+?)\\s*>\", flags=re.IGNORECASE)\n",
    "\n",
    "# Given string of chords partitioned into sections, returns dictionary of sections:chords in section.\n",
    "def song_split(chord_str: str):\n",
    "    s = (chord_str or \"\").strip()\n",
    "\n",
    "    # find all tags and their spans\n",
    "    spans = [(m.group(1).strip(), m.start(), m.end()) for m in TAG.finditer(s)]\n",
    "    if not spans:\n",
    "        return {\"whole\": s}  # no tags → treat the whole thing as one section\n",
    "\n",
    "    # sentinel for the end of the string\n",
    "    spans.append((\"__END__\", len(s), len(s)))\n",
    "\n",
    "    chord_dict = {}\n",
    "    for (name, tag_start, tag_end), (_, next_start, _) in zip(spans, spans[1:]):\n",
    "        if name == \"__END__\":\n",
    "            break\n",
    "        # Get the segment between the end of the current tag and the start of the next tag\n",
    "        segment = s[tag_end:next_start].strip()\n",
    "        if segment:  # only keep non-empty segments\n",
    "            # If the section already exists, concatenate the new segment to the existing string\n",
    "            if name in chord_dict:\n",
    "                chord_dict[name] += \" \" + segment\n",
    "            else:\n",
    "                chord_dict[name] = segment\n",
    "\n",
    "    return chord_dict\n",
    "\n",
    "\n",
    "\n",
    "#Given a sections:chords dictionary, return the total number of unique n-grams\n",
    "def unique_n_density(dict,n):\n",
    "    #split each sequence into a list\n",
    "    nest_list=[dict[i].split() for i in dict.keys()]\n",
    "    \n",
    "    #concatenate lists\n",
    "    unnest_list=[j for i in nest_list for j in i]\n",
    "    unique=[]\n",
    "    no_unique=0\n",
    "    \n",
    "    #check sequential n-grams for uniqueness\n",
    "    for i in range(len(unnest_list)-n+1):\n",
    "        if unnest_list[i:i+n] not in unique:\n",
    "            unique.append(unnest_list[i:i+n])\n",
    "            no_unique+=1\n",
    "    \n",
    "    return(no_unique/len(unnest_list))\n",
    "\n",
    "\n",
    "# make new temporary 'chord_dict' feature\n",
    "df.insert(loc=1,column='chord_dict',\n",
    "                value=df['chords'].apply(song_split))\n",
    "\n"
   ]
  },
  {
   "cell_type": "code",
   "execution_count": null,
   "id": "9431664a",
   "metadata": {},
   "outputs": [],
   "source": [
    "#insert features\n",
    "df.insert(1,'unique_chord_density',df['chord_dict'].apply(unique_n_density,n=1))\n",
    "df.insert(1,'unique_2gram_density',df['chord_dict'].apply(unique_n_density,n=2))\n",
    "df.insert(1,'unique_5gram_density',df['chord_dict'].apply(unique_n_density,n=5))\n"
   ]
  },
  {
   "cell_type": "code",
   "execution_count": null,
   "id": "ce672b98",
   "metadata": {},
   "outputs": [],
   "source": [
    "#save expanded df\n",
    "path_to_save='../../data/expanded_final_train.csv'\n",
    "df.to_csv(path_to_save)"
   ]
  }
 ],
 "metadata": {
  "kernelspec": {
   "display_name": "erdos_ds_environment",
   "language": "python",
   "name": "python3"
  },
  "language_info": {
   "codemirror_mode": {
    "name": "ipython",
    "version": 3
   },
   "file_extension": ".py",
   "mimetype": "text/x-python",
   "name": "python",
   "nbconvert_exporter": "python",
   "pygments_lexer": "ipython3",
   "version": "3.12.11"
  }
 },
 "nbformat": 4,
 "nbformat_minor": 5
}
