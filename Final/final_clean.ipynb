{
 "cells": [
  {
   "cell_type": "code",
   "execution_count": 3,
   "id": "41d95f3b",
   "metadata": {},
   "outputs": [],
   "source": [
    "import numpy as np\n",
    "import pandas as pd"
   ]
  },
  {
   "cell_type": "code",
   "execution_count": 4,
   "id": "0376ee78",
   "metadata": {},
   "outputs": [],
   "source": [
    "#import raw data\n",
    "path_to_raw_data='../../data/chordonomicon_raw.csv'\n",
    "raw_df=pd.read_csv(path_to_raw_data, low_memory=False)"
   ]
  },
  {
   "cell_type": "markdown",
   "id": "b78ba10e",
   "metadata": {},
   "source": [
    "Since our target variables are decade, genre and popularity, remove all entries that have NA for any of the decade, main_genre and spotify_song_id (can be linked to Spotify data to get popularity metric) features."
   ]
  },
  {
   "cell_type": "code",
   "execution_count": 5,
   "id": "ecdea62f",
   "metadata": {},
   "outputs": [],
   "source": [
    "#standardize NA's\n",
    "raw_df = raw_df.replace({np.nan: pd.NA})\n",
    "#filter raw_df\n",
    "clean_df=raw_df[raw_df['release_date'].notna() & raw_df['spotify_song_id'].notna() & \n",
    "                raw_df['main_genre'].notna()]"
   ]
  },
  {
   "cell_type": "markdown",
   "id": "2bead54e",
   "metadata": {},
   "source": [
    "We will build all our predictive features from the chords feature, so filter the cleaned dataset to have four columns: chords, decade, main_genre and spotify_song_id"
   ]
  },
  {
   "cell_type": "code",
   "execution_count": 6,
   "id": "87c668a6",
   "metadata": {},
   "outputs": [],
   "source": [
    "clean_df=clean_df[['chords','decade','main_genre','spotify_song_id']]"
   ]
  },
  {
   "cell_type": "markdown",
   "id": "fc4ce46c",
   "metadata": {},
   "source": [
    "The original dataset covers all decades from 1890-2020, but there is extreme class inbalance due to few entries from the 1890s-1940s. Remove these decades."
   ]
  },
  {
   "cell_type": "code",
   "execution_count": 7,
   "id": "b31061ee",
   "metadata": {},
   "outputs": [],
   "source": [
    "clean_df=clean_df[clean_df['decade']>1940]"
   ]
  },
  {
   "cell_type": "markdown",
   "id": "08b59d8e",
   "metadata": {},
   "source": [
    "If we are using n-grams of up to length 5 as features, then we need to remove all data entries having 5 or fewer total chords."
   ]
  },
  {
   "cell_type": "code",
   "execution_count": 8,
   "id": "4dad8a4e",
   "metadata": {},
   "outputs": [],
   "source": [
    "#helper functions to find the total number of chords listed in each song\n",
    "\n",
    "import re\n",
    "\n",
    "# regex to capture tags like <verse_1>, <chorus_2>, <bridge>, etc.\n",
    "TAG = re.compile(r\"<\\s*([^>]+?)\\s*>\", flags=re.IGNORECASE)\n",
    "\n",
    "# Given string of chords partitioned into sections, returns dictionary of sections:chords in section.\n",
    "def song_split(chord_str: str):\n",
    "    s = (chord_str or \"\").strip()\n",
    "\n",
    "    # find all tags and their spans\n",
    "    spans = [(m.group(1).strip(), m.start(), m.end()) for m in TAG.finditer(s)]\n",
    "    if not spans:\n",
    "        return {\"whole\": s}  # no tags → treat the whole thing as one section\n",
    "\n",
    "    # sentinel for the end of the string\n",
    "    spans.append((\"__END__\", len(s), len(s)))\n",
    "\n",
    "    chord_dict = {}\n",
    "    for (name, tag_start, tag_end), (_, next_start, _) in zip(spans, spans[1:]):\n",
    "        if name == \"__END__\":\n",
    "            break\n",
    "        # Get the segment between the end of the current tag and the start of the next tag\n",
    "        segment = s[tag_end:next_start].strip()\n",
    "        if segment:  # only keep non-empty segments\n",
    "            # If the section already exists, concatenate the new segment to the existing string\n",
    "            if name in chord_dict:\n",
    "                chord_dict[name] += \" \" + segment\n",
    "            else:\n",
    "                chord_dict[name] = segment\n",
    "\n",
    "    return chord_dict\n",
    "\n",
    "#Given a sections:chords dictionary, return the total number of chords\n",
    "def total_chord_count(dict):\n",
    "    #split each sequence into a list\n",
    "    nest_list=[dict[i].split() for i in dict.keys()]\n",
    "    #concatenate lists\n",
    "    unnest_list=[j for i in nest_list for j in i]\n",
    "    return len(unnest_list)\n",
    "\n",
    "# make new temporary 'chord_dict' and total_chords' features\n",
    "clean_df.insert(loc=4,column='chord_dict',\n",
    "                value=clean_df['chords'].apply(song_split))\n",
    "clean_df.insert(loc=5,column='total_chords',\n",
    "                value=clean_df['chord_dict'].apply(total_chord_count))"
   ]
  },
  {
   "cell_type": "code",
   "execution_count": 9,
   "id": "3c07e3d1",
   "metadata": {},
   "outputs": [],
   "source": [
    "#remove entries with 5 or fewer total chords\n",
    "clean_df=clean_df[clean_df['total_chords']>5]"
   ]
  },
  {
   "cell_type": "markdown",
   "id": "8229d83e",
   "metadata": {},
   "source": [
    "There is a single song in the dataset which contains an unrecognized chord 'sC', drop this entry."
   ]
  },
  {
   "cell_type": "code",
   "execution_count": 10,
   "id": "524ecd84",
   "metadata": {},
   "outputs": [],
   "source": [
    "final_df=clean_df[clean_df['spotify_song_id']!='0cUssfb9LDMpEXy812iWCO']"
   ]
  },
  {
   "cell_type": "code",
   "execution_count": 11,
   "id": "56d685d7",
   "metadata": {},
   "outputs": [],
   "source": [
    "#update row indices to account for removed data points\n",
    "final_df=final_df.reset_index(drop=True)"
   ]
  },
  {
   "cell_type": "code",
   "execution_count": 12,
   "id": "8bd8b17a",
   "metadata": {},
   "outputs": [],
   "source": [
    "# remove temporary rows\n",
    "final_df=final_df.drop(columns=['chord_dict','total_chords'])"
   ]
  },
  {
   "cell_type": "code",
   "execution_count": 13,
   "id": "477a817b-bc6f-460e-bf1a-c2e25b8dd810",
   "metadata": {},
   "outputs": [],
   "source": [
    "# add in a simplified chords column which doesn't have section labels, inversions, and is comma-separated\n",
    "def replace_space_with_comma(my_string):\n",
    "    return my_string.replace(\" \",\",\")\n",
    "\n",
    "def remove_section_markers(my_string):\n",
    "    result = []\n",
    "    i = 0\n",
    "    n = len(my_string)\n",
    "    while i < n:\n",
    "        if my_string[i] == '<':\n",
    "            # Skip until after the following \", \"\n",
    "            j = my_string.find('>', i)\n",
    "            if j == -1:\n",
    "                break  # no closing '>', stop\n",
    "            i = j + 2  # skip '>,' and the space\n",
    "        else:\n",
    "            result.append(my_string[i])\n",
    "            i += 1\n",
    "    assert('<' not in result)\n",
    "    assert('>' not in result)\n",
    "    return ''.join(result)\n",
    "    \n",
    "def remove_inversions(my_string):\n",
    "    result = []\n",
    "    i = 0\n",
    "    n = len(my_string)\n",
    "    while i < n:\n",
    "        if my_string[i] == '/':\n",
    "            # Skip until after the following \", \"\n",
    "            j = my_string.find(',', i)\n",
    "            if j == -1:\n",
    "                break  # no closing comma, stop\n",
    "            i = j  # skip comma\n",
    "        else:\n",
    "            result.append(my_string[i])\n",
    "            i += 1\n",
    "    return ''.join(result)\n",
    "\n",
    "def clean_up_chord_string(my_string):\n",
    "    return remove_inversions(\n",
    "        remove_section_markers(\n",
    "            replace_space_with_comma(my_string)))\n",
    "\n",
    "final_df.insert(loc = 1,\n",
    "                column = 'simplified_chords',\n",
    "                value = final_df['chords'].apply(clean_up_chord_string),\n",
    "                allow_duplicates = False)"
   ]
  },
  {
   "cell_type": "code",
   "execution_count": 14,
   "id": "b17e824b",
   "metadata": {},
   "outputs": [
    {
     "data": {
      "text/html": [
       "<div>\n",
       "<style scoped>\n",
       "    .dataframe tbody tr th:only-of-type {\n",
       "        vertical-align: middle;\n",
       "    }\n",
       "\n",
       "    .dataframe tbody tr th {\n",
       "        vertical-align: top;\n",
       "    }\n",
       "\n",
       "    .dataframe thead th {\n",
       "        text-align: right;\n",
       "    }\n",
       "</style>\n",
       "<table border=\"1\" class=\"dataframe\">\n",
       "  <thead>\n",
       "    <tr style=\"text-align: right;\">\n",
       "      <th></th>\n",
       "      <th>chords</th>\n",
       "      <th>simplified_chords</th>\n",
       "      <th>decade</th>\n",
       "      <th>main_genre</th>\n",
       "      <th>spotify_song_id</th>\n",
       "    </tr>\n",
       "  </thead>\n",
       "  <tbody>\n",
       "    <tr>\n",
       "      <th>0</th>\n",
       "      <td>&lt;intro_1&gt; E D A/Cs E D A/Cs &lt;verse_1&gt; E D A/Cs...</td>\n",
       "      <td>E,D,A,E,D,A,E,D,A,E,D,A,E,D,A,E,D,A,C,E,G,D,A,...</td>\n",
       "      <td>2000.0</td>\n",
       "      <td>metal</td>\n",
       "      <td>2ffJZ2r8HxI5DHcmf3BO6c</td>\n",
       "    </tr>\n",
       "    <tr>\n",
       "      <th>1</th>\n",
       "      <td>&lt;intro_1&gt; Csmin &lt;verse_1&gt; A Csmin A Csmin A Cs...</td>\n",
       "      <td>Csmin,A,Csmin,A,Csmin,A,Csmin,A,B,Csmin,A,Fsmi...</td>\n",
       "      <td>2000.0</td>\n",
       "      <td>metal</td>\n",
       "      <td>5KiY8SZEnvCPyIEkFGRR3y</td>\n",
       "    </tr>\n",
       "    <tr>\n",
       "      <th>2</th>\n",
       "      <td>&lt;intro_1&gt; C &lt;verse_1&gt; G C G C &lt;chorus_1&gt; F Dmi...</td>\n",
       "      <td>C,G,C,G,C,F,Dmin,G,Dmin,G,C,G,C,F,Dmin,G,Dmin,...</td>\n",
       "      <td>2020.0</td>\n",
       "      <td>pop</td>\n",
       "      <td>3zUecdrWC3IqrNSjhnoF3G</td>\n",
       "    </tr>\n",
       "    <tr>\n",
       "      <th>3</th>\n",
       "      <td>&lt;intro_1&gt; G Bmin Amin D G Bmin &lt;verse_1&gt; Amin ...</td>\n",
       "      <td>G,Bmin,Amin,D,G,Bmin,Amin,D,G,Emin,Amin,D,G,Em...</td>\n",
       "      <td>2020.0</td>\n",
       "      <td>pop</td>\n",
       "      <td>1gh9q0HsS3tVXQypDXp4gf</td>\n",
       "    </tr>\n",
       "    <tr>\n",
       "      <th>4</th>\n",
       "      <td>&lt;intro_1&gt; Fsmin Fsno3d Bno3d E/B Fsno3d Bno3d ...</td>\n",
       "      <td>Fsmin,Fsno3d,Bno3d,E,Fsno3d,Bno3d,E,Fsmin,B,As...</td>\n",
       "      <td>2020.0</td>\n",
       "      <td>pop</td>\n",
       "      <td>4y3uAOMHISJ3OOdjPC1FFN</td>\n",
       "    </tr>\n",
       "    <tr>\n",
       "      <th>5</th>\n",
       "      <td>&lt;chorus_1&gt; C Amin Dmin G C G Amin Dmin G C &lt;ve...</td>\n",
       "      <td>C,Amin,Dmin,G,C,G,Amin,Dmin,G,C,Dmin,C,Dmin,C,...</td>\n",
       "      <td>2020.0</td>\n",
       "      <td>pop</td>\n",
       "      <td>7FPREUUChbE5dPuDXAzjFz</td>\n",
       "    </tr>\n",
       "    <tr>\n",
       "      <th>6</th>\n",
       "      <td>&lt;chorus_1&gt; Amin G F G Amin Fmaj7 Amin G Amin G...</td>\n",
       "      <td>Amin,G,F,G,Amin,Fmaj7,Amin,G,Amin,G,Amin,G,Ami...</td>\n",
       "      <td>2020.0</td>\n",
       "      <td>electronic</td>\n",
       "      <td>6IgzeUSIN04yVLvZdxZ6iI</td>\n",
       "    </tr>\n",
       "    <tr>\n",
       "      <th>7</th>\n",
       "      <td>&lt;intro_1&gt; Cmaj7 C Cmaj7 C &lt;verse_1&gt; G D Emin D...</td>\n",
       "      <td>Cmaj7,C,Cmaj7,C,G,D,Emin,D,Emin,Amin,D,G,C,Cma...</td>\n",
       "      <td>2020.0</td>\n",
       "      <td>pop</td>\n",
       "      <td>6DneB3VYsHvIYdsfFoI1e6</td>\n",
       "    </tr>\n",
       "    <tr>\n",
       "      <th>8</th>\n",
       "      <td>&lt;intro_1&gt; D G D G D G D G D G D Bb C D G D Bb ...</td>\n",
       "      <td>D,G,D,G,D,G,D,G,D,G,D,Bb,C,D,G,D,Bb,C,D,G,D,Bb...</td>\n",
       "      <td>2000.0</td>\n",
       "      <td>rock</td>\n",
       "      <td>3ouHmB2wtv5CzbsWlAGZzq</td>\n",
       "    </tr>\n",
       "    <tr>\n",
       "      <th>9</th>\n",
       "      <td>Amin7 Emin Gmaj7 Amin Cmaj7 Emin7 Cmaj7 Amin7 ...</td>\n",
       "      <td>Amin7,Emin,Gmaj7,Amin,Cmaj7,Emin7,Cmaj7,Amin7,...</td>\n",
       "      <td>2000.0</td>\n",
       "      <td>soul</td>\n",
       "      <td>3a3Zhb4QJx7r3yxw4j9VVP</td>\n",
       "    </tr>\n",
       "  </tbody>\n",
       "</table>\n",
       "</div>"
      ],
      "text/plain": [
       "                                              chords  \\\n",
       "0  <intro_1> E D A/Cs E D A/Cs <verse_1> E D A/Cs...   \n",
       "1  <intro_1> Csmin <verse_1> A Csmin A Csmin A Cs...   \n",
       "2  <intro_1> C <verse_1> G C G C <chorus_1> F Dmi...   \n",
       "3  <intro_1> G Bmin Amin D G Bmin <verse_1> Amin ...   \n",
       "4  <intro_1> Fsmin Fsno3d Bno3d E/B Fsno3d Bno3d ...   \n",
       "5  <chorus_1> C Amin Dmin G C G Amin Dmin G C <ve...   \n",
       "6  <chorus_1> Amin G F G Amin Fmaj7 Amin G Amin G...   \n",
       "7  <intro_1> Cmaj7 C Cmaj7 C <verse_1> G D Emin D...   \n",
       "8  <intro_1> D G D G D G D G D G D Bb C D G D Bb ...   \n",
       "9  Amin7 Emin Gmaj7 Amin Cmaj7 Emin7 Cmaj7 Amin7 ...   \n",
       "\n",
       "                                   simplified_chords  decade  main_genre  \\\n",
       "0  E,D,A,E,D,A,E,D,A,E,D,A,E,D,A,E,D,A,C,E,G,D,A,...  2000.0       metal   \n",
       "1  Csmin,A,Csmin,A,Csmin,A,Csmin,A,B,Csmin,A,Fsmi...  2000.0       metal   \n",
       "2  C,G,C,G,C,F,Dmin,G,Dmin,G,C,G,C,F,Dmin,G,Dmin,...  2020.0         pop   \n",
       "3  G,Bmin,Amin,D,G,Bmin,Amin,D,G,Emin,Amin,D,G,Em...  2020.0         pop   \n",
       "4  Fsmin,Fsno3d,Bno3d,E,Fsno3d,Bno3d,E,Fsmin,B,As...  2020.0         pop   \n",
       "5  C,Amin,Dmin,G,C,G,Amin,Dmin,G,C,Dmin,C,Dmin,C,...  2020.0         pop   \n",
       "6  Amin,G,F,G,Amin,Fmaj7,Amin,G,Amin,G,Amin,G,Ami...  2020.0  electronic   \n",
       "7  Cmaj7,C,Cmaj7,C,G,D,Emin,D,Emin,Amin,D,G,C,Cma...  2020.0         pop   \n",
       "8  D,G,D,G,D,G,D,G,D,G,D,Bb,C,D,G,D,Bb,C,D,G,D,Bb...  2000.0        rock   \n",
       "9  Amin7,Emin,Gmaj7,Amin,Cmaj7,Emin7,Cmaj7,Amin7,...  2000.0        soul   \n",
       "\n",
       "          spotify_song_id  \n",
       "0  2ffJZ2r8HxI5DHcmf3BO6c  \n",
       "1  5KiY8SZEnvCPyIEkFGRR3y  \n",
       "2  3zUecdrWC3IqrNSjhnoF3G  \n",
       "3  1gh9q0HsS3tVXQypDXp4gf  \n",
       "4  4y3uAOMHISJ3OOdjPC1FFN  \n",
       "5  7FPREUUChbE5dPuDXAzjFz  \n",
       "6  6IgzeUSIN04yVLvZdxZ6iI  \n",
       "7  6DneB3VYsHvIYdsfFoI1e6  \n",
       "8  3ouHmB2wtv5CzbsWlAGZzq  \n",
       "9  3a3Zhb4QJx7r3yxw4j9VVP  "
      ]
     },
     "execution_count": 14,
     "metadata": {},
     "output_type": "execute_result"
    }
   ],
   "source": [
    "#inspect final dataset\n",
    "final_df.head(10)"
   ]
  },
  {
   "cell_type": "code",
   "execution_count": 15,
   "id": "62956130",
   "metadata": {},
   "outputs": [
    {
     "data": {
      "text/plain": [
       "(300713, 5)"
      ]
     },
     "execution_count": 15,
     "metadata": {},
     "output_type": "execute_result"
    }
   ],
   "source": [
    "final_df.shape"
   ]
  },
  {
   "cell_type": "markdown",
   "id": "53e8382b",
   "metadata": {},
   "source": [
    "Create final train and set split. An 85-15 split will produce a train set of size 255,606 and a test set of size 45,107."
   ]
  },
  {
   "cell_type": "code",
   "execution_count": 16,
   "id": "ce672b98",
   "metadata": {},
   "outputs": [],
   "source": [
    "from sklearn.model_selection import train_test_split"
   ]
  },
  {
   "cell_type": "code",
   "execution_count": 17,
   "id": "475256ff",
   "metadata": {},
   "outputs": [],
   "source": [
    "final_train, final_test = train_test_split(final_df,test_size=.15,random_state=000)"
   ]
  },
  {
   "cell_type": "code",
   "execution_count": null,
   "id": "68dd04a3",
   "metadata": {},
   "outputs": [],
   "source": [
    "#write these files to csv\n",
    "path_to_train_data='../../data/final_train.csv'\n",
    "path_to_test_data='../../data/final_test.csv'\n",
    "final_train.to_csv(path_to_train_data, index = False)\n",
    "final_test.to_csv(path_to_test_data, index = False)"
   ]
  }
 ],
 "metadata": {
  "kernelspec": {
   "display_name": "erdos_ds_environment",
   "language": "python",
   "name": "python3"
  },
  "language_info": {
   "codemirror_mode": {
    "name": "ipython",
    "version": 3
   },
   "file_extension": ".py",
   "mimetype": "text/x-python",
   "name": "python",
   "nbconvert_exporter": "python",
   "pygments_lexer": "ipython3",
   "version": "3.12.11"
  }
 },
 "nbformat": 4,
 "nbformat_minor": 5
}
