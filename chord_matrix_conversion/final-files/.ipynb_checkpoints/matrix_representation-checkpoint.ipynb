{
 "cells": [
  {
   "cell_type": "markdown",
   "id": "508f9a1b-e132-4a8f-99ed-0679b2ece1fb",
   "metadata": {},
   "source": [
    "This notebook gives tools for converting a cleaned up chord progression string into a matrix format, which allows for \"reading it\" by human sight in a way somewhat similar to reading sheet music, that is, scanning from left to right with higher notes indicated with a higher marking of some kind."
   ]
  },
  {
   "cell_type": "code",
   "execution_count": 2,
   "id": "1d164209-712a-4f82-a0ef-4c0301ac3d6d",
   "metadata": {},
   "outputs": [],
   "source": [
    "# importing basic packages\n",
    "import numpy as np\n",
    "import ast\n",
    "from collections import Counter, deque"
   ]
  },
  {
   "cell_type": "code",
   "execution_count": 3,
   "id": "1071cbf5-330c-48c4-8861-9c6cd0d9db04",
   "metadata": {},
   "outputs": [
    {
     "name": "stdout",
     "output_type": "stream",
     "text": [
      "['C7', 'Cmaj7', 'C9', 'Cmaj9', 'Cmajs9', 'Cb9', 'Cb79', 'Cb7b9', 'C7b9', 'C7sus2']\n"
     ]
    }
   ],
   "source": [
    "# Read the mapping CSV file\n",
    "chord_relations = pd.read_csv('../../data/chords_mapping.csv')\n",
    "\n",
    "# Create a dictionary with keys the \"chords\" and values the \"degrees\"\n",
    "chord_degrees = dict(zip(chord_relations['Chords'], chord_relations['Degrees']))\n",
    "for key, value in chord_degrees.items():\n",
    "    chord_degrees[key] = ast.literal_eval(value)\n",
    "\n",
    "# some examples of what the string labels for known chords look like\n",
    "print(list(chord_degrees.keys())[0:10])"
   ]
  },
  {
   "cell_type": "code",
   "execution_count": 4,
   "id": "86c4b327-82e0-4fcd-a0bb-c95e5c59a1d4",
   "metadata": {},
   "outputs": [
    {
     "name": "stdout",
     "output_type": "stream",
     "text": [
      "C major: [1, 0, 0, 0, 1, 0, 0, 1, 0, 0, 0, 0]\n",
      "D major: [0, 0, 1, 0, 0, 0, 1, 0, 0, 1, 0, 0]\n",
      "C major transposed up 2 semitones: [0, 0, 1, 0, 0, 0, 1, 0, 0, 1, 0, 0]\n",
      "D major transposed down 2 semitones: [1, 0, 0, 0, 1, 0, 0, 1, 0, 0, 0, 0]\n"
     ]
    }
   ],
   "source": [
    "# method to transpose a chord in vector format\n",
    "def transpose_chord_up(chord_vector, num_semitones):\n",
    "    d = deque(chord_vector)\n",
    "    d.rotate(num_semitones)\n",
    "    return(list(d))\n",
    "\n",
    "C_vec = chord_degrees['C']\n",
    "D_vec = chord_degrees['D']\n",
    "assert(transpose_chord_up(C_vec, 2) == D_vec)\n",
    "print(\"C major:\", C_vec)\n",
    "print(\"D major:\", D_vec)\n",
    "print(\"C major transposed up 2 semitones:\",transpose_chord_up(C_vec, 2))\n",
    "print(\"D major transposed down 2 semitones:\",transpose_chord_up(D_vec, -2))"
   ]
  },
  {
   "cell_type": "markdown",
   "id": "fce34cfd-50cf-4120-882c-10ad1c4cfae6",
   "metadata": {},
   "source": [
    "Below is a method to take a comma-separated string of chords, and convert into a matrix where each matrix entry is a vector of length 12, representing the notes in the chord as 1 and notes not in the chord as 0.\n",
    "\n",
    "In order to get a representation which resembles sheet music, take the transpose of such a matrix."
   ]
  },
  {
   "cell_type": "code",
   "execution_count": 6,
   "id": "e82de936-f163-42d9-a337-ace19805229d",
   "metadata": {},
   "outputs": [
    {
     "name": "stdout",
     "output_type": "stream",
     "text": [
      "[[0 0 0 0 1 0 0 1 0 0 0 1]\n",
      " [0 0 0 1 0 0 1 0 0 0 1 0]\n",
      " [0 0 1 0 0 1 0 0 0 1 0 0]\n",
      " [0 1 0 0 1 0 0 0 1 0 0 0]\n",
      " [1 0 0 1 0 0 0 1 0 0 0 0]\n",
      " [0 0 1 0 0 0 1 0 0 0 0 1]\n",
      " [0 1 0 0 0 1 0 0 0 0 1 0]\n",
      " [1 0 0 0 1 0 0 0 0 1 0 0]\n",
      " [0 0 0 1 0 0 0 0 1 0 0 1]\n",
      " [0 0 1 0 0 0 0 1 0 0 1 0]\n",
      " [0 1 0 0 0 0 1 0 0 1 0 0]\n",
      " [1 0 0 0 0 1 0 0 1 0 0 0]]\n",
      "\n",
      "[[1 0 0 1 1 0 1 1 0 0 1 1 0 1 1 0 0 1 1]\n",
      " [0 0 0 0 0 0 0 0 0 0 0 0 0 0 0 0 0 0 0]\n",
      " [0 1 1 0 0 1 1 0 1 1 0 0 1 1 0 1 1 0 0]\n",
      " [0 0 0 0 0 0 0 0 0 0 0 0 0 0 0 0 0 0 0]\n",
      " [1 0 0 1 1 0 0 1 0 0 1 1 0 0 1 0 0 1 1]\n",
      " [0 0 1 0 0 0 1 0 0 1 0 0 0 1 0 0 1 0 0]\n",
      " [0 0 0 0 0 0 0 0 0 0 0 0 0 0 0 1 0 0 0]\n",
      " [1 1 0 0 1 1 0 1 1 0 0 1 1 0 1 0 0 0 1]\n",
      " [0 0 0 0 0 0 1 0 0 0 0 0 0 1 0 0 0 0 0]\n",
      " [0 0 1 1 0 0 0 0 0 1 1 0 0 0 0 1 1 1 0]\n",
      " [0 0 0 0 0 0 0 0 0 0 0 0 0 0 0 0 0 0 0]\n",
      " [0 1 1 0 0 1 0 0 1 1 0 0 1 0 0 0 1 0 0]]\n"
     ]
    }
   ],
   "source": [
    "# function to convert a string of comma-separated chords into a matrix, where each rows is a vector representing a chord\n",
    "def string_to_chord_matrix(chord_sequence):\n",
    "    return [chord_degrees[c] for c in chord_sequence.split(',') if c != '']\n",
    "\n",
    "# Because the previous version above stores each chord as a vector, reading a printed out chord matrix does not work like reading sheet music. \n",
    "# In order to get a version that does, you need to reverse each row, and take the transpose\n",
    "# Note that this version should only be used for producing human-readable versions of chord matrices,\n",
    "# and NOT used for any of the processing tools below (such as transposing to a new key, or converting to a string)\n",
    "def sheet_music_version(chord_matrix):\n",
    "    return np.transpose([row[::-1] for row in chord_matrix])\n",
    "\n",
    "example_song_1 = 'C,Cs,D,Ds,E,F,Fs,G,Gs,A,As,B'\n",
    "print(sheet_music_version(string_to_chord_matrix(example_song_1)))\n",
    "print()\n",
    "\n",
    "example_song_2 = 'Emin,Amin,D7,G,Emin,Amin,B7,Emin,Amin,D7,G,Emin,Amin,B7,Emin,Dmin,D7,G,Emin'\n",
    "print(sheet_music_version(string_to_chord_matrix(example_song_2)))"
   ]
  },
  {
   "cell_type": "code",
   "execution_count": 7,
   "id": "bde0885b-a5ec-41af-95d6-b82d337b20e0",
   "metadata": {},
   "outputs": [
    {
     "name": "stdout",
     "output_type": "stream",
     "text": [
      "[[0 0 1 0 1]\n",
      " [0 0 0 0 0]\n",
      " [0 1 0 1 0]\n",
      " [0 0 1 0 0]\n",
      " [1 0 0 0 1]\n",
      " [0 1 0 0 0]\n",
      " [0 0 0 1 0]\n",
      " [1 0 1 0 0]\n",
      " [0 0 0 0 0]\n",
      " [0 1 0 0 1]\n",
      " [0 0 0 0 0]\n",
      " [1 0 0 1 0]]\n",
      "\n",
      "[[0 0 0 0 0]\n",
      " [0 1 0 1 0]\n",
      " [0 0 1 0 0]\n",
      " [1 0 0 0 1]\n",
      " [0 1 0 0 0]\n",
      " [0 0 0 1 0]\n",
      " [1 0 1 0 0]\n",
      " [0 0 0 0 0]\n",
      " [0 1 0 0 1]\n",
      " [0 0 0 0 0]\n",
      " [1 0 0 1 0]\n",
      " [0 0 1 0 1]]\n"
     ]
    }
   ],
   "source": [
    "def transpose_matrix_up(chord_matrix, num_semitones):\n",
    "    # transpose the entire matrix up by a number of semitones\n",
    "    # this just means applying transpose_chord_up to each column\n",
    "    return [transpose_chord_up(chord_vec,num_semitones) for chord_vec in chord_matrix]\n",
    "\n",
    "example_song_3 = 'C,D,E,F,G'\n",
    "example_song_3_matrix = string_to_chord_matrix(example_song_3)\n",
    "example_song_3_transposed_up = transpose_matrix_up(example_song_3_matrix, 1)\n",
    "\n",
    "print(sheet_music_version(example_song_3_matrix))\n",
    "print()\n",
    "print(sheet_music_version(example_song_3_transposed_up))"
   ]
  },
  {
   "cell_type": "markdown",
   "id": "8c213e30-66cf-4257-a608-e8d4de4bcae4",
   "metadata": {},
   "source": [
    "This is unlikely to be useful, but it is sort of possible to reverse the process and convert a matrix back into a chord. As a warning, this is not a true inverse operation, because there are multiple string names for the same chord, i.e. A sharp and B flat are the same chord."
   ]
  },
  {
   "cell_type": "code",
   "execution_count": 9,
   "id": "355dd728-e1dc-4e66-83dd-35063b460efd",
   "metadata": {},
   "outputs": [
    {
     "name": "stdout",
     "output_type": "stream",
     "text": [
      "C\n",
      "As\n"
     ]
    }
   ],
   "source": [
    "def chord_vector_to_string(chord_vector):\n",
    "    for key, value in chord_degrees.items():\n",
    "        if np.array_equal(chord_vector,value):\n",
    "            return key\n",
    "    raise Exception(\"Chord vector not found\")\n",
    "\n",
    "# If we convert 'C' to a vector then back to a string, we get 'C'\n",
    "C_vec = chord_degrees['C']\n",
    "C_str = chord_vector_to_string(C_vec)\n",
    "print(C_str)\n",
    "\n",
    "# If we convert 'Bb' (B flat) to a vector then back to a string, we get 'As' (A sharp)\n",
    "# I am relatively confident this is just a quirk of how the dictionary is ordered\n",
    "# Perhaps on different computers, you get different answers here?\n",
    "Bb_vec = chord_degrees['Bb']\n",
    "Bb_str = chord_vector_to_string(Bb_vec)\n",
    "print(Bb_str)"
   ]
  },
  {
   "cell_type": "code",
   "execution_count": 24,
   "id": "155efac3-4290-48bb-b880-8a9fcb753bb6",
   "metadata": {},
   "outputs": [
    {
     "name": "stdout",
     "output_type": "stream",
     "text": [
      "[[0 0 0 1 0 0 0 0 1 0 0 1]\n",
      " [1 0 0 0 1 0 0 0 0 1 0 0]\n",
      " [0 1 0 0 0 1 0 0 0 0 1 0]\n",
      " [0 0 1 0 0 0 1 0 0 0 0 1]\n",
      " [1 0 0 1 0 0 0 1 0 0 0 0]\n",
      " [0 1 0 0 1 0 0 0 1 0 0 0]\n",
      " [0 0 1 0 0 1 0 0 0 1 0 0]\n",
      " [0 0 0 1 0 0 1 0 0 0 1 0]\n",
      " [0 0 0 0 1 0 0 1 0 0 0 1]\n",
      " [1 0 0 0 0 1 0 0 1 0 0 0]\n",
      " [0 1 0 0 0 0 1 0 0 1 0 0]\n",
      " [0 0 1 0 0 0 0 1 0 0 1 0]]\n",
      "Chord sequence before converting to matrix and back: \t A,Bb,B,C,Db,D,Eb,E,F,Gb,G,Ab\n",
      "Chord sequence after converting to matrix and back: \t A,As,B,C,Cs,D,Ds,E,Es,Fs,G,Gs\n"
     ]
    }
   ],
   "source": [
    "# converting back from a chord matrix to a comma-separated string of chord names\n",
    "# note that if you convert a string to a matrix and back, you can get enharmonic equivalents depending on the order things appear in the dictionary\n",
    "# for example, F->vector->string can become Es (E sharp) when coming back to a string, because the chord_mapping.csv file lists both \n",
    "def chord_matrix_to_string(chord_matrix):\n",
    "    chord_strings = [chord_vector_to_string(row) for row in chord_matrix]\n",
    "    return ','.join(chord_strings)\n",
    "\n",
    "example_song_4 = 'A,Bb,B,C,Db,D,Eb,E,F,Gb,G,Ab'\n",
    "example_song_4_matrix = string_to_chord_matrix(example_song_4)\n",
    "example_song_4_str_again = chord_matrix_to_string(example_song_4_matrix)\n",
    "print(np.transpose(example_song_4_matrix))\n",
    "print(\"Chord sequence before converting to matrix and back: \\t\",example_song_4)\n",
    "print(\"Chord sequence after converting to matrix and back: \\t\",example_song_4_str_again)"
   ]
  },
  {
   "cell_type": "markdown",
   "id": "27505e9e-601a-4bff-bb50-5da0f3ce8736",
   "metadata": {},
   "source": [
    "As you can see from the output above, the chord dictionary is ordered in such a way that \"sharp spellings\" are generally preferred to \"flat spellings.\""
   ]
  }
 ],
 "metadata": {
  "kernelspec": {
   "display_name": "Python 3 (ipykernel)",
   "language": "python",
   "name": "python3"
  },
  "language_info": {
   "codemirror_mode": {
    "name": "ipython",
    "version": 3
   },
   "file_extension": ".py",
   "mimetype": "text/x-python",
   "name": "python",
   "nbconvert_exporter": "python",
   "pygments_lexer": "ipython3",
   "version": "3.12.4"
  }
 },
 "nbformat": 4,
 "nbformat_minor": 5
}
