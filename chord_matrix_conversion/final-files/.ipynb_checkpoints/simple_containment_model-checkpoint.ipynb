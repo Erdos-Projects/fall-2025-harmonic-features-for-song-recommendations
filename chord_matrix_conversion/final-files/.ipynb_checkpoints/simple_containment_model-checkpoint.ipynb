{
 "cells": [
  {
   "cell_type": "markdown",
   "id": "be0769c3-4300-43eb-b537-0f9abc4b33ca",
   "metadata": {},
   "source": [
    "This notebook is about determining which $n$-grams we should make into features. More specifically, for which $x$ should we add a feature of the form \"contains a harmonically equivalent $n$-gram to $x$\"?\n",
    "In theory, we could do this for any harmonically unique n-gram for $n=1,2,3,4,...$ but that would be infinitely many different features, which is obviously impossible.\n",
    "\n",
    "So how to pick which ones are good? \n",
    "\n",
    "* Based on domain knowledge, sequences longer than around $10$ are not going to be useful for distinguishing genre. Msically speaking, a chord progression of length $10$ is usually longer than an entire \"musical idea\" or \"phrase.\" Even $10$ is pushing it, probably we shouldn't expect anything longer than $6$ to be very useful, but we'll include up to $10$.\n",
    "* There are way too many harmonically unique $n$-grams for $1 \\le n \\le 10$. Even for $n=3$, it would take around $24$ hours to enumerate all of the unique $n$-grams. We can enumerate all $1$-grams ($44$) and all unique $2$-grams ($5903$), but this is the limit of usefulness for complete enumeration.\n",
    "* I would like to filter for $n$-grams that occur in something like $1\\%$ of the songs, but that's only possible to do if we can make a count for every $n$-gram, which takes too long. So instead, I'll enumerate all of the raw $n$-grams for $1 \\le n \\le 10$ (which is fast), cut to the top $k=500$ or so, then consider unique $n$-grams among those. The table below gives concrete numbers for the number of unique $1$-grams and $2$-grams after restricting to higher and higher relative sample size requirements. Based on the table, I think a threshold cutoff of around $1\\%$ is a good sweet spot.\n",
    "\n",
    "| $n$      | $n$-grams | $1\\%$ | $2\\%$ | $5\\%$ |$10\\%$ |\n",
    "| :-: | :-: | :-: | :-: | :-: | :-: |\n",
    "| 1 | 44 | 22 | 20 | 15 | 10\n",
    "| 2 | 5903 | 237 | 173 | 105 | 62 |\n",
    "\n",
    "* For each $n$, we'll take the top $k=500$ most common raw $n$-grams, then condense those down by harmonic equivalence.\n",
    "\n",
    "| $n$ | Features | \n",
    "| :-: | :-: | \n",
    "| 1 | 35 |\n",
    "| 2 | 93 |\n",
    "| 3 | 129 |\n",
    "| 4 | 161 |\n",
    "| 5 | 160 |\n",
    "| 6 | 166 |\n",
    "| 7 | 180 |\n",
    "| 8 | 185 |\n",
    "| 9 | 188 |\n",
    "| 10 | 185 |"
   ]
  },
  {
   "cell_type": "code",
   "execution_count": 2,
   "id": "e16a5b96-dc1a-4d53-9d02-926c493985eb",
   "metadata": {},
   "outputs": [],
   "source": [
    "import pandas as pd\n",
    "from collections import Counter\n",
    "import numpy as np\n",
    "import json\n",
    "import time\n",
    "\n",
    "data_folder_path = '../../data/'"
   ]
  },
  {
   "cell_type": "code",
   "execution_count": 3,
   "id": "e8464b3e-aa3c-4878-9d73-4fab981c2181",
   "metadata": {},
   "outputs": [],
   "source": [
    "# read in the database\n",
    "df = pd.read_csv(data_folder_path + 'clean_test.csv', low_memory=False)\n",
    "chord_column = df['simplified_chords']\n",
    "num_songs = len(df.index)"
   ]
  },
  {
   "cell_type": "code",
   "execution_count": null,
   "id": "ad60f191-08cc-4646-8513-349fb5c55703",
   "metadata": {},
   "outputs": [],
   "source": [
    "print(\"Number of songs:\",num_songs)\n",
    "display(df.head(5))"
   ]
  },
  {
   "cell_type": "code",
   "execution_count": 4,
   "id": "326f3f11-1729-4d5d-8b52-0f5f6bc99399",
   "metadata": {},
   "outputs": [],
   "source": [
    "# read the equivalence dictionary file\n",
    "# this is a dictionary of dictionaries\n",
    "#    the top-level keys are chord names (e.g. 'C','Amin')\n",
    "#    the top-level values are dictionaries, whose keys are equivalent chords, and whose values are the semitone distance between the top-level key and the low-level key\n",
    "with open(data_folder_path + 'harmonic_equivalence_dictionary.json') as file:\n",
    "    equiv_dict = json.load(file)"
   ]
  },
  {
   "cell_type": "code",
   "execution_count": 5,
   "id": "1f5146f7-2f7b-4eba-bf85-9a78d76ebeff",
   "metadata": {},
   "outputs": [],
   "source": [
    "def compare_chords(chord_1, chord_2):\n",
    "    if chord_2 in equiv_dict[chord_1]:\n",
    "        return (True, equiv_dict[chord_1][chord_2])\n",
    "    else:\n",
    "        return (False, None)\n",
    "\n",
    "def compare_n_grams(n_gram_1, n_gram_2):\n",
    "    list_1 = n_gram_1.split(',')\n",
    "    list_2 = n_gram_2.split(',')\n",
    "\n",
    "    # if they aren't the same length, we don't have to check anything\n",
    "    if len(list_1) != len(list_2):\n",
    "        return (False, None)\n",
    "\n",
    "    # now we can assume they have the same length\n",
    "    comparison = [compare_chords(list_1[i], list_2[i]) for i in range(len(list_1))]\n",
    "\n",
    "    # if any pairs are not the same, return False\n",
    "    for c in comparison:\n",
    "        if not c[0]:\n",
    "            return (False, None)\n",
    "\n",
    "    # now we can assume every respective pair is equivalent, but we still need all of the distances to match\n",
    "    dist_0 = comparison[0][1]\n",
    "    for c in comparison:\n",
    "        if c[1] != dist_0:\n",
    "            return (False, None)\n",
    "\n",
    "    return (True, dist_0)"
   ]
  },
  {
   "cell_type": "code",
   "execution_count": 6,
   "id": "0910a22b-6384-4a5d-be9b-3032a1d411b6",
   "metadata": {},
   "outputs": [],
   "source": [
    "def get_raw_n_gram_counts(chord_column, n):\n",
    "    # compile a dictionary of counts\n",
    "    results = Counter()\n",
    "    for song in chord_column:\n",
    "        song_as_list = song.split(',')\n",
    "        song_n_grams = [','.join(song_as_list[i:i+n]) for i in range(len(song_as_list) - n + 1)]\n",
    "        for ng in song_n_grams:\n",
    "            results[ng] += 1\n",
    "    return results"
   ]
  },
  {
   "cell_type": "code",
   "execution_count": 7,
   "id": "f7d4c0df-1ea4-4b4e-8bee-2968f7f7be35",
   "metadata": {},
   "outputs": [],
   "source": [
    "# a generic method for iterating through a counter of n-grams and aggregating equivalent n-grams\n",
    "def uniquify_n_grams(n_gram_counter, n):\n",
    "    results = Counter()\n",
    "    processed = set()\n",
    "    for ng1 in n_gram_counter:\n",
    "        if ng1 in processed:\n",
    "            continue\n",
    "        total = n_gram_counter[ng1]\n",
    "        for ng2 in n_gram_counter:\n",
    "            if (ng2 not in processed) and ng1 != ng2:\n",
    "                if compare_n_grams(ng1, ng2)[0]:\n",
    "                    total += n_gram_counter[ng2]\n",
    "                    processed.add(ng2)\n",
    "        results[ng1] = total\n",
    "        processed.add(ng1)\n",
    "    return results"
   ]
  },
  {
   "cell_type": "code",
   "execution_count": 8,
   "id": "eb8a0000-9aed-41ed-91d3-f8e8ca27bbba",
   "metadata": {},
   "outputs": [],
   "source": [
    "# specify key parameter\n",
    "n_max = 10\n",
    "n_range = list(range(1,n_max+1))\n",
    "k = 500"
   ]
  },
  {
   "cell_type": "code",
   "execution_count": 9,
   "id": "b2ffc72e-1f6d-4754-9e35-29853b336de5",
   "metadata": {},
   "outputs": [],
   "source": [
    "# build the raw counters for each n\n",
    "raw_counters = [get_raw_n_gram_counts(chord_column, n) for n in n_range]"
   ]
  },
  {
   "cell_type": "code",
   "execution_count": 10,
   "id": "52ca763c-c543-4c42-b2c8-c3ca9f9acc43",
   "metadata": {},
   "outputs": [
    {
     "name": "stdout",
     "output_type": "stream",
     "text": [
      "n= 1\n",
      "number of raw n-grams: 690 \n",
      "\n",
      "n= 2\n",
      "number of raw n-grams: 42574 \n",
      "\n",
      "n= 3\n",
      "number of raw n-grams: 298213 \n",
      "\n",
      "n= 4\n",
      "number of raw n-grams: 888910 \n",
      "\n",
      "n= 5\n",
      "number of raw n-grams: 1752485 \n",
      "\n",
      "n= 6\n",
      "number of raw n-grams: 2764461 \n",
      "\n",
      "n= 7\n",
      "number of raw n-grams: 3817027 \n",
      "\n",
      "n= 8\n",
      "number of raw n-grams: 4824402 \n",
      "\n",
      "n= 9\n",
      "number of raw n-grams: 5735351 \n",
      "\n",
      "n= 10\n",
      "number of raw n-grams: 6537957 \n",
      "\n"
     ]
    }
   ],
   "source": [
    "for n in n_range:\n",
    "    print(\"n=\",n)\n",
    "    print(\"number of raw n-grams:\",len(raw_counters[n-1]),'\\n')"
   ]
  },
  {
   "cell_type": "code",
   "execution_count": 12,
   "id": "9dd2d7a6-8cae-440c-9228-df004809361b",
   "metadata": {},
   "outputs": [
    {
     "name": "stdout",
     "output_type": "stream",
     "text": [
      "n= 1\n",
      "unique n-grams among top 500 raw n-grams: 35 \n",
      "\n",
      "n= 2\n",
      "unique n-grams among top 500 raw n-grams: 93 \n",
      "\n",
      "n= 3\n",
      "unique n-grams among top 500 raw n-grams: 129 \n",
      "\n",
      "n= 4\n",
      "unique n-grams among top 500 raw n-grams: 161 \n",
      "\n",
      "n= 5\n",
      "unique n-grams among top 500 raw n-grams: 160 \n",
      "\n",
      "n= 6\n",
      "unique n-grams among top 500 raw n-grams: 166 \n",
      "\n",
      "n= 7\n",
      "unique n-grams among top 500 raw n-grams: 180 \n",
      "\n",
      "n= 8\n",
      "unique n-grams among top 500 raw n-grams: 185 \n",
      "\n",
      "n= 9\n",
      "unique n-grams among top 500 raw n-grams: 188 \n",
      "\n",
      "n= 10\n",
      "unique n-grams among top 500 raw n-grams: 185 \n",
      "\n"
     ]
    }
   ],
   "source": [
    "# cut to top k for each\n",
    "unique_counters = [None]*n_max\n",
    "for n in n_range:\n",
    "    index = n-1\n",
    "    rc = raw_counters[index] \n",
    "    top_k = Counter(dict(rc.most_common(k)))\n",
    "    unique_among_top_k = uniquify_n_grams(top_k, n)\n",
    "    unique_counters[index] = unique_among_top_k\n",
    "    \n",
    "    print(\"n=\",n)\n",
    "    print(\"unique n-grams among top \" + str(k) + \" raw n-grams:\",len(unique_among_top_k),'\\n')"
   ]
  }
 ],
 "metadata": {
  "kernelspec": {
   "display_name": "Python 3 (ipykernel)",
   "language": "python",
   "name": "python3"
  },
  "language_info": {
   "codemirror_mode": {
    "name": "ipython",
    "version": 3
   },
   "file_extension": ".py",
   "mimetype": "text/x-python",
   "name": "python",
   "nbconvert_exporter": "python",
   "pygments_lexer": "ipython3",
   "version": "3.12.4"
  }
 },
 "nbformat": 4,
 "nbformat_minor": 5
}
