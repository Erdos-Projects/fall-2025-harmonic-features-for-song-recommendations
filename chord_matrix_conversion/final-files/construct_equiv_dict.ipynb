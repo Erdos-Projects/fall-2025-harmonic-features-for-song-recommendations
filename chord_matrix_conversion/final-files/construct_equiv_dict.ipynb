{
 "cells": [
  {
   "cell_type": "markdown",
   "id": "524a0233-6dbd-4180-bdea-ad78c766fdba",
   "metadata": {},
   "source": [
    "The purpose of this notebook is to create a data structure that allows for quick lookup of harmonic equivalence, rather than determining it by rotating matrices constantly.\n",
    "\n",
    "My idea is to have a dictionary of dictionaries:\n",
    "    each top-level key is a chord name (e.g. 'C' or 'Amin')\n",
    "    the value for each top-level key is a dictionary object, whose keys are equivalent chord names, and whose values are the distance from the top-level key (measured in semitones)\n",
    "\n",
    "Example entry for 'C' would be a dictionary with the following key,value pairs:\n",
    "    'Cs' : 1,\n",
    "    'D' : 2, \n",
    "    'Ds' : 3,\n",
    "    'Eb' : 3,\n",
    "    'E' : 4,\n",
    "    etc."
   ]
  },
  {
   "cell_type": "code",
   "execution_count": 36,
   "id": "db2d08da-c777-43dd-913c-f9bbd21bcd14",
   "metadata": {},
   "outputs": [],
   "source": [
    "# importing basic packages\n",
    "import numpy as np\n",
    "import pandas as pd\n",
    "import matplotlib.pyplot as plt\n",
    "import ast\n",
    "from collections import Counter, deque\n",
    "\n",
    "data_folder_path = '../../data/'"
   ]
  },
  {
   "cell_type": "code",
   "execution_count": 37,
   "id": "3f36bfe5-eaf9-40c5-8f8d-f698bf4779b5",
   "metadata": {
    "scrolled": true
   },
   "outputs": [],
   "source": [
    "# Read the mapping CSV file\n",
    "chord_relations = pd.read_csv(data_folder_path + 'chords_mapping.csv')\n",
    "\n",
    "# Create a dictionary with keys the \"chords\" and values the \"degrees\"\n",
    "chord_degrees = dict(zip(chord_relations['Chords'], chord_relations['Degrees']))\n",
    "for key, value in chord_degrees.items():\n",
    "    chord_degrees[key] = ast.literal_eval(value)\n",
    "    \n",
    "# full list of chords from the chords_mapping csv\n",
    "known_chords = list(chord_degrees.keys())"
   ]
  },
  {
   "cell_type": "code",
   "execution_count": 38,
   "id": "592704c3-528f-4f3e-a069-96c7615ae4ba",
   "metadata": {},
   "outputs": [
    {
     "name": "stdout",
     "output_type": "stream",
     "text": [
      "[1, 0, 0, 0, 1, 0, 0, 1, 0, 0, 0, 0]\n",
      "[0, 1, 0, 0, 0, 1, 0, 0, 1, 0, 0, 0]\n",
      "[0, 1, 0, 0, 0, 1, 0, 0, 1, 0, 0, 0]\n",
      "[0, 0, 1, 0, 0, 0, 1, 0, 0, 1, 0, 0]\n"
     ]
    }
   ],
   "source": [
    "print(chord_degrees['C'])\n",
    "print(chord_degrees['Cs'])\n",
    "print(chord_degrees['Db'])\n",
    "print(chord_degrees['D'])"
   ]
  },
  {
   "cell_type": "code",
   "execution_count": 39,
   "id": "42e0ca92-28e5-4655-91ae-a9b5e6edaf9c",
   "metadata": {},
   "outputs": [],
   "source": [
    "# method to transpose a chord in vector format\n",
    "def transpose_chord_up(chord_vector, num_semitones):\n",
    "    d = deque(chord_vector)\n",
    "    d.rotate(num_semitones)\n",
    "    return(list(d))\n",
    "\n",
    "# method to return true if chord_1 and chord_2 are just tranposed versions of each other\n",
    "def is_harmonic_equivalent(chord_1, chord_2, get_distance = False):\n",
    "    # if get_distance is true, then also return the number of semitones from chord_1 to chord_2 (if they are equivalent, otherwise that second return value will be None)\n",
    "    \n",
    "    # if they have different numbers of notes, then we don't have to check if \n",
    "    # any of the transpositions are equal\n",
    "    if sum(chord_1) != sum(chord_2):\n",
    "        if get_distance:\n",
    "            return (False, None)\n",
    "        else:\n",
    "            return False\n",
    "\n",
    "    # if they have the same number of notes, just rotate through the 12 possible transpositions to check\n",
    "    for i in range(12):\n",
    "        if np.array_equal(chord_2, transpose_chord_up(chord_1, i)):\n",
    "            if get_distance:\n",
    "                return (True, i)\n",
    "            else:\n",
    "                return True\n",
    "\n",
    "    # return default value of false if no equivalent rotation was found\n",
    "    if get_distance:\n",
    "        return (False, None)\n",
    "    else: \n",
    "        return False\n",
    "\n",
    "C = chord_degrees['C']\n",
    "D = chord_degrees['D']\n",
    "E = chord_degrees['E']\n",
    "G = chord_degrees['G']\n",
    "assert(is_harmonic_equivalent(C,D))\n",
    "assert(is_harmonic_equivalent(C,E))\n",
    "assert(is_harmonic_equivalent(D,E))\n",
    "assert(is_harmonic_equivalent(C,G))\n",
    "\n",
    "Cmaj7 = chord_degrees['Cmaj7']\n",
    "Dmaj7 = chord_degrees['Dmaj7']\n",
    "assert(is_harmonic_equivalent(Cmaj7,Dmaj7))\n",
    "\n",
    "equiv, dist = is_harmonic_equivalent(chord_1 = C, chord_2 = D, get_distance = True)\n",
    "assert(equiv)\n",
    "assert(dist == 2)"
   ]
  },
  {
   "cell_type": "markdown",
   "id": "ca5a893b-34f4-452c-8e5e-7a00a470a32f",
   "metadata": {},
   "source": [
    "Time to build the equivalence dictionary."
   ]
  },
  {
   "cell_type": "code",
   "execution_count": 41,
   "id": "75a9bcfc-001c-40e2-a20b-f69280c63469",
   "metadata": {},
   "outputs": [
    {
     "data": {
      "text/plain": [
       "{'C': 0,\n",
       " 'Cs': 1,\n",
       " 'D': 2,\n",
       " 'Ds': 3,\n",
       " 'E': 4,\n",
       " 'Es': 5,\n",
       " 'Fs': 6,\n",
       " 'G': 7,\n",
       " 'Gs': 8,\n",
       " 'A': 9,\n",
       " 'As': 10,\n",
       " 'B': 11,\n",
       " 'Db': 1,\n",
       " 'Eb': 3,\n",
       " 'F': 5,\n",
       " 'Gb': 6,\n",
       " 'Ab': 8,\n",
       " 'Bb': 10}"
      ]
     },
     "execution_count": 41,
     "metadata": {},
     "output_type": "execute_result"
    }
   ],
   "source": [
    "# method to build one of the low-level dictionaries for a given chord\n",
    "def single_chord_harmonic_equivalence_dictionary(my_chord):\n",
    "    chord_1 = chord_degrees[my_chord]\n",
    "    my_dict = {}\n",
    "    for c in chord_degrees.keys():\n",
    "        chord_2 = chord_degrees[c]\n",
    "        my_bool, num_semitones = is_harmonic_equivalent(chord_1, chord_2, get_distance = True)\n",
    "        if my_bool:\n",
    "            my_dict[c] = num_semitones\n",
    "    return my_dict\n",
    "\n",
    "sing_chord_harmonic_equivalence_dictionary('C')"
   ]
  },
  {
   "cell_type": "code",
   "execution_count": 42,
   "id": "c96dedd0-395e-4b2f-908a-5249f369c3b6",
   "metadata": {},
   "outputs": [
    {
     "name": "stdout",
     "output_type": "stream",
     "text": [
      "Compiling equivalence dictionary for a total of 2793 chords.\n",
      "Completed dictionary for 200 chords.\n",
      "Completed dictionary for 400 chords.\n",
      "Completed dictionary for 600 chords.\n",
      "Completed dictionary for 800 chords.\n",
      "Completed dictionary for 1000 chords.\n",
      "Completed dictionary for 1200 chords.\n",
      "Completed dictionary for 1400 chords.\n",
      "Completed dictionary for 1600 chords.\n",
      "Completed dictionary for 1800 chords.\n",
      "Completed dictionary for 2000 chords.\n",
      "Completed dictionary for 2200 chords.\n",
      "Completed dictionary for 2400 chords.\n",
      "Completed dictionary for 2600 chords.\n",
      "{'C': 0, 'Cs': 1, 'D': 2, 'Ds': 3, 'E': 4, 'Es': 5, 'Fs': 6, 'G': 7, 'Gs': 8, 'A': 9, 'As': 10, 'B': 11, 'Db': 1, 'Eb': 3, 'F': 5, 'Gb': 6, 'Ab': 8, 'Bb': 10}\n",
      "{'C': 5, 'Cs': 6, 'D': 7, 'Ds': 8, 'E': 9, 'Es': 10, 'Fs': 11, 'G': 0, 'Gs': 1, 'A': 2, 'As': 3, 'B': 4, 'Db': 6, 'Eb': 8, 'F': 10, 'Gb': 11, 'Ab': 1, 'Bb': 3}\n",
      "{'Cmin': 3, 'Csmin': 4, 'Dmin': 5, 'Dsmin': 6, 'Emin': 7, 'Esmin': 8, 'Fsmin': 9, 'Gmin': 10, 'Gsmin': 11, 'Amin': 0, 'Asmin': 1, 'Bmin': 2, 'Dbmin': 4, 'Ebmin': 6, 'Fmin': 8, 'Gbmin': 9, 'Abmin': 11, 'Bbmin': 1}\n"
     ]
    }
   ],
   "source": [
    "equiv_dict = {}\n",
    "i=0\n",
    "print(\"Compiling equivalence dictionary for a total of \" + str(len(chord_degrees.keys())) + \" chords.\")\n",
    "for c in chord_degrees.keys():\n",
    "    equiv_dict[c] = single_chord_harmonic_equivalence_dictionary(c)\n",
    "    i+=1\n",
    "    if i % 200 == 0:\n",
    "        print(\"Completed dictionary for \" + str(i) + \" chords.\")\n",
    "\n",
    "print(equiv_dict['C'])\n",
    "print(equiv_dict['G'])\n",
    "print(equiv_dict['Amin'])"
   ]
  },
  {
   "cell_type": "code",
   "execution_count": 43,
   "id": "843668e6-aaf3-41e6-8699-7645a6851c86",
   "metadata": {},
   "outputs": [],
   "source": [
    "# if the two input chords are harmonically equivalent, return (True, num_semitones) where num_semitones is the distance from n_gram_1 (up) to n_gram_2\n",
    "# otherwise, return (False, None)\n",
    "def compare_chords(chord_1, chord_2):\n",
    "    if chord_2 in equiv_dict[chord_1]:\n",
    "        return (True, equiv_dict[chord_1][chord_2])\n",
    "    else:\n",
    "        return (False, None)\n",
    "\n",
    "assert(compare_chords('C','D') == (True, 2))\n",
    "assert(compare_chords('C','E') == (True, 4))\n",
    "assert(compare_chords('C','Amin') == (False, None))"
   ]
  },
  {
   "cell_type": "code",
   "execution_count": 44,
   "id": "5ee4bc5d-ad14-47ce-9f81-2cb68e8cd285",
   "metadata": {},
   "outputs": [
    {
     "name": "stdout",
     "output_type": "stream",
     "text": [
      "(True, 5)\n",
      "(False, None)\n"
     ]
    }
   ],
   "source": [
    "# if the two input n_grams are harmonically equivalent, return (True, num_semitones) where num_semitones is the distance from n_gram_1 (up) to n_gram_2\n",
    "# otherwise, return (False, None)\n",
    "def compare_n_grams(n_gram_1, n_gram_2):\n",
    "    list_1 = n_gram_1.split(',')\n",
    "    list_2 = n_gram_2.split(',')\n",
    "\n",
    "    # if they aren't the same length, we don't have to check anything\n",
    "    if len(list_1) != len(list_2):\n",
    "        return (False, None)\n",
    "\n",
    "    # now we can assume they have the same length\n",
    "    comparison = [compare_chords(list_1[i], list_2[i]) for i in range(len(list_1))]\n",
    "\n",
    "    # if any pairs are not the same, return False\n",
    "    for c in comparison:\n",
    "        if not c[0]:\n",
    "            return (False, None)\n",
    "\n",
    "    # now we can assume every respective pair is equivalent, but we still need all of the distances to match\n",
    "    dist_0 = comparison[0][1]\n",
    "    for c in comparison:\n",
    "        if c[1] != dist_0:\n",
    "            return (False, None)\n",
    "\n",
    "    return (True, dist_0)\n",
    "\n",
    "print(compare_n_grams('C,D,E','F,G,A'))\n",
    "print(compare_n_grams('C,D,E','F,G,B'))"
   ]
  },
  {
   "cell_type": "code",
   "execution_count": 45,
   "id": "2b1d7262-f179-499c-b878-4f05a4798302",
   "metadata": {},
   "outputs": [],
   "source": [
    "# return true/false depending on if a song contains a harmonically equivalent n_gram to the input n_gram\n",
    "# new version of this, making use of the equivalence dictionary for lookups rather than doing calculations every time\n",
    "def contains_n_gram(song, n_gram):\n",
    "    # assumption: input song is a comma-separated string of chord names\n",
    "    # assumption: input n_gram is a comma-separated string of chord names\n",
    "\n",
    "    # skip ahead and return true if the raw version is the song\n",
    "    if n_gram in song:\n",
    "        return True\n",
    "\n",
    "    # split up the song and n_gram into lists of strings of single chords\n",
    "    song_as_list = song.split(',')\n",
    "    song_length = len(song_as_list)\n",
    "    n_gram_as_list = n_gram.split(',')\n",
    "    n = len(n_gram_as_list)\n",
    "\n",
    "    for i in range(0,song_length - n):\n",
    "        song_n_gram = ','.join(song_as_list[i:i+n])\n",
    "        is_same, dist = compare_n_grams(n_gram, song_n_gram)\n",
    "        #if is_same:\n",
    "        #    return True\n",
    "        print(song_n_gram)\n",
    "        print(is_same)\n",
    "        print()\n",
    "\n",
    "assert(contains_n_gram('A,B,C,D,E,F,G','C,D'))\n",
    "assert(contains_n_gram('A,B,C,D,E,F,G','F,G'))"
   ]
  },
  {
   "cell_type": "code",
   "execution_count": 46,
   "id": "6d8a7f12-1b8c-45db-ad84-8a9665ddd64c",
   "metadata": {},
   "outputs": [],
   "source": [
    "import json\n",
    "with open(data_folder_path + 'harmonic_equivalence_dictionary.json','w') as f:\n",
    "    json.dump(obj = equiv_dict, fp = f)"
   ]
  }
 ],
 "metadata": {
  "kernelspec": {
   "display_name": "Python 3 (ipykernel)",
   "language": "python",
   "name": "python3"
  },
  "language_info": {
   "codemirror_mode": {
    "name": "ipython",
    "version": 3
   },
   "file_extension": ".py",
   "mimetype": "text/x-python",
   "name": "python",
   "nbconvert_exporter": "python",
   "pygments_lexer": "ipython3",
   "version": "3.12.4"
  }
 },
 "nbformat": 4,
 "nbformat_minor": 5
}
