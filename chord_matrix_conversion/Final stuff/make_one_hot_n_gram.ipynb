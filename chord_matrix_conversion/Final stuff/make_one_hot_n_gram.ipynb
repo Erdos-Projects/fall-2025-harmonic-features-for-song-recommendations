{
 "cells": [
  {
   "cell_type": "markdown",
   "id": "b856d63a-df2e-4935-8f8c-17a98499bcbf",
   "metadata": {},
   "source": [
    "This notebook provides tools for add one-hot columns based on whether a song contains an n-gram which is harmonically equivalent to a fixed n-gram\n",
    "\n",
    "In other words, given a dataframe with a \"chords\" column and a fixed n-gram (such as \"C,F,G\"), tabulate a binary column titled \"contains_C,F,G\" which is 1 if the row in that column contains any 1-4-5 chord progression, and 0 if not."
   ]
  },
  {
   "cell_type": "code",
   "execution_count": 27,
   "id": "afcf1838-91d1-49a5-be10-1f13565a2e3d",
   "metadata": {},
   "outputs": [],
   "source": [
    "# read the equivalence dictionary file\n",
    "# this is a dictionary of dictionaries\n",
    "#    the top-level keys are chord names (e.g. 'C','Amin')\n",
    "#    the top-level values are dictionaries, whose keys are equivalent chords, and whose values are the semitone distance between the top-level key and the low-level key\n",
    "with open('harmonic_equivalence.json') as file:\n",
    "    equiv_dict = json.load(file)"
   ]
  },
  {
   "cell_type": "code",
   "execution_count": 36,
   "id": "aaccd128-30fa-41ea-9f36-46c4c50466d9",
   "metadata": {},
   "outputs": [
    {
     "name": "stdout",
     "output_type": "stream",
     "text": [
      "{'C': 0, 'Cs': 1, 'D': 2, 'Ds': 3, 'E': 4, 'Es': 5, 'Fs': 6, 'G': 7, 'Gs': 8, 'A': 9, 'As': 10, 'B': 11, 'Db': 1, 'Eb': 3, 'F': 5, 'Gb': 6, 'Ab': 8, 'Bb': 10}\n"
     ]
    }
   ],
   "source": [
    "print(equiv_dict['C'])"
   ]
  },
  {
   "cell_type": "code",
   "execution_count": 29,
   "id": "1adb6115-8f10-446f-80d4-319f0fa2d778",
   "metadata": {},
   "outputs": [],
   "source": [
    "# if the two input chords are harmonically equivalent, return (True, num_semitones) where num_semitones is the distance from n_gram_1 (up) to n_gram_2\n",
    "# otherwise, return (False, None)\n",
    "def compare_chords(chord_1, chord_2):\n",
    "    if chord_2 in equiv_dict[chord_1]:\n",
    "        return (True, equiv_dict[chord_1][chord_2])\n",
    "    else:\n",
    "        return (False, None)\n",
    "\n",
    "assert(compare_chords('C','D')[0])\n",
    "assert(compare_chords('C','E')[0])\n",
    "assert(not(compare_chords('C','Amin')[0]))"
   ]
  },
  {
   "cell_type": "code",
   "execution_count": 30,
   "id": "cab6df4d-1052-45f9-b0fa-ff2518a97e72",
   "metadata": {},
   "outputs": [],
   "source": [
    "# if the two input n_grams are harmonically equivalent, return (True, num_semitones) where num_semitones is the distance from n_gram_1 (up) to n_gram_2\n",
    "# otherwise, return (False, None)\n",
    "def compare_n_grams(n_gram_1, n_gram_2):\n",
    "    list_1 = n_gram_1.split(',')\n",
    "    list_2 = n_gram_2.split(',')\n",
    "\n",
    "    # if they aren't the same length, we don't have to check anything\n",
    "    if len(list_1) != len(list_2):\n",
    "        return (False, None)\n",
    "\n",
    "    # now we can assume they have the same length\n",
    "    comparison = [compare_chords(list_1[i], list_2[i]) for i in range(len(list_1))]\n",
    "\n",
    "    # if any pairs are not the same, return False\n",
    "    for c in comparison:\n",
    "        if not c[0]:\n",
    "            return (False, None)\n",
    "\n",
    "    # now we can assume every respective pair is equivalent, but we still need all of the distances to match\n",
    "    dist_0 = comparison[0][1]\n",
    "    for c in comparison:\n",
    "        if c[1] != dist_0:\n",
    "            return (False, None)\n",
    "\n",
    "    return (True, dist_0)\n",
    "\n",
    "assert(compare_n_grams('C,D,E','F,G,A') == (True, 5))\n",
    "assert(compare_n_grams('C,D,E','F,G,B') == (False, None))"
   ]
  },
  {
   "cell_type": "code",
   "execution_count": 42,
   "id": "a016541e-968b-488c-8fce-5c604c470c7e",
   "metadata": {},
   "outputs": [],
   "source": [
    "# return true/false depending on if a song contains a harmonically equivalent n_gram to the input n_gram\n",
    "# new version of this, making use of the equivalence dictionary for lookups rather than doing calculations every time\n",
    "def contains_n_gram(song, n_gram):\n",
    "    # assumption: input song is a comma-separated string of chord names\n",
    "    # assumption: input n_gram is a comma-separated string of chord names\n",
    "\n",
    "    # skip ahead and return true if the literal/raw version is the song\n",
    "    # This isn't necessary to have, but it was added because it seemed to speed things up\n",
    "    # Probably depends what kind of looping/checking is happening whether this will speed up or slow down\n",
    "    if n_gram in song:\n",
    "        return True\n",
    "\n",
    "    song_as_list = song.split(',')\n",
    "    n = len(n_gram.split(','))\n",
    "    for i in range(0,len(song_as_list) - n):\n",
    "        song_n_gram = ','.join(song_as_list[i:i+n])\n",
    "        if compare_n_grams(n_gram, song_n_gram)[0]:\n",
    "            return True\n",
    "    return False\n",
    "\n",
    "assert(contains_n_gram('A,B,C,D,E,F,G','C,D'))\n",
    "assert(contains_n_gram('A,B,C,D,E,F','F,G'))\n",
    "assert(not(contains_n_gram('A,B,C,D,E,F','C,E')))"
   ]
  },
  {
   "cell_type": "code",
   "execution_count": null,
   "id": "c77d7ace-5997-4d2c-a94c-ec9edd837898",
   "metadata": {},
   "outputs": [],
   "source": [
    "# given the chord column of our dataframe and a fixed n-gram, make a binary one-hot column for that n-gram\n",
    "def get_one_hot(chord_column, n_gram):\n",
    "    return chord_column.apply(lambda song : contains_n_gram(song, n_gram))"
   ]
  }
 ],
 "metadata": {
  "kernelspec": {
   "display_name": "Python 3 (ipykernel)",
   "language": "python",
   "name": "python3"
  },
  "language_info": {
   "codemirror_mode": {
    "name": "ipython",
    "version": 3
   },
   "file_extension": ".py",
   "mimetype": "text/x-python",
   "name": "python",
   "nbconvert_exporter": "python",
   "pygments_lexer": "ipython3",
   "version": "3.12.4"
  }
 },
 "nbformat": 4,
 "nbformat_minor": 5
}
