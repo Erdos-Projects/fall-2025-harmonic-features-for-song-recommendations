{
 "cells": [
  {
   "cell_type": "markdown",
   "id": "72b0918c-77c2-44c9-a626-b0f4116d70f8",
   "metadata": {},
   "source": [
    "This notebook produces a simplified/cleaned version of the chords column, where a chord sequence is converted to a comman-separated string of chord names, removing section lables, and removing inversion markers."
   ]
  },
  {
   "cell_type": "code",
   "execution_count": null,
   "id": "8c01f325-1e5b-426a-9b6c-75b6a7def02c",
   "metadata": {},
   "outputs": [],
   "source": [
    "# replacing spaces with commas\n",
    "def replace_space_with_comma(my_string):\n",
    "    return my_string.replace(\" \",\",\")"
   ]
  },
  {
   "cell_type": "code",
   "execution_count": null,
   "id": "8730f1be-17d9-45ff-b658-0255a6c80ebd",
   "metadata": {},
   "outputs": [],
   "source": [
    "# Remove section markers\n",
    "def remove_section_markers(my_string):\n",
    "    result = []\n",
    "    i = 0\n",
    "    n = len(my_string)\n",
    "    while i < n:\n",
    "        if my_string[i] == '<':\n",
    "            # Skip until after the following \", \"\n",
    "            j = my_string.find('>', i)\n",
    "            if j == -1:\n",
    "                break  # no closing '>', stop\n",
    "            i = j + 2  # skip '>,' and the space\n",
    "        else:\n",
    "            result.append(my_string[i])\n",
    "            i += 1\n",
    "    assert('<' not in result)\n",
    "    assert('>' not in result)\n",
    "    return ''.join(result)"
   ]
  },
  {
   "cell_type": "code",
   "execution_count": null,
   "id": "4e1bee14-c855-453f-9183-57b3bcddcef6",
   "metadata": {},
   "outputs": [],
   "source": [
    "# Remove inversions\n",
    "def remove_inversions(my_string):\n",
    "    result = []\n",
    "    i = 0\n",
    "    n = len(my_string)\n",
    "    while i < n:\n",
    "        if my_string[i] == '/':\n",
    "            # Skip until after the following \", \"\n",
    "            j = my_string.find(',', i)\n",
    "            if j == -1:\n",
    "                break  # no closing comma, stop\n",
    "            i = j  # skip comma\n",
    "        else:\n",
    "            result.append(my_string[i])\n",
    "            i += 1\n",
    "    return ''.join(result)"
   ]
  },
  {
   "cell_type": "code",
   "execution_count": null,
   "id": "1e8e1f00-116b-4165-840f-2afb1302c3a9",
   "metadata": {},
   "outputs": [],
   "source": [
    "def clean_up_chord_string(my_string):\n",
    "    return remove_inversions(\n",
    "        remove_section_markers(\n",
    "            replace_space_with_comma(my_string)))"
   ]
  },
  {
   "cell_type": "markdown",
   "id": "26c37e16-e33b-4af0-bb01-681916d684fe",
   "metadata": {},
   "source": [
    "To produce a cleand-up chords column, use the following code snippet:"
   ]
  },
  {
   "cell_type": "code",
   "execution_count": null,
   "id": "1542e11e-966f-4090-ab8e-10a3c42acd48",
   "metadata": {},
   "outputs": [],
   "source": [
    "df['clean_chords'] = df['chords'].apply(clean_up_chord_string)"
   ]
  }
 ],
 "metadata": {
  "kernelspec": {
   "display_name": "Python 3 (ipykernel)",
   "language": "python",
   "name": "python3"
  },
  "language_info": {
   "codemirror_mode": {
    "name": "ipython",
    "version": 3
   },
   "file_extension": ".py",
   "mimetype": "text/x-python",
   "name": "python",
   "nbconvert_exporter": "python",
   "pygments_lexer": "ipython3",
   "version": "3.12.4"
  }
 },
 "nbformat": 4,
 "nbformat_minor": 5
}
