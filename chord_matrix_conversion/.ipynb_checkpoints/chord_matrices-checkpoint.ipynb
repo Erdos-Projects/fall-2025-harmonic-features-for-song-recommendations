{
 "cells": [
  {
   "cell_type": "markdown",
   "id": "ab509b08-5ba5-4ff2-ba08-73bec8e33487",
   "metadata": {},
   "source": [
    "The goal of this notebook is convert the chordonomicon data set to make each song a matrix where each column records a single chord. \n",
    "\n",
    "Steps:\n",
    "\n",
    "1. Import the chordonomicon data set, drop all columns except for 'id' and 'chords'\n",
    "2. Remove section marker info from chords i.e. remove \\<intro_1\\>\n",
    "3. For each song, convert each chord into a vector, then concatenate them into a matrix "
   ]
  },
  {
   "cell_type": "code",
   "execution_count": 86,
   "id": "602903d3-fc5e-4813-b4a0-9b7dcfff001e",
   "metadata": {},
   "outputs": [],
   "source": [
    "# importing basic packages\n",
    "import numpy as np\n",
    "import pandas as pd\n",
    "import matplotlib as plt\n",
    "import ast\n",
    "\n",
    "# read in the data set\n",
    "df = pd.read_csv('../data/chordonomicon.csv', low_memory=False)"
   ]
  },
  {
   "cell_type": "code",
   "execution_count": 87,
   "id": "5fb30571-731a-4f38-bd98-708669a9c548",
   "metadata": {},
   "outputs": [
    {
     "name": "stdout",
     "output_type": "stream",
     "text": [
      "['C7', 'Cmaj7', 'C9', 'Cmaj9', 'Cmajs9', 'Cb9', 'Cb79', 'Cb7b9', 'C7b9', 'C7sus2']\n"
     ]
    }
   ],
   "source": [
    "# Read the mapping CSV file\n",
    "chord_relations = pd.read_csv('../data/chords_mapping.csv')\n",
    "\n",
    "# Create a dictionary with keys the \"chords\" and values the \"degrees\"\n",
    "chord_degrees = dict(zip(chord_relations['Chords'], chord_relations['Degrees']))\n",
    "for key, value in chord_degrees.items():\n",
    "    chord_degrees[key] = ast.literal_eval(value)\n",
    "    \n",
    "# full list of chords from the chords_mapping csv\n",
    "known_chords = list(chord_degrees.keys())\n",
    "assert(len(known_chords) == len(set(known_chords))) # Validating no duplicates\n",
    "\n",
    "# some examples of what the string labels for known chords look like\n",
    "print(known_chords[0:10])"
   ]
  },
  {
   "cell_type": "code",
   "execution_count": 88,
   "id": "0881bdbe-f6f6-4244-89d7-174eaf5e90a4",
   "metadata": {},
   "outputs": [
    {
     "name": "stdout",
     "output_type": "stream",
     "text": [
      "Number of known chords:  2793\n",
      "C major: \t [1, 0, 0, 0, 1, 0, 0, 1, 0, 0, 0, 0]\n",
      "C major 7: \t [1, 0, 0, 0, 1, 0, 0, 1, 0, 0, 0, 1]\n",
      "C minor: \t [1, 0, 0, 1, 0, 0, 0, 1, 0, 0, 0, 0]\n"
     ]
    }
   ],
   "source": [
    "# some examples of what chords look like in this data file\n",
    "print(\"Number of known chords: \",len(chord_degrees))\n",
    "print(\"C major: \\t\",chord_degrees['C'])\n",
    "print(\"C major 7: \\t\",chord_degrees['Cmaj7'])\n",
    "print(\"C minor: \\t\",chord_degrees['Cmin'])"
   ]
  },
  {
   "cell_type": "code",
   "execution_count": 89,
   "id": "c87db9a5-6145-44c6-b8ff-be71f05e535a",
   "metadata": {},
   "outputs": [
    {
     "data": {
      "text/html": [
       "<div>\n",
       "<style scoped>\n",
       "    .dataframe tbody tr th:only-of-type {\n",
       "        vertical-align: middle;\n",
       "    }\n",
       "\n",
       "    .dataframe tbody tr th {\n",
       "        vertical-align: top;\n",
       "    }\n",
       "\n",
       "    .dataframe thead th {\n",
       "        text-align: right;\n",
       "    }\n",
       "</style>\n",
       "<table border=\"1\" class=\"dataframe\">\n",
       "  <thead>\n",
       "    <tr style=\"text-align: right;\">\n",
       "      <th></th>\n",
       "      <th>chords</th>\n",
       "      <th>genres</th>\n",
       "    </tr>\n",
       "  </thead>\n",
       "  <tbody>\n",
       "    <tr>\n",
       "      <th>265891</th>\n",
       "      <td>&lt;intro_1&gt; Bmin Emin Bmin Emin Bmin G D C B Emi...</td>\n",
       "      <td>NaN</td>\n",
       "    </tr>\n",
       "    <tr>\n",
       "      <th>345994</th>\n",
       "      <td>Amin E7 Amin G7 C Amin E G7 C Amin E7 Amin</td>\n",
       "      <td>NaN</td>\n",
       "    </tr>\n",
       "    <tr>\n",
       "      <th>296514</th>\n",
       "      <td>&lt;verse_1&gt; G As F &lt;verse_2&gt; G As F G As F G As ...</td>\n",
       "      <td>iskelma\"suomi rock</td>\n",
       "    </tr>\n",
       "    <tr>\n",
       "      <th>127926</th>\n",
       "      <td>&lt;intro_1&gt; Bsus2 Bmin A G G/Fs Emin Bmin &lt;verse...</td>\n",
       "      <td>alternative metal\"nu metal\"post-grunge</td>\n",
       "    </tr>\n",
       "    <tr>\n",
       "      <th>132075</th>\n",
       "      <td>&lt;chorus_1&gt; F G Emin F Dmin7 G Dmin7 G F G Emin...</td>\n",
       "      <td>nz indie</td>\n",
       "    </tr>\n",
       "  </tbody>\n",
       "</table>\n",
       "</div>"
      ],
      "text/plain": [
       "                                                   chords  \\\n",
       "265891  <intro_1> Bmin Emin Bmin Emin Bmin G D C B Emi...   \n",
       "345994         Amin E7 Amin G7 C Amin E G7 C Amin E7 Amin   \n",
       "296514  <verse_1> G As F <verse_2> G As F G As F G As ...   \n",
       "127926  <intro_1> Bsus2 Bmin A G G/Fs Emin Bmin <verse...   \n",
       "132075  <chorus_1> F G Emin F Dmin7 G Dmin7 G F G Emin...   \n",
       "\n",
       "                                        genres  \n",
       "265891                                     NaN  \n",
       "345994                                     NaN  \n",
       "296514                      iskelma\"suomi rock  \n",
       "127926  alternative metal\"nu metal\"post-grunge  \n",
       "132075                                nz indie  "
      ]
     },
     "execution_count": 89,
     "metadata": {},
     "output_type": "execute_result"
    }
   ],
   "source": [
    "# drop all columns except for chords and genres\n",
    "chord_data = df[['chords','genres']]\n",
    "chord_data.sample(5)"
   ]
  },
  {
   "cell_type": "code",
   "execution_count": 90,
   "id": "b368f4b4-0da0-408f-93ee-10f0fcaab7cf",
   "metadata": {},
   "outputs": [
    {
     "data": {
      "text/html": [
       "<div>\n",
       "<style scoped>\n",
       "    .dataframe tbody tr th:only-of-type {\n",
       "        vertical-align: middle;\n",
       "    }\n",
       "\n",
       "    .dataframe tbody tr th {\n",
       "        vertical-align: top;\n",
       "    }\n",
       "\n",
       "    .dataframe thead th {\n",
       "        text-align: right;\n",
       "    }\n",
       "</style>\n",
       "<table border=\"1\" class=\"dataframe\">\n",
       "  <thead>\n",
       "    <tr style=\"text-align: right;\">\n",
       "      <th></th>\n",
       "      <th>chords</th>\n",
       "      <th>genres</th>\n",
       "    </tr>\n",
       "  </thead>\n",
       "  <tbody>\n",
       "    <tr>\n",
       "      <th>501949</th>\n",
       "      <td>G,C,Cadd9,G,C,Cadd9,G,C,Cadd9,G,C,Cadd9,D,G,C,...</td>\n",
       "      <td>NaN</td>\n",
       "    </tr>\n",
       "    <tr>\n",
       "      <th>410491</th>\n",
       "      <td>Bmin,Fmin,G,A,Emin,G,A,Emin,G,A,Bmin,Fmin,G,A,...</td>\n",
       "      <td>banda\"corrido\"musica mexicana\"norteno\"sierreno</td>\n",
       "    </tr>\n",
       "    <tr>\n",
       "      <th>531578</th>\n",
       "      <td>C,D,E,F,C,D,E,C,D,E,F,G</td>\n",
       "      <td>garage rock</td>\n",
       "    </tr>\n",
       "    <tr>\n",
       "      <th>352609</th>\n",
       "      <td>G,D7,G,G7,C,G,D7,G,D7,G,D7,G,G7,C,G,D7,G,D7,G,...</td>\n",
       "      <td>classic country pop\"nashville sound\"traditiona...</td>\n",
       "    </tr>\n",
       "    <tr>\n",
       "      <th>616994</th>\n",
       "      <td>D,Dmaj7,D,G,D,Dmaj7,D,G,D,Dmaj7,D,G,D,Dmaj7,D,...</td>\n",
       "      <td>NaN</td>\n",
       "    </tr>\n",
       "  </tbody>\n",
       "</table>\n",
       "</div>"
      ],
      "text/plain": [
       "                                                   chords  \\\n",
       "501949  G,C,Cadd9,G,C,Cadd9,G,C,Cadd9,G,C,Cadd9,D,G,C,...   \n",
       "410491  Bmin,Fmin,G,A,Emin,G,A,Emin,G,A,Bmin,Fmin,G,A,...   \n",
       "531578                            C,D,E,F,C,D,E,C,D,E,F,G   \n",
       "352609  G,D7,G,G7,C,G,D7,G,D7,G,D7,G,G7,C,G,D7,G,D7,G,...   \n",
       "616994  D,Dmaj7,D,G,D,Dmaj7,D,G,D,Dmaj7,D,G,D,Dmaj7,D,...   \n",
       "\n",
       "                                                   genres  \n",
       "501949                                                NaN  \n",
       "410491     banda\"corrido\"musica mexicana\"norteno\"sierreno  \n",
       "531578                                        garage rock  \n",
       "352609  classic country pop\"nashville sound\"traditiona...  \n",
       "616994                                                NaN  "
      ]
     },
     "execution_count": 90,
     "metadata": {},
     "output_type": "execute_result"
    }
   ],
   "source": [
    "# replacing spaces with commas\n",
    "def replace_space_with_comma(my_string):\n",
    "    return my_string.replace(\" \",\",\")\n",
    "\n",
    "# replacing spaces with commons in all chords in all rows of the data\n",
    "chord_data.loc[:,'chords'] = chord_data['chords'].apply(replace_space_with_comma)\n",
    "chord_data.sample(5)"
   ]
  },
  {
   "cell_type": "code",
   "execution_count": 91,
   "id": "d75ae15b-21a7-4d0f-9c4b-aa06a60ec248",
   "metadata": {},
   "outputs": [
    {
     "data": {
      "text/html": [
       "<div>\n",
       "<style scoped>\n",
       "    .dataframe tbody tr th:only-of-type {\n",
       "        vertical-align: middle;\n",
       "    }\n",
       "\n",
       "    .dataframe tbody tr th {\n",
       "        vertical-align: top;\n",
       "    }\n",
       "\n",
       "    .dataframe thead th {\n",
       "        text-align: right;\n",
       "    }\n",
       "</style>\n",
       "<table border=\"1\" class=\"dataframe\">\n",
       "  <thead>\n",
       "    <tr style=\"text-align: right;\">\n",
       "      <th></th>\n",
       "      <th>chords</th>\n",
       "      <th>genres</th>\n",
       "    </tr>\n",
       "  </thead>\n",
       "  <tbody>\n",
       "    <tr>\n",
       "      <th>354191</th>\n",
       "      <td>C,Dmin,C,G,C,Emin,F,Fmin,C,Dmin,Fmin,C,G,C,Emi...</td>\n",
       "      <td>NaN</td>\n",
       "    </tr>\n",
       "    <tr>\n",
       "      <th>30650</th>\n",
       "      <td>F,G,Gmin,F,G,Gmin,C,F,As,F,Gmin,Dmin,Gmin,F,G,...</td>\n",
       "      <td>canzone d\"classic italian pop\"italian adult pop</td>\n",
       "    </tr>\n",
       "    <tr>\n",
       "      <th>428091</th>\n",
       "      <td>Amin,Emin,Dmin,Emin,Amin,Emin,Dmin,Emin,Amin,E...</td>\n",
       "      <td>NaN</td>\n",
       "    </tr>\n",
       "    <tr>\n",
       "      <th>420604</th>\n",
       "      <td>Ab,Eb7,Ab,Eb7,Ab,Eb7,Ab,Eb7,Ab,Eb7,Ab,Eb7,Ab,E...</td>\n",
       "      <td>musica mexicana\"norteno</td>\n",
       "    </tr>\n",
       "    <tr>\n",
       "      <th>179235</th>\n",
       "      <td>Amin,F,Emin,G,C,Amin,F,Emin,G,C,Amin,F,Emin,G,...</td>\n",
       "      <td>classic texas country\"modern southern rock\"red...</td>\n",
       "    </tr>\n",
       "  </tbody>\n",
       "</table>\n",
       "</div>"
      ],
      "text/plain": [
       "                                                   chords  \\\n",
       "354191  C,Dmin,C,G,C,Emin,F,Fmin,C,Dmin,Fmin,C,G,C,Emi...   \n",
       "30650   F,G,Gmin,F,G,Gmin,C,F,As,F,Gmin,Dmin,Gmin,F,G,...   \n",
       "428091  Amin,Emin,Dmin,Emin,Amin,Emin,Dmin,Emin,Amin,E...   \n",
       "420604  Ab,Eb7,Ab,Eb7,Ab,Eb7,Ab,Eb7,Ab,Eb7,Ab,Eb7,Ab,E...   \n",
       "179235  Amin,F,Emin,G,C,Amin,F,Emin,G,C,Amin,F,Emin,G,...   \n",
       "\n",
       "                                                   genres  \n",
       "354191                                                NaN  \n",
       "30650     canzone d\"classic italian pop\"italian adult pop  \n",
       "428091                                                NaN  \n",
       "420604                            musica mexicana\"norteno  \n",
       "179235  classic texas country\"modern southern rock\"red...  "
      ]
     },
     "execution_count": 91,
     "metadata": {},
     "output_type": "execute_result"
    }
   ],
   "source": [
    "# Remove section markers\n",
    "def remove_section_markers(my_string):\n",
    "    result = []\n",
    "    i = 0\n",
    "    n = len(my_string)\n",
    "    while i < n:\n",
    "        if my_string[i] == '<':\n",
    "            # Skip until after the following \", \"\n",
    "            j = my_string.find('>', i)\n",
    "            if j == -1:\n",
    "                break  # no closing '>', stop\n",
    "            i = j + 2  # skip '>,' and the space\n",
    "        else:\n",
    "            result.append(my_string[i])\n",
    "            i += 1\n",
    "    assert('<' not in result)\n",
    "    assert('>' not in result)\n",
    "    return ''.join(result)\n",
    "\n",
    "chord_data.loc[:,'chords'] = chord_data['chords'].apply(remove_section_markers)\n",
    "chord_data.sample(5)"
   ]
  },
  {
   "cell_type": "code",
   "execution_count": 92,
   "id": "4025fb61-b0af-438f-9b8a-c8350cac8044",
   "metadata": {},
   "outputs": [],
   "source": [
    "# Removing inversions\n",
    "def remove_inversions(my_string):\n",
    "    result = []\n",
    "    i = 0\n",
    "    n = len(my_string)\n",
    "    while i < n:\n",
    "        if my_string[i] == '/':\n",
    "            # Skip until after the following \", \"\n",
    "            j = my_string.find(',', i)\n",
    "            if j == -1:\n",
    "                break  # no closing comma, stop\n",
    "            i = j  # skip comma\n",
    "        else:\n",
    "            result.append(my_string[i])\n",
    "            i += 1\n",
    "    return ''.join(result)"
   ]
  },
  {
   "cell_type": "code",
   "execution_count": 93,
   "id": "0ce013b6-849b-418b-8230-a3e96c0e3866",
   "metadata": {},
   "outputs": [
    {
     "name": "stdout",
     "output_type": "stream",
     "text": [
      "E,D,A/Cs,E,D,A/Cs,E,D,A/Cs,E,D,A/Cs,E,D,A/Cs,E,D,A,C,E,G,D,A,E,G,D,A,E,G,D,A,C,D,E,D,A/Cs,E,D,A/Cs,E,D,A/Cs,E,D,A/Cs,E,D,A,C,E,G,D,A,E,G,D,A,E,G,D,A,C,D,E,C,G,D,E,C,G,D,E,C,G,D,C,D,E,G,E,G,D,A,E,G,D,A,E,G,D,A,C,D,E,G,D,A,E,G,D,A,E,G,D,A,C,D,E,C,G,D,E,C,G,D,E,C,G,D,C,D,E\n",
      "\n",
      "E,D,A,E,D,A,E,D,A,E,D,A,E,D,A,E,D,A,C,E,G,D,A,E,G,D,A,E,G,D,A,C,D,E,D,A,E,D,A,E,D,A,E,D,A,E,D,A,C,E,G,D,A,E,G,D,A,E,G,D,A,C,D,E,C,G,D,E,C,G,D,E,C,G,D,C,D,E,G,E,G,D,A,E,G,D,A,E,G,D,A,C,D,E,G,D,A,E,G,D,A,E,G,D,A,C,D,E,C,G,D,E,C,G,D,E,C,G,D,C,D,E\n",
      "\n",
      "\n",
      "D,Dmaj7,D,Dmaj7,Emin,A,D,G,Emin,A,D,G,Emin,A,D,G,Emin,A,D,Emin,A,D,G,Emin,A,D,G,D/Fs,Emin,A,D,G,D/Fs,Emin,A,D,G,Emin,A,D,G,Emin,A,D,G,Emin,A,D,G,Emin,A,D,G,Emin,A,D,G,Emin,A,D,Emin,A,D,G,Emin,A,D,G,D/Fs,Emin,A,D,G,D/Fs,Emin,A,D,G,Emin,A,D,G,D/Fs,Emin,A,D,G,D/Fs,Emin,A,D,G,D/Fs,Emin,A,D,Emin,A,D,G,Emin,A,D,G,D/Fs,Emin,A,D,G,D/Fs,Emin,A,D,G,Emin,A,D,G,D/Fs,Emin,A,D,G,D/Fs,Emin,A,D,G,D/Fs,Emin,A,D,G,Emin,A,D,G,D/Fs\n",
      "\n",
      "D,Dmaj7,D,Dmaj7,Emin,A,D,G,Emin,A,D,G,Emin,A,D,G,Emin,A,D,Emin,A,D,G,Emin,A,D,G,D,Emin,A,D,G,D,Emin,A,D,G,Emin,A,D,G,Emin,A,D,G,Emin,A,D,G,Emin,A,D,G,Emin,A,D,G,Emin,A,D,Emin,A,D,G,Emin,A,D,G,D,Emin,A,D,G,D,Emin,A,D,G,Emin,A,D,G,D,Emin,A,D,G,D,Emin,A,D,G,D,Emin,A,D,Emin,A,D,G,Emin,A,D,G,D,Emin,A,D,G,D,Emin,A,D,G,Emin,A,D,G,D,Emin,A,D,G,D,Emin,A,D,G,D,Emin,A,D,G,Emin,A,D,G,D\n",
      "\n",
      "\n",
      "C,G,C,G,C,G,C,G,C,Bmin,Emin,Amin,D,G,C,D,G,C,D,G,D/Fs,F,E,Amin,D,G,C,D,G,C,D,G,D/Fs,F,E,Amin,D,C,G,C,G,C,Bmin,Emin,Amin,D,G,C,D,G,C,D,G,D/Fs,F,E,Amin,D,G,C,D,G,C,D,G,D/Fs,F,E,Amin,D,G,C,D,G,C,D,G,D/Fs,F,E,Amin,D,G,C,D,G,C,D,G,D/Fs,F,E,Amin,D,C,G,C,G\n",
      "\n",
      "C,G,C,G,C,G,C,G,C,Bmin,Emin,Amin,D,G,C,D,G,C,D,G,D,F,E,Amin,D,G,C,D,G,C,D,G,D,F,E,Amin,D,C,G,C,G,C,Bmin,Emin,Amin,D,G,C,D,G,C,D,G,D,F,E,Amin,D,G,C,D,G,C,D,G,D,F,E,Amin,D,G,C,D,G,C,D,G,D,F,E,Amin,D,G,C,D,G,C,D,G,D,F,E,Amin,D,C,G,C,G\n",
      "\n",
      "\n"
     ]
    }
   ],
   "source": [
    "# get some sample chords with inversions\n",
    "songs_with_inversions = chord_data.loc[['/' in ch for ch in chord_data.chords]]\n",
    "songs_with_inversions.sample(10)\n",
    "\n",
    "# just a basic test on a random chord sequence with some inversions\n",
    "n = 3\n",
    "my_sample = songs_with_inversions.sample(5)\n",
    "for i in range(n):\n",
    "    s = songs_with_inversions.iloc[i].chords\n",
    "    print(s)\n",
    "    print()\n",
    "    print(remove_inversions(s))\n",
    "    print()\n",
    "    print()"
   ]
  },
  {
   "cell_type": "code",
   "execution_count": 94,
   "id": "2f12383e-7cdd-45d7-9e50-44edf8516cb2",
   "metadata": {},
   "outputs": [
    {
     "data": {
      "text/html": [
       "<div>\n",
       "<style scoped>\n",
       "    .dataframe tbody tr th:only-of-type {\n",
       "        vertical-align: middle;\n",
       "    }\n",
       "\n",
       "    .dataframe tbody tr th {\n",
       "        vertical-align: top;\n",
       "    }\n",
       "\n",
       "    .dataframe thead th {\n",
       "        text-align: right;\n",
       "    }\n",
       "</style>\n",
       "<table border=\"1\" class=\"dataframe\">\n",
       "  <thead>\n",
       "    <tr style=\"text-align: right;\">\n",
       "      <th></th>\n",
       "      <th>chords</th>\n",
       "      <th>genres</th>\n",
       "    </tr>\n",
       "  </thead>\n",
       "  <tbody>\n",
       "    <tr>\n",
       "      <th>630961</th>\n",
       "      <td>E,Csmin,Gsmin,B,E,Csmin,Gsmin,A,E,Gsmin,Csmin,...</td>\n",
       "      <td>NaN</td>\n",
       "    </tr>\n",
       "    <tr>\n",
       "      <th>274344</th>\n",
       "      <td>F,C,F,C,F,C,F,C,F,C,F,G,Amin,F,Emin,Dmin,G,C,A...</td>\n",
       "      <td>alternative emo\"dreamo\"emo\"stl indie</td>\n",
       "    </tr>\n",
       "    <tr>\n",
       "      <th>198195</th>\n",
       "      <td>D,A,G,D,A,G,D,A,G,D,Fsmin7,Bmin,G,Dadd11,D,Dad...</td>\n",
       "      <td>NaN</td>\n",
       "    </tr>\n",
       "    <tr>\n",
       "      <th>511786</th>\n",
       "      <td>Fs,B,Fs,Cs,B,Fs,Fs7,B,Fs,Cs,B,Fs,B,Fs,Cs,B,Fs,...</td>\n",
       "      <td>NaN</td>\n",
       "    </tr>\n",
       "    <tr>\n",
       "      <th>291485</th>\n",
       "      <td>Emin,B7sus4,B7,Bdim7,Asus4,Amin,Cmin,Cmin,Gsus...</td>\n",
       "      <td>NaN</td>\n",
       "    </tr>\n",
       "  </tbody>\n",
       "</table>\n",
       "</div>"
      ],
      "text/plain": [
       "                                                   chords  \\\n",
       "630961  E,Csmin,Gsmin,B,E,Csmin,Gsmin,A,E,Gsmin,Csmin,...   \n",
       "274344  F,C,F,C,F,C,F,C,F,C,F,G,Amin,F,Emin,Dmin,G,C,A...   \n",
       "198195  D,A,G,D,A,G,D,A,G,D,Fsmin7,Bmin,G,Dadd11,D,Dad...   \n",
       "511786  Fs,B,Fs,Cs,B,Fs,Fs7,B,Fs,Cs,B,Fs,B,Fs,Cs,B,Fs,...   \n",
       "291485  Emin,B7sus4,B7,Bdim7,Asus4,Amin,Cmin,Cmin,Gsus...   \n",
       "\n",
       "                                      genres  \n",
       "630961                                   NaN  \n",
       "274344  alternative emo\"dreamo\"emo\"stl indie  \n",
       "198195                                   NaN  \n",
       "511786                                   NaN  \n",
       "291485                                   NaN  "
      ]
     },
     "execution_count": 94,
     "metadata": {},
     "output_type": "execute_result"
    }
   ],
   "source": [
    "# remove inversions from the whole data set\n",
    "chord_data.loc[:,'chords'] = chord_data['chords'].apply(remove_inversions)\n",
    "chord_data.sample(5)"
   ]
  },
  {
   "cell_type": "code",
   "execution_count": 95,
   "id": "e173b954-e058-43ed-b351-8583ec85601b",
   "metadata": {},
   "outputs": [],
   "source": [
    "# compile a list of all chords in the data set\n",
    "list_of_chord_lists = list(chord_data.chords)\n",
    "giant_chord_string = ','.join(list_of_chord_lists)\n",
    "data_set_chords = list(set(giant_chord_string.split(','))) # converting to a set as an intermediate step will get rid of duplicates\n",
    "assert(len(data_set_chords) == len(set(data_set_chords))) # validating no duplicates"
   ]
  },
  {
   "cell_type": "code",
   "execution_count": 96,
   "id": "b4faa98e-7bb5-40ea-b1f8-95dadfdd2c50",
   "metadata": {},
   "outputs": [],
   "source": [
    "data_set_chords.remove('') # I still don't understand why the empty string ends up in here after what I'm doing above, but it does, so this gets rid of it. This is a very hacky solution."
   ]
  },
  {
   "cell_type": "code",
   "execution_count": 97,
   "id": "b0be09cb-d121-44e4-9f8f-6123f7ecfcce",
   "metadata": {},
   "outputs": [
    {
     "name": "stdout",
     "output_type": "stream",
     "text": [
      "['C,F,C,E7,Amin,C,F,C,G7,C,F,C,E7,Amin,C,F,G7,C,F,C,E7,Amin,C,F,C,G7,C,F,C,E7,Amin,C,F,G7,C,F,C,F,C,G,C,F,C,E7,Amin,C,F,G7,C,D,G,D,G,D,A,D,G,D,Fs7,Bmin,D,G,A7,D,G,A7,D', 'E,D,A,E,D,A,E,D,A,E,D,A,E,D,A,E,D,A,C,E,G,D,A,E,G,D,A,E,G,D,A,C,D,E,D,A,E,D,A,E,D,A,E,D,A,E,D,A,C,E,G,D,A,E,G,D,A,E,G,D,A,C,D,E,C,G,D,E,C,G,D,E,C,G,D,C,D,E,G,E,G,D,A,E,G,D,A,E,G,D,A,C,D,E,G,D,A,E,G,D,A,E,G,D,A,C,D,E,C,G,D,E,C,G,D,E,C,G,D,C,D,E', 'D,Dmaj7,D,Dmaj7,Emin,A,D,G,Emin,A,D,G,Emin,A,D,G,Emin,A,D,Emin,A,D,G,Emin,A,D,G,D,Emin,A,D,G,D,Emin,A,D,G,Emin,A,D,G,Emin,A,D,G,Emin,A,D,G,Emin,A,D,G,Emin,A,D,G,Emin,A,D,Emin,A,D,G,Emin,A,D,G,D,Emin,A,D,G,D,Emin,A,D,G,Emin,A,D,G,D,Emin,A,D,G,D,Emin,A,D,G,D,Emin,A,D,Emin,A,D,G,Emin,A,D,G,D,Emin,A,D,G,D,Emin,A,D,G,Emin,A,D,G,D,Emin,A,D,G,D,Emin,A,D,G,D,Emin,A,D,G,Emin,A,D,G,D', 'C,G,C,G,C,F,Dmin,G,Dmin,G,C,G,C,F,Dmin,G,Dmin,G,C,F,Dmin,G,Dmin7,G,C,G,C,F,Dmin,G,Dmin,G,C,F,Dmin,G,Dmin,G,C', 'C,G,C,G,C,G,C,G,C,Bmin,Emin,Amin,D,G,C,D,G,C,D,G,D,F,E,Amin,D,G,C,D,G,C,D,G,D,F,E,Amin,D,C,G,C,G,C,Bmin,Emin,Amin,D,G,C,D,G,C,D,G,D,F,E,Amin,D,G,C,D,G,C,D,G,D,F,E,Amin,D,G,C,D,G,C,D,G,D,F,E,Amin,D,G,C,D,G,C,D,G,D,F,E,Amin,D,C,G,C,G']\n",
      "\n",
      "C,F,C,E7,Amin,C,F,C,G7,C,F,C,E7,Amin,C,F,G7,C,F,C,E7,Amin,C,F,C,G7,C,F,C,E7,Amin,C,F,G7,C,F,C,F,C,G,C,F,C,E7,Amin,C,F,G7,C,D,G,D,G,D,A,D,G,D,Fs7,Bmin,D,G,A7,D,G,A7,D,E,D,A,E,D,A,E,D,A,E,D,A,E,D,A,E,D,\n",
      "\n",
      "745\n",
      "['Fs13', 'Gbmajs9', 'A11s', 'Csaug', 'Gmaj7sus4', 'Bmaj7', 'Gminmaj9', 'Bb7', 'Gb9', 'Cs7sus4', 'Dsdim9', 'Fno3d', 'Dsmaj9', 'Assus2', 'Eb7b9', 'Gminadd9', 'Fsaug', 'Fs7', 'C7sus2', 'Bb11s']\n"
     ]
    }
   ],
   "source": [
    "print(list_of_chord_lists[0:5])\n",
    "print()\n",
    "print(giant_chord_string[0:200])\n",
    "print()\n",
    "print(len(data_set_chords))\n",
    "print(data_set_chords[0:20])"
   ]
  },
  {
   "cell_type": "code",
   "execution_count": 98,
   "id": "974a2138-5ddb-4e92-96a0-454ebeacce89",
   "metadata": {},
   "outputs": [
    {
     "name": "stdout",
     "output_type": "stream",
     "text": [
      "0\n",
      "[]\n"
     ]
    }
   ],
   "source": [
    "# list of all chords in the data set which are not in the chords_mapping csv file, should be basically zero\n",
    "mystery_chords = list(set(data_set_chords).difference(set(known_chords)))\n",
    "assert(len(mystery_chords) == len(set(mystery_chords))) # validating no duplicates\n",
    "print(len(mystery_chords))\n",
    "print(mystery_chords)"
   ]
  },
  {
   "cell_type": "code",
   "execution_count": 99,
   "id": "f1f65d4a-7660-43d2-9e40-99332a2e5e93",
   "metadata": {},
   "outputs": [
    {
     "name": "stdout",
     "output_type": "stream",
     "text": [
      "C,F,C,E7,Amin,C,F,C,G7,C,F,C,E7,Amin,C,F,G7,C,F,C,E7,Amin,C,F,C,G7,C,F,C,E7,Amin,C,F,G7,C,F,C,F,C,G,C,F,C,E7,Amin,C,F,G7,C,D,G,D,G,D,A,D,G,D,Fs7,Bmin,D,G,A7,D,G,A7,D\n",
      "\n",
      "[[0 0 0 1 0 0 0 0 1 0 0 0 1 0 0 0 1 0 0 0 1 0 0 0 0 1 0 0 0 1 0 0 0 1 0 0 0 0 0 1 0 0 0 1 0 0 0 1 0 0 1 0 1 0 0 0 1 0 0 1 0 1 0 0 1 0 0]\n",
      " [0 0 0 0 0 0 0 0 0 0 0 0 0 0 0 0 0 0 0 0 0 0 0 0 0 0 0 0 0 0 0 0 0 0 0 0 0 0 0 0 0 0 0 0 0 0 0 0 0 0 0 0 0 0 0 0 0 0 1 0 0 0 0 0 0 0 0]\n",
      " [0 1 0 0 1 0 1 0 0 0 1 0 0 1 0 1 0 0 1 0 0 1 0 1 0 0 0 1 0 0 1 0 1 0 0 1 0 1 0 0 0 1 0 0 1 0 1 0 0 1 0 1 0 1 1 1 0 1 0 0 1 0 1 1 0 1 1]\n",
      " [0 0 0 1 0 0 0 0 0 0 0 0 1 0 0 0 0 0 0 0 1 0 0 0 0 0 0 0 0 1 0 0 0 0 0 0 0 0 0 0 0 0 0 1 0 0 0 0 0 0 0 0 0 0 0 0 0 0 0 0 0 0 0 0 0 0 0]\n",
      " [1 0 1 0 0 1 0 1 1 1 0 1 0 0 1 0 1 1 0 1 0 0 1 0 1 1 1 0 1 0 0 1 0 1 1 0 1 0 1 1 1 0 1 0 0 1 0 1 1 0 1 0 1 0 0 0 1 0 0 0 0 1 1 0 1 1 0]\n",
      " [0 0 0 0 0 0 0 0 0 0 0 0 0 0 0 0 0 0 0 0 0 0 0 0 0 0 0 0 0 0 0 0 0 0 0 0 0 0 0 0 0 0 0 0 0 0 0 0 0 1 0 1 0 1 0 1 0 1 1 1 1 0 0 1 0 0 1]\n",
      " [0 1 0 0 0 0 1 0 1 0 1 0 0 0 0 1 1 0 1 0 0 0 0 1 0 1 0 1 0 0 0 0 1 1 0 1 0 1 0 0 0 1 0 0 0 0 1 1 0 0 0 0 0 0 0 0 0 0 0 0 0 0 0 0 0 0 0]\n",
      " [1 0 1 1 1 1 0 1 0 1 0 1 1 1 1 0 0 1 0 1 1 1 1 0 1 0 1 0 1 1 1 1 0 0 1 0 1 0 1 0 1 0 1 1 1 1 0 0 1 0 0 0 0 0 1 0 0 0 1 0 0 0 1 0 0 1 0]\n",
      " [0 0 0 0 0 0 0 0 0 0 0 0 0 0 0 0 0 0 0 0 0 0 0 0 0 0 0 0 0 0 0 0 0 0 0 0 0 0 0 0 0 0 0 0 0 0 0 0 0 0 0 0 0 0 0 0 0 0 0 0 0 0 0 0 0 0 0]\n",
      " [0 0 0 1 0 0 0 0 1 0 0 0 1 0 0 0 1 0 0 0 1 0 0 0 0 1 0 0 0 1 0 0 0 1 0 0 0 0 0 1 0 0 0 1 0 0 0 1 0 1 1 1 1 1 0 1 1 1 0 1 1 1 0 1 1 0 1]\n",
      " [0 0 0 0 0 0 0 0 0 0 0 0 0 0 0 0 0 0 0 0 0 0 0 0 0 0 0 0 0 0 0 0 0 0 0 0 0 0 0 0 0 0 0 0 0 0 0 0 0 0 0 0 0 0 1 0 0 0 1 0 0 0 1 0 0 1 0]\n",
      " [1 1 1 0 1 1 1 1 0 1 1 1 0 1 1 1 0 1 1 1 0 1 1 1 1 0 1 1 1 0 1 1 1 0 1 1 1 1 1 0 1 1 1 0 1 1 1 0 1 0 0 0 0 0 0 0 0 0 0 0 0 0 0 0 0 0 0]]\n",
      "\n",
      "\n",
      "E,D,A,E,D,A,E,D,A,E,D,A,E,D,A,E,D,A,C,E,G,D,A,E,G,D,A,E,G,D,A,C,D,E,D,A,E,D,A,E,D,A,E,D,A,E,D,A,C,E,G,D,A,E,G,D,A,E,G,D,A,C,D,E,C,G,D,E,C,G,D,E,C,G,D,C,D,E,G,E,G,D,A,E,G,D,A,E,G,D,A,C,D,E,G,D,A,E,G,D,A,E,G,D,A,C,D,E,C,G,D,E,C,G,D,E,C,G,D,C,D,E\n",
      "\n",
      "[[1 0 0 ... 0 0 1]\n",
      " [0 0 0 ... 0 0 0]\n",
      " [0 1 1 ... 0 1 0]\n",
      " ...\n",
      " [0 1 0 ... 0 1 0]\n",
      " [0 0 1 ... 0 0 0]\n",
      " [0 0 0 ... 1 0 0]]\n",
      "\n",
      "\n",
      "D,Dmaj7,D,Dmaj7,Emin,A,D,G,Emin,A,D,G,Emin,A,D,G,Emin,A,D,Emin,A,D,G,Emin,A,D,G,D,Emin,A,D,G,D,Emin,A,D,G,Emin,A,D,G,Emin,A,D,G,Emin,A,D,G,Emin,A,D,G,Emin,A,D,G,Emin,A,D,Emin,A,D,G,Emin,A,D,G,D,Emin,A,D,G,D,Emin,A,D,G,Emin,A,D,G,D,Emin,A,D,G,D,Emin,A,D,G,D,Emin,A,D,Emin,A,D,G,Emin,A,D,G,D,Emin,A,D,G,D,Emin,A,D,G,Emin,A,D,G,D,Emin,A,D,G,D,Emin,A,D,G,D,Emin,A,D,G,Emin,A,D,G,D\n",
      "\n",
      "[[0 0 0 ... 0 1 0]\n",
      " [0 0 0 ... 0 0 0]\n",
      " [1 1 1 ... 1 0 1]\n",
      " ...\n",
      " [1 1 1 ... 1 1 1]\n",
      " [0 1 0 ... 0 0 0]\n",
      " [0 0 0 ... 0 0 0]]\n",
      "\n",
      "\n"
     ]
    }
   ],
   "source": [
    "# function to convert a string of comma-separated chords into a matrix, where each column denotes a chord\n",
    "def string_to_chord_matrix(chord_sequence):\n",
    "    # split sequence over commas, ignoring any \"empty string\" chords\n",
    "    chord_list = [c for c in chord_sequence.split(',') if c != '']\n",
    "    \n",
    "    # then look up each chord in chord_degrees dictionary by the key value\n",
    "    return np.array([chord_degrees[c][::-1] for c in chord_list]).transpose()\n",
    "\n",
    "# visualizing the output for a sample of a few songs\n",
    "n = 3\n",
    "my_sample = chord_data.sample(3)\n",
    "np.set_printoptions(linewidth=400)\n",
    "for i in range(n):\n",
    "    s = chord_data.iloc[i].chords\n",
    "    print(s)\n",
    "    print()\n",
    "    print(string_to_chord_matrix(s))\n",
    "    print()\n",
    "    print()"
   ]
  },
  {
   "cell_type": "code",
   "execution_count": 100,
   "id": "5b7678b8-694b-4ef5-a2ba-14d1a0a67a8c",
   "metadata": {},
   "outputs": [
    {
     "data": {
      "text/html": [
       "<div>\n",
       "<style scoped>\n",
       "    .dataframe tbody tr th:only-of-type {\n",
       "        vertical-align: middle;\n",
       "    }\n",
       "\n",
       "    .dataframe tbody tr th {\n",
       "        vertical-align: top;\n",
       "    }\n",
       "\n",
       "    .dataframe thead th {\n",
       "        text-align: right;\n",
       "    }\n",
       "</style>\n",
       "<table border=\"1\" class=\"dataframe\">\n",
       "  <thead>\n",
       "    <tr style=\"text-align: right;\">\n",
       "      <th></th>\n",
       "      <th>chords</th>\n",
       "      <th>genres</th>\n",
       "      <th>chord_matrix</th>\n",
       "    </tr>\n",
       "  </thead>\n",
       "  <tbody>\n",
       "    <tr>\n",
       "      <th>555438</th>\n",
       "      <td>Bmin,A,Bmin,A,Bmin,A,Bmin,A,Bmin,A,Bmin,A,Bmin...</td>\n",
       "      <td>NaN</td>\n",
       "      <td>[[1, 0, 1, 0, 1, 0, 1, 0, 1, 0, 1, 0, 1, 0, 1,...</td>\n",
       "    </tr>\n",
       "    <tr>\n",
       "      <th>249673</th>\n",
       "      <td>E,A,B,A,E,A,B,A,E,A,B,A,E,A,B,A,E,A,E,B,A,E,A,...</td>\n",
       "      <td>NaN</td>\n",
       "      <td>[[1, 0, 1, 0, 1, 0, 1, 0, 1, 0, 1, 0, 1, 0, 1,...</td>\n",
       "    </tr>\n",
       "    <tr>\n",
       "      <th>242820</th>\n",
       "      <td>Fsmin,A,Fsmin,A,Fsmin,A,Fsmin,A,Fsmin,A,Fsmin,...</td>\n",
       "      <td>NaN</td>\n",
       "      <td>[[0, 0, 0, 0, 0, 0, 0, 0, 0, 0, 0, 0, 0, 0, 0,...</td>\n",
       "    </tr>\n",
       "    <tr>\n",
       "      <th>245066</th>\n",
       "      <td>C,E,Amin,G,F,G,C,Amin,F,G,C,Amin,F,Dmin,G,C,E,...</td>\n",
       "      <td>american folk revival\"canadian indigenous musi...</td>\n",
       "      <td>[[0, 1, 0, 1, 0, 1, 0, 0, 0, 1, 0, 0, 0, 0, 1,...</td>\n",
       "    </tr>\n",
       "    <tr>\n",
       "      <th>94704</th>\n",
       "      <td>Amin,G,Amin,G,Amin,G,Amin,F,G,Amin,F,G,Amin,F,...</td>\n",
       "      <td>gospel</td>\n",
       "      <td>[[0, 1, 0, 1, 0, 1, 0, 0, 1, 0, 0, 1, 0, 0, 1,...</td>\n",
       "    </tr>\n",
       "  </tbody>\n",
       "</table>\n",
       "</div>"
      ],
      "text/plain": [
       "                                                   chords  \\\n",
       "555438  Bmin,A,Bmin,A,Bmin,A,Bmin,A,Bmin,A,Bmin,A,Bmin...   \n",
       "249673  E,A,B,A,E,A,B,A,E,A,B,A,E,A,B,A,E,A,E,B,A,E,A,...   \n",
       "242820  Fsmin,A,Fsmin,A,Fsmin,A,Fsmin,A,Fsmin,A,Fsmin,...   \n",
       "245066  C,E,Amin,G,F,G,C,Amin,F,G,C,Amin,F,Dmin,G,C,E,...   \n",
       "94704   Amin,G,Amin,G,Amin,G,Amin,F,G,Amin,F,G,Amin,F,...   \n",
       "\n",
       "                                                   genres  \\\n",
       "555438                                                NaN   \n",
       "249673                                                NaN   \n",
       "242820                                                NaN   \n",
       "245066  american folk revival\"canadian indigenous musi...   \n",
       "94704                                              gospel   \n",
       "\n",
       "                                             chord_matrix  \n",
       "555438  [[1, 0, 1, 0, 1, 0, 1, 0, 1, 0, 1, 0, 1, 0, 1,...  \n",
       "249673  [[1, 0, 1, 0, 1, 0, 1, 0, 1, 0, 1, 0, 1, 0, 1,...  \n",
       "242820  [[0, 0, 0, 0, 0, 0, 0, 0, 0, 0, 0, 0, 0, 0, 0,...  \n",
       "245066  [[0, 1, 0, 1, 0, 1, 0, 0, 0, 1, 0, 0, 0, 0, 1,...  \n",
       "94704   [[0, 1, 0, 1, 0, 1, 0, 0, 1, 0, 0, 1, 0, 0, 1,...  "
      ]
     },
     "execution_count": 100,
     "metadata": {},
     "output_type": "execute_result"
    }
   ],
   "source": [
    "# remove inversions from the whole data set\n",
    "chord_data.insert(loc = 2,\n",
    "                  column = 'chord_matrix',\n",
    "                  value = chord_data['chords'].apply(string_to_chord_matrix),\n",
    "                  allow_duplicates = False)\n",
    "chord_data.sample(5)"
   ]
  },
  {
   "cell_type": "code",
   "execution_count": 128,
   "id": "0d596821-6490-482b-973b-a575f9abf1e8",
   "metadata": {},
   "outputs": [
    {
     "name": "stdout",
     "output_type": "stream",
     "text": [
      "C major:\t\t [1, 0, 0, 0, 1, 0, 0, 1, 0, 0, 0, 0]\n",
      "D major:\t\t [0, 0, 1, 0, 0, 0, 1, 0, 0, 1, 0, 0]\n",
      "C major transposed up 2: [0, 0, 1, 0, 0, 0, 1, 0, 0, 1, 0, 0]\n"
     ]
    }
   ],
   "source": [
    "# Illustration of how to transpose, in vector/matrix form\n",
    "# For a vector chord, transposing is just a matter of cyclically permuting the vector\n",
    "# It seems the easiest way to do this is using deque objects\n",
    "# deque = \"double-ended queue\"\n",
    "from collections import deque \n",
    "\n",
    "def transpose_chord_up(chord_vector, num_semitones):\n",
    "    # transpose the input chord_vector up by num_semitones\n",
    "    d = deque(chord_vector)\n",
    "    d.rotate(num_semitones)\n",
    "    return(list(d))\n",
    "\n",
    "Cmaj_vec = chord_degrees['C']\n",
    "Dmaj_vec = chord_degrees['D']\n",
    "print(\"C major:\\t\\t\",Cmaj_vec)\n",
    "print(\"D major:\\t\\t\",Dmaj_vec)\n",
    "print(\"C major transposed up 2:\",transpose_chord_up(Cmaj_vec,2))"
   ]
  },
  {
   "cell_type": "code",
   "execution_count": null,
   "id": "4711c5ad-ee3c-4501-8aad-b5ac1d4c0563",
   "metadata": {},
   "outputs": [],
   "source": []
  }
 ],
 "metadata": {
  "kernelspec": {
   "display_name": "Python 3 (ipykernel)",
   "language": "python",
   "name": "python3"
  },
  "language_info": {
   "codemirror_mode": {
    "name": "ipython",
    "version": 3
   },
   "file_extension": ".py",
   "mimetype": "text/x-python",
   "name": "python",
   "nbconvert_exporter": "python",
   "pygments_lexer": "ipython3",
   "version": "3.12.4"
  }
 },
 "nbformat": 4,
 "nbformat_minor": 5
}
