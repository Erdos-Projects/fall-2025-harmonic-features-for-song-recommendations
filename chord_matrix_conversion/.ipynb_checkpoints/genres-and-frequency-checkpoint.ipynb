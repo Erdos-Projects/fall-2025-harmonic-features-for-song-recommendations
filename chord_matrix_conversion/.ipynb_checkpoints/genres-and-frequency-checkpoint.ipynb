{
 "cells": [
  {
   "cell_type": "markdown",
   "id": "790b5e3d-e663-4fe3-acd9-e1860a6ae60a",
   "metadata": {},
   "source": [
    "The goal of this notebook is to do exploratory analysis on whether different chord progressions appear at different rates in different genres."
   ]
  },
  {
   "cell_type": "code",
   "execution_count": 2,
   "id": "acb17af0-01e9-4512-8c80-54f60380627f",
   "metadata": {},
   "outputs": [],
   "source": [
    "# importing basic packages\n",
    "import numpy as np\n",
    "import pandas as pd\n",
    "import matplotlib.pyplot as plt\n",
    "import ast\n",
    "import copy\n",
    "from collections import Counter, deque\n",
    "\n",
    "# read in the data set\n",
    "df = pd.read_csv('../data/chordonomicon.csv', low_memory=False)"
   ]
  },
  {
   "cell_type": "code",
   "execution_count": 3,
   "id": "b96d1aaa-5341-4b8b-af50-14303eb70e83",
   "metadata": {},
   "outputs": [],
   "source": [
    "# Read the mapping CSV file\n",
    "chord_relations = pd.read_csv('../data/chords_mapping.csv')\n",
    "\n",
    "# Create a dictionary with keys the \"chords\" and values the \"degrees\"\n",
    "chord_degrees = dict(zip(chord_relations['Chords'], chord_relations['Degrees']))\n",
    "for key, value in chord_degrees.items():\n",
    "    chord_degrees[key] = ast.literal_eval(value)\n",
    "    \n",
    "# full list of chords from the chords_mapping csv\n",
    "known_chords = list(chord_degrees.keys())"
   ]
  },
  {
   "cell_type": "code",
   "execution_count": 4,
   "id": "ca4e1de3-5b4e-4e20-8a7d-b0f6d1e6c0c0",
   "metadata": {},
   "outputs": [],
   "source": [
    "# drop all columns except for chords and genres\n",
    "chord_data = df[['chords','genres']]\n",
    "\n",
    "# drop anything that lacks chord or genre data\n",
    "chord_data = chord_data.dropna()"
   ]
  },
  {
   "cell_type": "markdown",
   "id": "1fc2825d-98bf-4738-ade7-f132a35e9824",
   "metadata": {},
   "source": [
    "The next few blocks clean up the data: replacing spaces with commas in the chords, removing section markers from chord strings, removing inversions from chord strings, and simplifying the genres."
   ]
  },
  {
   "cell_type": "code",
   "execution_count": 6,
   "id": "362c388b-e57d-4d08-84fa-a85f4f30c0ba",
   "metadata": {},
   "outputs": [],
   "source": [
    "# replacing spaces with commas\n",
    "def replace_space_with_comma(my_string):\n",
    "    return my_string.replace(\" \",\",\")\n",
    "\n",
    "# Remove section markers\n",
    "def remove_section_markers(my_string):\n",
    "    result = []\n",
    "    i = 0\n",
    "    n = len(my_string)\n",
    "    while i < n:\n",
    "        if my_string[i] == '<':\n",
    "            # Skip until after the following \", \"\n",
    "            j = my_string.find('>', i)\n",
    "            if j == -1:\n",
    "                break  # no closing '>', stop\n",
    "            i = j + 2  # skip '>,' and the space\n",
    "        else:\n",
    "            result.append(my_string[i])\n",
    "            i += 1\n",
    "    assert('<' not in result)\n",
    "    assert('>' not in result)\n",
    "    return ''.join(result)\n",
    "\n",
    "# Remove inversions\n",
    "def remove_inversions(my_string):\n",
    "    result = []\n",
    "    i = 0\n",
    "    n = len(my_string)\n",
    "    while i < n:\n",
    "        if my_string[i] == '/':\n",
    "            # Skip until after the following \", \"\n",
    "            j = my_string.find(',', i)\n",
    "            if j == -1:\n",
    "                break  # no closing comma, stop\n",
    "            i = j  # skip comma\n",
    "        else:\n",
    "            result.append(my_string[i])\n",
    "            i += 1\n",
    "    return ''.join(result)\n",
    "\n",
    "def clean_up_chord_string(my_string):\n",
    "    return remove_inversions(\n",
    "        remove_section_markers(\n",
    "            replace_space_with_comma(my_string)))\n",
    "\n",
    "# replacing spaces with commons in all chords in all rows of the data\n",
    "chord_data.loc[:,'chords'] = chord_data['chords'].apply(clean_up_chord_string)"
   ]
  },
  {
   "cell_type": "code",
   "execution_count": 7,
   "id": "7fc7f04a-1104-4255-866f-bd7b3c483358",
   "metadata": {},
   "outputs": [],
   "source": [
    "# simplify genre data\n",
    "major_genres = ['pop','rock','country','alternative','punk','metal','rap','soul','jazz','reggae','electronic']\n",
    "def simplify_genre(genre_string):\n",
    "    for g in major_genres:\n",
    "        if g in genre_string:\n",
    "            return g\n",
    "    return 'other'\n",
    "\n",
    "chord_data.loc[:,'genres'] = chord_data['genres'].apply(simplify_genre)\n",
    "major_genres.append('other')"
   ]
  },
  {
   "cell_type": "code",
   "execution_count": 8,
   "id": "e28d9faf-e322-4a7c-8d3a-db56b71ba198",
   "metadata": {},
   "outputs": [
    {
     "data": {
      "text/plain": [
       "Counter({'pop': 131247,\n",
       "         'other': 106961,\n",
       "         'rock': 81276,\n",
       "         'country': 15884,\n",
       "         'punk': 10060,\n",
       "         'alternative': 4358,\n",
       "         'rap': 4013,\n",
       "         'metal': 3007,\n",
       "         'soul': 2909,\n",
       "         'reggae': 2156,\n",
       "         'jazz': 1857,\n",
       "         'electronic': 545})"
      ]
     },
     "execution_count": 8,
     "metadata": {},
     "output_type": "execute_result"
    }
   ],
   "source": [
    "genre_counter = Counter(chord_data.genres)\n",
    "genre_counter"
   ]
  },
  {
   "cell_type": "code",
   "execution_count": 9,
   "id": "bdc3a1e0-6e78-4cfa-90d7-91cc2f47bd20",
   "metadata": {},
   "outputs": [
    {
     "data": {
      "text/plain": [
       "['pop',\n",
       " 'other',\n",
       " 'rock',\n",
       " 'country',\n",
       " 'punk',\n",
       " 'alternative',\n",
       " 'rap',\n",
       " 'metal',\n",
       " 'soul',\n",
       " 'reggae',\n",
       " 'jazz',\n",
       " 'electronic']"
      ]
     },
     "execution_count": 9,
     "metadata": {},
     "output_type": "execute_result"
    }
   ],
   "source": [
    "# sort genres by frequency in the total database\n",
    "major_genres = [t[0] for t in genre_counter.most_common()]\n",
    "major_genres"
   ]
  },
  {
   "cell_type": "code",
   "execution_count": 10,
   "id": "40721fa8-2f77-4889-9837-0899fde3b414",
   "metadata": {},
   "outputs": [
    {
     "data": {
      "image/png": "[encoded data removed]",
      "text/plain": [
       "<Figure size 640x480 with 1 Axes>"
      ]
     },
     "metadata": {},
     "output_type": "display_data"
    }
   ],
   "source": [
    "# Pie chart of genres in the whole data set\n",
    "plt.pie(x = [t[1] for t in genre_counter.most_common()], \n",
    "        labels = [t[0] for t in genre_counter.most_common()])\n",
    "plt.show()"
   ]
  },
  {
   "cell_type": "code",
   "execution_count": 11,
   "id": "6b8d91cb-455f-487f-9958-54b15fcf29be",
   "metadata": {},
   "outputs": [],
   "source": [
    "# method to transpose a chord in vector format\n",
    "def transpose_chord_up(chord_vector, num_semitones):\n",
    "    d = deque(chord_vector)\n",
    "    d.rotate(num_semitones)\n",
    "    return(list(d))\n",
    "    \n",
    "# method to return true if chord_1 and chord_2 are just tranposed versions of each other\n",
    "def is_harmonic_equivalent(chord_1, chord_2):\n",
    "    # if they have different numbers of notes, then we don't have to check if \n",
    "    # any of the transpositions are equal\n",
    "    if sum(chord_1) != sum(chord_2):\n",
    "        return False\n",
    "\n",
    "    # if they have the same number of notes, just rotate through the 12 possible transpositions to check\n",
    "    for i in range(12):\n",
    "        if np.array_equal(chord_1, transpose_chord_up(chord_2, i)):\n",
    "            return True\n",
    "\n",
    "    return False\n",
    "\n",
    "C = chord_degrees['C']\n",
    "D = chord_degrees['D']\n",
    "E = chord_degrees['E']\n",
    "G = chord_degrees['G']\n",
    "assert(is_harmonic_equivalent(C,D))\n",
    "assert(is_harmonic_equivalent(C,E))\n",
    "assert(is_harmonic_equivalent(D,E))\n",
    "assert(is_harmonic_equivalent(C,G))\n",
    "\n",
    "Cmaj7 = chord_degrees['Cmaj7']\n",
    "Dmaj7 = chord_degrees['Dmaj7']\n",
    "assert(is_harmonic_equivalent(Cmaj7,Dmaj7))"
   ]
  },
  {
   "cell_type": "code",
   "execution_count": 12,
   "id": "63a6de6b-d138-43c2-adfb-00f6842698f0",
   "metadata": {},
   "outputs": [],
   "source": [
    "# function to convert a string of comma-separated chords into a matrix, where each row denotes a chord\n",
    "def string_to_chord_matrix(chord_sequence):\n",
    "    # split sequence over commas, ignoring any \"empty string\" chords\n",
    "    chord_list = [c for c in chord_sequence.split(',') if c != '']\n",
    "    \n",
    "    # then look up each chord in chord_degrees dictionary by the key value\n",
    "    return np.array([chord_degrees[c] for c in chord_list])\n",
    "\n",
    "def transpose_matrix_up(chord_matrix, num_semitones):\n",
    "    # transpose the entire matrix up by a number of semitones\n",
    "    # this just means applying transpose_chord_up to each row\n",
    "    return np.array([transpose_chord_up(row,num_semitones) for row in chord_matrix])\n",
    "\n",
    "def is_harmonic_equivalent_matrix(chord_matrix_1, chord_matrix_2):\n",
    "    # return true if chord_matrix_1 and chord_matrix_2 are just tranposed versions of each other\n",
    "\n",
    "    # some basic checks to skip some looping when we can rule that out already\n",
    "    if chord_matrix_1.shape != chord_matrix_2.shape:\n",
    "        return False\n",
    "    \n",
    "    for i in range(len(chord_matrix_1)):\n",
    "        if chord_matrix_1[i].sum() != chord_matrix_2[i].sum():\n",
    "            return False\n",
    "\n",
    "    # loop to check if they're the same\n",
    "    for i in range(12):\n",
    "        if np.array_equal(chord_matrix_1, transpose_matrix_up(chord_matrix_2, i)):\n",
    "            return True\n",
    "\n",
    "    return False\n",
    "\n",
    "CD = string_to_chord_matrix('C,D')\n",
    "DE = string_to_chord_matrix('D,E')\n",
    "assert(is_harmonic_equivalent_matrix(CD,DE))"
   ]
  },
  {
   "cell_type": "code",
   "execution_count": 13,
   "id": "d38e5e64-62c4-4ad9-8c75-2e98b325f120",
   "metadata": {},
   "outputs": [],
   "source": [
    "# return true/false depending on if a song contains a literal/raw equivalent n_gram to the input n_gram\n",
    "def contains_raw_n_gram(song, n_gram):\n",
    "    # assumption: input song is a comma-separated string of chord names\n",
    "    # assumption: input n_gram is a comma-separated string of chord names\n",
    "    return (n_gram in song)\n",
    "\n",
    "assert(contains_raw_n_gram('A,B,C,D,Emin','B,C,D'))\n",
    "\n",
    "# return true/false depending on if a song contains a harmonically equivalent n_gram to the input n_gram\n",
    "def contains_n_gram(song, n_gram):\n",
    "    # assumption: input song is a comma-separated string of chord names\n",
    "    # assumption: input n_gram is a comma-separated string of chord names\n",
    "    song_as_matrix = string_to_chord_matrix(song)\n",
    "    n_gram_as_matrix = string_to_chord_matrix(n_gram)\n",
    "    song_length = len(song_as_matrix)\n",
    "    n = len(n_gram_as_matrix)\n",
    "    for i in range(song_length - n):\n",
    "        if is_harmonic_equivalent_matrix(n_gram_as_matrix, song_as_matrix[i:i+n]):\n",
    "            return True\n",
    "    return False\n",
    "\n",
    "assert(contains_n_gram('A,B,C,D,Emin','B,C,D'))\n",
    "assert(contains_n_gram('C,G,C,F,G','C,G,C'))\n",
    "assert(contains_n_gram('C,G,C,F,G','D,A,D'))\n",
    "assert(contains_n_gram('C,G,C,F,G','E,B,E'))"
   ]
  },
  {
   "cell_type": "code",
   "execution_count": 14,
   "id": "7d7c1ef7-8f25-4a72-8558-92a0684503ba",
   "metadata": {},
   "outputs": [
    {
     "data": {
      "text/html": [
       "<div>\n",
       "<style scoped>\n",
       "    .dataframe tbody tr th:only-of-type {\n",
       "        vertical-align: middle;\n",
       "    }\n",
       "\n",
       "    .dataframe tbody tr th {\n",
       "        vertical-align: top;\n",
       "    }\n",
       "\n",
       "    .dataframe thead th {\n",
       "        text-align: right;\n",
       "    }\n",
       "</style>\n",
       "<table border=\"1\" class=\"dataframe\">\n",
       "  <thead>\n",
       "    <tr style=\"text-align: right;\">\n",
       "      <th></th>\n",
       "      <th>chords</th>\n",
       "      <th>genres</th>\n",
       "      <th>51</th>\n",
       "    </tr>\n",
       "  </thead>\n",
       "  <tbody>\n",
       "    <tr>\n",
       "      <th>31808</th>\n",
       "      <td>D,G,C,G,C,F,A,D,A,C,Emin,D,A,D,A,F,C,G,D,G,C,F...</td>\n",
       "      <td>pop</td>\n",
       "      <td>1</td>\n",
       "    </tr>\n",
       "    <tr>\n",
       "      <th>100765</th>\n",
       "      <td>D,D,A,Bmin,A,D,D,A,Bmin,A,G,A,G,Bmin,Emin,Bmin...</td>\n",
       "      <td>other</td>\n",
       "      <td>1</td>\n",
       "    </tr>\n",
       "    <tr>\n",
       "      <th>339762</th>\n",
       "      <td>Amin,C,G,Amin,C,G,Amin,C,G,Amin,F,Amin,G,Amin,...</td>\n",
       "      <td>other</td>\n",
       "      <td>1</td>\n",
       "    </tr>\n",
       "    <tr>\n",
       "      <th>163499</th>\n",
       "      <td>B,G,Emin,B,G,A,B,G,Emin,E,B,G,Emin,B,G,A,B,G,E...</td>\n",
       "      <td>pop</td>\n",
       "      <td>0</td>\n",
       "    </tr>\n",
       "    <tr>\n",
       "      <th>391317</th>\n",
       "      <td>E,B,Csmin,A,Gs,Gsmin,Csmin,A,E,Csmin,A,B,Csmin...</td>\n",
       "      <td>rock</td>\n",
       "      <td>0</td>\n",
       "    </tr>\n",
       "    <tr>\n",
       "      <th>108805</th>\n",
       "      <td>Gsmin,Csmin,Asdim,Gsmin,Csmin,Asdim,Gsmin,Csmi...</td>\n",
       "      <td>other</td>\n",
       "      <td>0</td>\n",
       "    </tr>\n",
       "    <tr>\n",
       "      <th>3390</th>\n",
       "      <td>D,Bmin,Fsmin,G,Bmin,A,D,A,Bmin,Fsmin,G,Bmin,A,...</td>\n",
       "      <td>pop</td>\n",
       "      <td>1</td>\n",
       "    </tr>\n",
       "    <tr>\n",
       "      <th>369701</th>\n",
       "      <td>F,Gsus4,Amin,Emin,Bmin,Asus4,Fs,Gno3d,Bsus4,As...</td>\n",
       "      <td>pop</td>\n",
       "      <td>0</td>\n",
       "    </tr>\n",
       "    <tr>\n",
       "      <th>28744</th>\n",
       "      <td>C,F,C,F,C,F,C,F,C,F,C,F,C,B,F,C,F,C,F,C,F,C,Am...</td>\n",
       "      <td>other</td>\n",
       "      <td>1</td>\n",
       "    </tr>\n",
       "    <tr>\n",
       "      <th>358833</th>\n",
       "      <td>D7,G,A7,D,G,D,E,A7,D,C7,F,A7,D,G,D,E,A7,D,E,A7,D</td>\n",
       "      <td>other</td>\n",
       "      <td>1</td>\n",
       "    </tr>\n",
       "  </tbody>\n",
       "</table>\n",
       "</div>"
      ],
      "text/plain": [
       "                                                   chords genres  51\n",
       "31808   D,G,C,G,C,F,A,D,A,C,Emin,D,A,D,A,F,C,G,D,G,C,F...    pop   1\n",
       "100765  D,D,A,Bmin,A,D,D,A,Bmin,A,G,A,G,Bmin,Emin,Bmin...  other   1\n",
       "339762  Amin,C,G,Amin,C,G,Amin,C,G,Amin,F,Amin,G,Amin,...  other   1\n",
       "163499  B,G,Emin,B,G,A,B,G,Emin,E,B,G,Emin,B,G,A,B,G,E...    pop   0\n",
       "391317  E,B,Csmin,A,Gs,Gsmin,Csmin,A,E,Csmin,A,B,Csmin...   rock   0\n",
       "108805  Gsmin,Csmin,Asdim,Gsmin,Csmin,Asdim,Gsmin,Csmi...  other   0\n",
       "3390    D,Bmin,Fsmin,G,Bmin,A,D,A,Bmin,Fsmin,G,Bmin,A,...    pop   1\n",
       "369701  F,Gsus4,Amin,Emin,Bmin,Asus4,Fs,Gno3d,Bsus4,As...    pop   0\n",
       "28744   C,F,C,F,C,F,C,F,C,F,C,F,C,B,F,C,F,C,F,C,F,C,Am...  other   1\n",
       "358833   D7,G,A7,D,G,D,E,A7,D,C7,F,A7,D,G,D,E,A7,D,E,A7,D  other   1"
      ]
     },
     "execution_count": 14,
     "metadata": {},
     "output_type": "execute_result"
    }
   ],
   "source": [
    "# example of how to add a one-hot encoding column for whether songs contain a given n-gram, up to harmonic equivalent\n",
    "song_df = copy.deepcopy(chord_data.sample(10))\n",
    "raw_chord = 'G,C' # representative concrete example of an n-gram\n",
    "harmonic_function = '51' # new column title\n",
    "song_df.insert(loc=len(song_df.columns),\n",
    "               column = harmonic_function,\n",
    "               value = song_df['chords'].apply(lambda song : int(contains_n_gram(song, raw_chord))))\n",
    "song_df"
   ]
  },
  {
   "cell_type": "code",
   "execution_count": 15,
   "id": "9aaa0f01-0081-4485-a79f-218940a7ffbc",
   "metadata": {},
   "outputs": [
    {
     "data": {
      "image/png": "[encoded data removed]",
      "text/plain": [
       "<Figure size 1200x500 with 1 Axes>"
      ]
     },
     "metadata": {},
     "output_type": "display_data"
    }
   ],
   "source": [
    "baseline_genre_counter = Counter(chord_data.genres)\n",
    "baseline_genres, baseline_values = zip(*baseline_genre_counter.most_common())\n",
    "plt.figure(figsize=(12,5))\n",
    "plt.bar(x = baseline_genres, \n",
    "        height = baseline_values)\n",
    "plt.show()"
   ]
  },
  {
   "cell_type": "code",
   "execution_count": 35,
   "id": "a95f1728-19f3-42aa-ac62-e144336e6e20",
   "metadata": {},
   "outputs": [],
   "source": [
    "# For a given n-gram, make a bar chart of genre distribution\n",
    "def genre_bars(data, n_gram, column_name):\n",
    "    # Given an input n-gram (in comma-separated string format),\n",
    "    # find the songs that contain that n-gram,\n",
    "    # then make a pie chart of the genres of those songs\n",
    "\n",
    "    # make a deep copy of the data\n",
    "    df = copy.deepcopy(data)\n",
    "    \n",
    "    # add a one-hot binary encoded column for containing the n-gram\n",
    "    df[column_name] = df['chords'].apply(lambda song : int(contains_n_gram(song, n_gram)))\n",
    "    \n",
    "    # ake a filtered dataframe, containing only songs with the given n-gram\n",
    "    filtered_df = df[df[column_name] == 1]\n",
    "\n",
    "    # build some counter objects, and lists of values for bar chart making\n",
    "    filtered_genre_counter = Counter(filtered_df.genres) # the counter for songs containing the fixed n_gram\n",
    "    baseline_genre_counter = Counter(chord_data.genres)\n",
    "    values_filtered = [filtered_genre_counter.get(g,0) for g in major_genres]\n",
    "    values_baseline = [baseline_genre_counter.get(g,0) for g in major_genres]\n",
    "\n",
    "    # normalize the data   \n",
    "    total_filtered = sum(values_filtered)\n",
    "    total_baseline = sum(values_baseline)\n",
    "    normalized_values_filtered = [v / total_filtered for v in values_filtered]\n",
    "    normalized_values_baseline = [v / total_baseline for v in values_baseline]\n",
    "    \n",
    "    # make bar charts of the genres of the remaining songs\n",
    "    fig, (ax1, ax2) = plt.subplots(nrows = 1,\n",
    "                             ncols = 2,\n",
    "                             figsize = (22,5),\n",
    "                             sharey = True)\n",
    "    ax1.bar(x = major_genres,\n",
    "            height = normalized_values_filtered)\n",
    "    ax1.set_title('Genre distribution for songs containing ' + n_gram + ' or harmonic equivalent')\n",
    "\n",
    "    # Plot alongside a baseline genre distribution\n",
    "    ax2.bar(x = major_genres, \n",
    "            height = normalized_values_baseline)\n",
    "    ax2.set_title('Genre distribution for all songs')\n",
    "    \n",
    "    plt.show()"
   ]
  },
  {
   "cell_type": "code",
   "execution_count": 39,
   "id": "992f0e30-ecc6-4650-b403-27d8b845e10d",
   "metadata": {},
   "outputs": [
    {
     "data": {
      "image/png": "[encoded data removed]",
      "text/plain": [
       "<Figure size 2200x500 with 2 Axes>"
      ]
     },
     "metadata": {},
     "output_type": "display_data"
    }
   ],
   "source": [
    "sample_size = 1000\n",
    "sample_data = chord_data.sample(sample_size)\n",
    "genre_bars(data = sample_data,\n",
    "           n_gram = 'F,G,C',\n",
    "           column_name = '451')"
   ]
  }
 ],
 "metadata": {
  "kernelspec": {
   "display_name": "Python 3 (ipykernel)",
   "language": "python",
   "name": "python3"
  },
  "language_info": {
   "codemirror_mode": {
    "name": "ipython",
    "version": 3
   },
   "file_extension": ".py",
   "mimetype": "text/x-python",
   "name": "python",
   "nbconvert_exporter": "python",
   "pygments_lexer": "ipython3",
   "version": "3.12.4"
  }
 },
 "nbformat": 4,
 "nbformat_minor": 5
}
