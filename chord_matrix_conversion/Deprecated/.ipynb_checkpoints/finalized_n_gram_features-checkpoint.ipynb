{
 "cells": [
  {
   "cell_type": "markdown",
   "id": "be0769c3-4300-43eb-b537-0f9abc4b33ca",
   "metadata": {},
   "source": [
    "This notebook is about determining which $n$-grams we should make into features. More specifically, for which $x$ should we add a feature of the form \"contains a harmonically equivalent $n$-gram to $x$\"?\n",
    "In theory, we could do this for any harmonically unique n-gram for $n=1,2,3,4,...$ but that would be infinitely many different features, which is obviously impossible.\n",
    "\n",
    "So how to pick which ones are good? \n",
    "\n",
    "* Based on domain knowledge, sequences longer than around $10$ are not going to be useful for distinguishing genre. Msically speaking, a chord progression of length $10$ is usually longer than an entire \"musical idea\" or \"phrase.\" Even $10$ is pushing it, probably we shouldn't expect anything longer than $6$ to be very useful, but we'll include up to $10$.\n",
    "* There are way too many harmonically unique $n$-grams for $1 \\le n \\le 10$. Even for $n=3$, it would take around $24$ hours to enumerate all of the unique $n$-grams. We can enumerate all $1$-grams ($44$) and all unique $2$-grams ($5903$), but this is the limit of usefulness for complete enumeration.\n",
    "* I would like to filter for $n$-grams that occur in something like $1\\%$ of the songs, but that's only possible to do if we can make a count for every $n$-gram, which takes too long. So instead, I'll enumerate all of the raw $n$-grams for $1 \\le n \\le 10$ (which is fast), cut to the top $k=300$ or so, then consider unique $n$-grams among those. The table below gives concrete numbers for the number of unique $1$-grams and $2$-grams after restricting to higher and higher relative sample size requirements. Based on the table, I think a threshold cutoff of around $1\\%$ is a good sweet spot.\n",
    "\n",
    "| $n$      | $n$-grams | $1\\%$ | $2\\%$ | $5\\%$ |$10\\%$ |\n",
    "| :-: | :-: | :-: | :-: | :-: | :-: |\n",
    "| 1 | 44 | 22 | 20 | 15 | 10\n",
    "| 2 | 5903 | 237 | 173 | 105 | 62 |\n",
    "\n",
    "* For each $n$, we'll take the top $k=300$ most common raw $n$-grams, then condense those down by harmonic equivalence.\n",
    "\n",
    "| $n$ | Features | \n",
    "| :-: | :-: | \n",
    "| 1 | 35 |\n",
    "| 2 | 93 |\n",
    "| 3 | 129 |\n",
    "| 4 | 161 |\n",
    "| 5 | 160 |\n",
    "| 6 | 166 |\n",
    "| 7 | 180 |\n",
    "| 8 | 185 |\n",
    "| 9 | 188 |\n",
    "| 10 | 185 |"
   ]
  },
  {
   "cell_type": "code",
   "execution_count": 2,
   "id": "e16a5b96-dc1a-4d53-9d02-926c493985eb",
   "metadata": {},
   "outputs": [],
   "source": [
    "import pandas as pd\n",
    "from collections import Counter\n",
    "import numpy as np\n",
    "import json\n",
    "import time\n",
    "\n",
    "data_folder_path = '../../data/'"
   ]
  },
  {
   "cell_type": "code",
   "execution_count": 3,
   "id": "e8464b3e-aa3c-4878-9d73-4fab981c2181",
   "metadata": {},
   "outputs": [],
   "source": [
    "# read in the database\n",
    "df = pd.read_csv(data_folder_path + 'clean_test.csv', low_memory=False)\n",
    "chord_column = df['simplified_chords']\n",
    "num_songs = len(df.index)"
   ]
  },
  {
   "cell_type": "code",
   "execution_count": 4,
   "id": "ad60f191-08cc-4646-8513-349fb5c55703",
   "metadata": {},
   "outputs": [
    {
     "name": "stdout",
     "output_type": "stream",
     "text": [
      "Number of songs: 255606\n"
     ]
    },
    {
     "data": {
      "text/html": [
       "<div>\n",
       "<style scoped>\n",
       "    .dataframe tbody tr th:only-of-type {\n",
       "        vertical-align: middle;\n",
       "    }\n",
       "\n",
       "    .dataframe tbody tr th {\n",
       "        vertical-align: top;\n",
       "    }\n",
       "\n",
       "    .dataframe thead th {\n",
       "        text-align: right;\n",
       "    }\n",
       "</style>\n",
       "<table border=\"1\" class=\"dataframe\">\n",
       "  <thead>\n",
       "    <tr style=\"text-align: right;\">\n",
       "      <th></th>\n",
       "      <th>chords</th>\n",
       "      <th>simplified_chords</th>\n",
       "      <th>decade</th>\n",
       "      <th>main_genre</th>\n",
       "      <th>spotify_song_id</th>\n",
       "    </tr>\n",
       "  </thead>\n",
       "  <tbody>\n",
       "    <tr>\n",
       "      <th>0</th>\n",
       "      <td>&lt;intro_1&gt; G A Fsmin Bmin G A Fsmin Bmin &lt;verse...</td>\n",
       "      <td>G,A,Fsmin,Bmin,G,A,Fsmin,Bmin,G,A,Fsmin,Bmin,G...</td>\n",
       "      <td>2010.0</td>\n",
       "      <td>pop</td>\n",
       "      <td>7vpGKEUPrA4UEsS4o4W1tP</td>\n",
       "    </tr>\n",
       "    <tr>\n",
       "      <th>1</th>\n",
       "      <td>C F G C F G F Dmin G C F Dmin G C F G C F G F ...</td>\n",
       "      <td>C,F,G,C,F,G,F,Dmin,G,C,F,Dmin,G,C,F,G,C,F,G,F,...</td>\n",
       "      <td>2000.0</td>\n",
       "      <td>alternative</td>\n",
       "      <td>7MTpNQUBKyyymbS3gPuqwQ</td>\n",
       "    </tr>\n",
       "    <tr>\n",
       "      <th>2</th>\n",
       "      <td>C F C G Amin G F C F C G Amin G F C G C F C G ...</td>\n",
       "      <td>C,F,C,G,Amin,G,F,C,F,C,G,Amin,G,F,C,G,C,F,C,G,...</td>\n",
       "      <td>2000.0</td>\n",
       "      <td>alternative</td>\n",
       "      <td>6jIIMhcBPRTrkTWh3PXIc7</td>\n",
       "    </tr>\n",
       "    <tr>\n",
       "      <th>3</th>\n",
       "      <td>Amin G Gmin B Amin G Gmin B Amin G Gmin B Amin...</td>\n",
       "      <td>Amin,G,Gmin,B,Amin,G,Gmin,B,Amin,G,Gmin,B,Amin...</td>\n",
       "      <td>2010.0</td>\n",
       "      <td>pop</td>\n",
       "      <td>2zAfQdoOeYujy7QIgDUq9p</td>\n",
       "    </tr>\n",
       "    <tr>\n",
       "      <th>4</th>\n",
       "      <td>&lt;verse_1&gt; D Dmaj7 G/D A/D D Dmaj7 G/D A/D &lt;cho...</td>\n",
       "      <td>D,Dmaj7,G,A,D,Dmaj7,G,A,G,D,Emin,D,A,G,D,Emin,...</td>\n",
       "      <td>2010.0</td>\n",
       "      <td>metal</td>\n",
       "      <td>40rChMoUd1VXb4TKgTuTSP</td>\n",
       "    </tr>\n",
       "  </tbody>\n",
       "</table>\n",
       "</div>"
      ],
      "text/plain": [
       "                                              chords  \\\n",
       "0  <intro_1> G A Fsmin Bmin G A Fsmin Bmin <verse...   \n",
       "1  C F G C F G F Dmin G C F Dmin G C F G C F G F ...   \n",
       "2  C F C G Amin G F C F C G Amin G F C G C F C G ...   \n",
       "3  Amin G Gmin B Amin G Gmin B Amin G Gmin B Amin...   \n",
       "4  <verse_1> D Dmaj7 G/D A/D D Dmaj7 G/D A/D <cho...   \n",
       "\n",
       "                                   simplified_chords  decade   main_genre  \\\n",
       "0  G,A,Fsmin,Bmin,G,A,Fsmin,Bmin,G,A,Fsmin,Bmin,G...  2010.0          pop   \n",
       "1  C,F,G,C,F,G,F,Dmin,G,C,F,Dmin,G,C,F,G,C,F,G,F,...  2000.0  alternative   \n",
       "2  C,F,C,G,Amin,G,F,C,F,C,G,Amin,G,F,C,G,C,F,C,G,...  2000.0  alternative   \n",
       "3  Amin,G,Gmin,B,Amin,G,Gmin,B,Amin,G,Gmin,B,Amin...  2010.0          pop   \n",
       "4  D,Dmaj7,G,A,D,Dmaj7,G,A,G,D,Emin,D,A,G,D,Emin,...  2010.0        metal   \n",
       "\n",
       "          spotify_song_id  \n",
       "0  7vpGKEUPrA4UEsS4o4W1tP  \n",
       "1  7MTpNQUBKyyymbS3gPuqwQ  \n",
       "2  6jIIMhcBPRTrkTWh3PXIc7  \n",
       "3  2zAfQdoOeYujy7QIgDUq9p  \n",
       "4  40rChMoUd1VXb4TKgTuTSP  "
      ]
     },
     "metadata": {},
     "output_type": "display_data"
    }
   ],
   "source": [
    "print(\"Number of songs:\",num_songs)\n",
    "display(df.head(5))"
   ]
  },
  {
   "cell_type": "code",
   "execution_count": 5,
   "id": "326f3f11-1729-4d5d-8b52-0f5f6bc99399",
   "metadata": {},
   "outputs": [],
   "source": [
    "# read the equivalence dictionary file\n",
    "# this is a dictionary of dictionaries\n",
    "#    the top-level keys are chord names (e.g. 'C','Amin')\n",
    "#    the top-level values are dictionaries, whose keys are equivalent chords, and whose values are the semitone distance between the top-level key and the low-level key\n",
    "with open(data_folder_path + 'harmonic_equivalence_dictionary.json') as file:\n",
    "    equiv_dict = json.load(file)"
   ]
  },
  {
   "cell_type": "code",
   "execution_count": 6,
   "id": "1f5146f7-2f7b-4eba-bf85-9a78d76ebeff",
   "metadata": {},
   "outputs": [],
   "source": [
    "def compare_chords(chord_1, chord_2):\n",
    "    if chord_2 in equiv_dict[chord_1]:\n",
    "        return (True, equiv_dict[chord_1][chord_2])\n",
    "    else:\n",
    "        return (False, None)\n",
    "\n",
    "def compare_n_grams(n_gram_1, n_gram_2):\n",
    "    list_1 = n_gram_1.split(',')\n",
    "    list_2 = n_gram_2.split(',')\n",
    "\n",
    "    # if they aren't the same length, we don't have to check anything\n",
    "    if len(list_1) != len(list_2):\n",
    "        return (False, None)\n",
    "\n",
    "    # now we can assume they have the same length\n",
    "    comparison = [compare_chords(list_1[i], list_2[i]) for i in range(len(list_1))]\n",
    "\n",
    "    # if any pairs are not the same, return False\n",
    "    for c in comparison:\n",
    "        if not c[0]:\n",
    "            return (False, None)\n",
    "\n",
    "    # now we can assume every respective pair is equivalent, but we still need all of the distances to match\n",
    "    dist_0 = comparison[0][1]\n",
    "    for c in comparison:\n",
    "        if c[1] != dist_0:\n",
    "            return (False, None)\n",
    "\n",
    "    return (True, dist_0)"
   ]
  },
  {
   "cell_type": "code",
   "execution_count": 7,
   "id": "0910a22b-6384-4a5d-be9b-3032a1d411b6",
   "metadata": {},
   "outputs": [],
   "source": [
    "def get_raw_n_gram_counts(chord_column, n):\n",
    "    # compile a dictionary of counts\n",
    "    results = Counter()\n",
    "    for song in chord_column:\n",
    "        song_as_list = song.split(',')\n",
    "        song_n_grams = [','.join(song_as_list[i:i+n]) for i in range(len(song_as_list) - n + 1)]\n",
    "        for ng in song_n_grams:\n",
    "            results[ng] += 1\n",
    "    return results"
   ]
  },
  {
   "cell_type": "code",
   "execution_count": 8,
   "id": "f7d4c0df-1ea4-4b4e-8bee-2968f7f7be35",
   "metadata": {},
   "outputs": [],
   "source": [
    "# a generic method for iterating through a counter of n-grams and aggregating equivalent n-grams\n",
    "def uniquify_n_grams(n_gram_counter, n):\n",
    "    results = Counter()\n",
    "    processed = set()\n",
    "    for ng1 in n_gram_counter:\n",
    "        if ng1 in processed:\n",
    "            continue\n",
    "        total = n_gram_counter[ng1]\n",
    "        for ng2 in n_gram_counter:\n",
    "            if (ng2 not in processed) and ng1 != ng2:\n",
    "                if compare_n_grams(ng1, ng2)[0]:\n",
    "                    total += n_gram_counter[ng2]\n",
    "                    processed.add(ng2)\n",
    "        results[ng1] = total\n",
    "        processed.add(ng1)\n",
    "    return results"
   ]
  },
  {
   "cell_type": "code",
   "execution_count": 9,
   "id": "eb8a0000-9aed-41ed-91d3-f8e8ca27bbba",
   "metadata": {},
   "outputs": [],
   "source": [
    "# specify key parameter\n",
    "n_max = 10\n",
    "n_range = list(range(1,n_max+1))\n",
    "k = 300"
   ]
  },
  {
   "cell_type": "code",
   "execution_count": 10,
   "id": "b2ffc72e-1f6d-4754-9e35-29853b336de5",
   "metadata": {},
   "outputs": [],
   "source": [
    "# build the raw counters for each n\n",
    "raw_counters = [get_raw_n_gram_counts(chord_column, n) for n in n_range]"
   ]
  },
  {
   "cell_type": "code",
   "execution_count": 11,
   "id": "52ca763c-c543-4c42-b2c8-c3ca9f9acc43",
   "metadata": {},
   "outputs": [
    {
     "name": "stdout",
     "output_type": "stream",
     "text": [
      "n= 1\n",
      "number of raw n-grams: 690 \n",
      "\n",
      "n= 2\n",
      "number of raw n-grams: 42574 \n",
      "\n",
      "n= 3\n",
      "number of raw n-grams: 298213 \n",
      "\n",
      "n= 4\n",
      "number of raw n-grams: 888910 \n",
      "\n",
      "n= 5\n",
      "number of raw n-grams: 1752485 \n",
      "\n",
      "n= 6\n",
      "number of raw n-grams: 2764461 \n",
      "\n",
      "n= 7\n",
      "number of raw n-grams: 3817027 \n",
      "\n",
      "n= 8\n",
      "number of raw n-grams: 4824402 \n",
      "\n",
      "n= 9\n",
      "number of raw n-grams: 5735351 \n",
      "\n",
      "n= 10\n",
      "number of raw n-grams: 6537957 \n",
      "\n"
     ]
    }
   ],
   "source": [
    "for n in n_range:\n",
    "    print(\"n=\",n)\n",
    "    print(\"number of raw n-grams:\",len(raw_counters[n-1]),'\\n')"
   ]
  },
  {
   "cell_type": "code",
   "execution_count": 12,
   "id": "9dd2d7a6-8cae-440c-9228-df004809361b",
   "metadata": {},
   "outputs": [
    {
     "name": "stdout",
     "output_type": "stream",
     "text": [
      "n= 1\n",
      "unique n-grams among top 300 raw n-grams: 25 \n",
      "\n",
      "n= 2\n",
      "unique n-grams among top 300 raw n-grams: 61 \n",
      "\n",
      "n= 3\n",
      "unique n-grams among top 300 raw n-grams: 88 \n",
      "\n",
      "n= 4\n",
      "unique n-grams among top 300 raw n-grams: 97 \n",
      "\n",
      "n= 5\n",
      "unique n-grams among top 300 raw n-grams: 107 \n",
      "\n",
      "n= 6\n",
      "unique n-grams among top 300 raw n-grams: 108 \n",
      "\n",
      "n= 7\n",
      "unique n-grams among top 300 raw n-grams: 111 \n",
      "\n",
      "n= 8\n",
      "unique n-grams among top 300 raw n-grams: 108 \n",
      "\n",
      "n= 9\n",
      "unique n-grams among top 300 raw n-grams: 104 \n",
      "\n",
      "n= 10\n",
      "unique n-grams among top 300 raw n-grams: 103 \n",
      "\n"
     ]
    }
   ],
   "source": [
    "# cut to top k for each\n",
    "unique_counters = [None]*n_max\n",
    "for n in n_range:\n",
    "    index = n-1\n",
    "    rc = raw_counters[index] \n",
    "    top_k = Counter(dict(rc.most_common(k)))\n",
    "    unique_among_top_k = uniquify_n_grams(top_k, n)\n",
    "    unique_counters[index] = unique_among_top_k\n",
    "    \n",
    "    print(\"n=\",n)\n",
    "    print(\"unique n-grams among top \" + str(k) + \" raw n-grams:\",len(unique_among_top_k),'\\n')"
   ]
  },
  {
   "cell_type": "code",
   "execution_count": 18,
   "id": "b106a27d-fa21-42b3-8050-e8ad151f2ef3",
   "metadata": {},
   "outputs": [
    {
     "name": "stdout",
     "output_type": "stream",
     "text": [
      "912\n",
      "[('G', 12777669), ('Amin', 4627067), ('C,G', 2926619), ('G,C', 2344782), ('C,D', 1196201), ('G,F', 1035697), ('G,Amin', 972610), ('Amin,G', 831537), ('Amin,F', 819618), ('C,Amin', 790647)]\n"
     ]
    }
   ],
   "source": [
    "final_features_counter = {}\n",
    "for uc in unique_counters:\n",
    "    final_features_counter |= uc\n",
    "final_features_counter = Counter(dict(final_features_counter))\n",
    "\n",
    "print(len(final_features_counter))\n",
    "print(final_features_counter.most_common(10))"
   ]
  },
  {
   "cell_type": "code",
   "execution_count": 28,
   "id": "78a988d9-82e3-4595-b0d7-4569b4450ad7",
   "metadata": {},
   "outputs": [
    {
     "name": "stdout",
     "output_type": "stream",
     "text": [
      "['G', 'Amin', 'Amin7', 'A7', 'Cadd9', 'Fmaj7', 'Dno3d', 'Dsus2', 'C9', 'A7sus4', 'Emin9', 'Dadd11', 'Eminadd13', 'Cmaj9', 'Bdim', 'Eminadd9', 'G13', 'Fsmin11', 'D11', 'Daug', 'Bb9', 'Emajs9', 'Eminmaj7', 'Bminadd11', 'Fmaj911s', 'C,G', 'G,C', 'G,Amin', 'C,D', 'G,F', 'Amin,G', 'Amin,F', 'C,Amin', 'Amin,C', 'C,Emin', 'Emin,Amin', 'Amin,Emin', 'Amin,D', 'D,Amin', 'E,Amin', 'Emin,F', 'D7,G', 'A,C', 'Cadd9,G', 'G,E', 'F,E', 'F,Emin', 'Amin,E', 'B7,Emin', 'C,E', 'C,C', 'G,Cadd9', 'E,F', 'E,C', 'Bmin,Amin', 'G,Emin7', 'Amin,Bmin', 'D,Emin7', 'C,G7', 'Dsus4,D', 'D,Cadd9', 'G,G7', 'Fmaj7,C', 'Dmin,E', 'Amin7,G', 'D,Dsus4', 'Amin,Amin', 'C,Fmaj7', 'Cadd9,D', 'C,D7', 'Amin7,D', 'Amin7,C', 'A,Amin', 'Emin,B7', 'G,B7', 'Emin7,Cadd9', 'Amin,Fmaj7', 'Amin,D7', 'Gno3d,Ano3d', 'Dno3d,Ano3d', 'Fmaj7,G', 'C,Cmaj7', 'G,Fmaj7', 'D,Dsus2', 'C,B7', 'Amin,Amin7', 'G,C,G', 'C,G,C', 'C,G,D', 'C,G,Amin', 'C,D,G', 'D,G,C', 'Emin,C,G', 'D,C,G', 'G,Amin,F', 'G,D,C', 'Amin,G,F', 'G,C,D', 'Amin,F,G', 'F,G,Amin']\n"
     ]
    }
   ],
   "source": [
    "list_of_n_gram_features = list(final_features_counter.keys())\n",
    "print(list_of_n_gram_features[0:100])"
   ]
  }
 ],
 "metadata": {
  "kernelspec": {
   "display_name": "Python 3 (ipykernel)",
   "language": "python",
   "name": "python3"
  },
  "language_info": {
   "codemirror_mode": {
    "name": "ipython",
    "version": 3
   },
   "file_extension": ".py",
   "mimetype": "text/x-python",
   "name": "python",
   "nbconvert_exporter": "python",
   "pygments_lexer": "ipython3",
   "version": "3.12.4"
  }
 },
 "nbformat": 4,
 "nbformat_minor": 5
}
