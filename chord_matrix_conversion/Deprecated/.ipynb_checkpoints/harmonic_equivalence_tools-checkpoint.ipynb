{
 "cells": [
  {
   "cell_type": "markdown",
   "id": "a495a49f-7913-4b13-94c5-f4748bd90085",
   "metadata": {},
   "source": [
    "This notebook contains some tools for dealing with chords up to harmonic equivalence. \n",
    "\n",
    "Mathematically, the space of (raw) chords as we are dealing with them is $X = \\{0,1\\}^{12}$, i.e. binary vectors of length 12. The cyclic group $G = \\mathbb{Z}/12 \\mathbb{Z}$ acts on this set by cyclically permuting vectors. Musically, this corresponds to transponsing all tones by a fixed number of semitones. We say that two chords are harmonically equvialent if they lie in the same orbit of this group action. That is, the set of chords up to harmonic equivalence is the quotient space $X/G$.\n",
    "\n",
    "More generally, a chord progression or song is a finite sequence in $X$, and $G$ acts entry-wise on these sequences, and two songs are harmonically equivalent if they lie in the same $G$-orbit."
   ]
  },
  {
   "cell_type": "code",
   "execution_count": 2,
   "id": "9bca5bd3-9499-486e-9230-3f75a05136e9",
   "metadata": {},
   "outputs": [],
   "source": [
    "import pandas as pd\n",
    "from collections import Counter\n",
    "import time\n",
    "import json\n",
    "\n",
    "data_folder_path = '../../data/'\n",
    "df = pd.read_csv(data_folder_path + 'clean_test.csv', low_memory=False)"
   ]
  },
  {
   "cell_type": "code",
   "execution_count": 3,
   "id": "9d2dacb8-2906-4042-b15e-ad6a746c238e",
   "metadata": {},
   "outputs": [
    {
     "data": {
      "text/html": [
       "<div>\n",
       "<style scoped>\n",
       "    .dataframe tbody tr th:only-of-type {\n",
       "        vertical-align: middle;\n",
       "    }\n",
       "\n",
       "    .dataframe tbody tr th {\n",
       "        vertical-align: top;\n",
       "    }\n",
       "\n",
       "    .dataframe thead th {\n",
       "        text-align: right;\n",
       "    }\n",
       "</style>\n",
       "<table border=\"1\" class=\"dataframe\">\n",
       "  <thead>\n",
       "    <tr style=\"text-align: right;\">\n",
       "      <th></th>\n",
       "      <th>chords</th>\n",
       "      <th>simplified_chords</th>\n",
       "      <th>decade</th>\n",
       "      <th>main_genre</th>\n",
       "      <th>spotify_song_id</th>\n",
       "    </tr>\n",
       "  </thead>\n",
       "  <tbody>\n",
       "    <tr>\n",
       "      <th>0</th>\n",
       "      <td>&lt;intro_1&gt; G A Fsmin Bmin G A Fsmin Bmin &lt;verse...</td>\n",
       "      <td>G,A,Fsmin,Bmin,G,A,Fsmin,Bmin,G,A,Fsmin,Bmin,G...</td>\n",
       "      <td>2010.0</td>\n",
       "      <td>pop</td>\n",
       "      <td>7vpGKEUPrA4UEsS4o4W1tP</td>\n",
       "    </tr>\n",
       "    <tr>\n",
       "      <th>1</th>\n",
       "      <td>C F G C F G F Dmin G C F Dmin G C F G C F G F ...</td>\n",
       "      <td>C,F,G,C,F,G,F,Dmin,G,C,F,Dmin,G,C,F,G,C,F,G,F,...</td>\n",
       "      <td>2000.0</td>\n",
       "      <td>alternative</td>\n",
       "      <td>7MTpNQUBKyyymbS3gPuqwQ</td>\n",
       "    </tr>\n",
       "    <tr>\n",
       "      <th>2</th>\n",
       "      <td>C F C G Amin G F C F C G Amin G F C G C F C G ...</td>\n",
       "      <td>C,F,C,G,Amin,G,F,C,F,C,G,Amin,G,F,C,G,C,F,C,G,...</td>\n",
       "      <td>2000.0</td>\n",
       "      <td>alternative</td>\n",
       "      <td>6jIIMhcBPRTrkTWh3PXIc7</td>\n",
       "    </tr>\n",
       "    <tr>\n",
       "      <th>3</th>\n",
       "      <td>Amin G Gmin B Amin G Gmin B Amin G Gmin B Amin...</td>\n",
       "      <td>Amin,G,Gmin,B,Amin,G,Gmin,B,Amin,G,Gmin,B,Amin...</td>\n",
       "      <td>2010.0</td>\n",
       "      <td>pop</td>\n",
       "      <td>2zAfQdoOeYujy7QIgDUq9p</td>\n",
       "    </tr>\n",
       "    <tr>\n",
       "      <th>4</th>\n",
       "      <td>&lt;verse_1&gt; D Dmaj7 G/D A/D D Dmaj7 G/D A/D &lt;cho...</td>\n",
       "      <td>D,Dmaj7,G,A,D,Dmaj7,G,A,G,D,Emin,D,A,G,D,Emin,...</td>\n",
       "      <td>2010.0</td>\n",
       "      <td>metal</td>\n",
       "      <td>40rChMoUd1VXb4TKgTuTSP</td>\n",
       "    </tr>\n",
       "    <tr>\n",
       "      <th>5</th>\n",
       "      <td>&lt;verse_1&gt; Eb Gmin Ab Eb Gmin Ab Eb Gmin Ab Eb ...</td>\n",
       "      <td>Eb,Gmin,Ab,Eb,Gmin,Ab,Eb,Gmin,Ab,Eb,Gmin,Ab,Eb...</td>\n",
       "      <td>2010.0</td>\n",
       "      <td>alternative</td>\n",
       "      <td>6Zc6CovSlkLcuqxkBgea0x</td>\n",
       "    </tr>\n",
       "    <tr>\n",
       "      <th>6</th>\n",
       "      <td>A Amin Emin A Amin Emin A Amin Emin A Amin Emi...</td>\n",
       "      <td>A,Amin,Emin,A,Amin,Emin,A,Amin,Emin,A,Amin,Emi...</td>\n",
       "      <td>2010.0</td>\n",
       "      <td>metal</td>\n",
       "      <td>2p58AzW86Z0B0pXgE0K2NO</td>\n",
       "    </tr>\n",
       "    <tr>\n",
       "      <th>7</th>\n",
       "      <td>F G C Amin F G C Amin F G C Amin F G C Amin F ...</td>\n",
       "      <td>F,G,C,Amin,F,G,C,Amin,F,G,C,Amin,F,G,C,Amin,F,...</td>\n",
       "      <td>2020.0</td>\n",
       "      <td>electronic</td>\n",
       "      <td>43jSmFYpG1mgJcLgIC53gF</td>\n",
       "    </tr>\n",
       "    <tr>\n",
       "      <th>8</th>\n",
       "      <td>&lt;intro_1&gt; C F G Amin Emin Dmin C F G Amin Emin...</td>\n",
       "      <td>C,F,G,Amin,Emin,Dmin,C,F,G,Amin,Emin,Dmin,C,F,...</td>\n",
       "      <td>2000.0</td>\n",
       "      <td>rock</td>\n",
       "      <td>2O60Sr29rg9vACJXYVICEo</td>\n",
       "    </tr>\n",
       "    <tr>\n",
       "      <th>9</th>\n",
       "      <td>E Csmin Amin Gsmin E Csmin Amin E Csmin A E Cs...</td>\n",
       "      <td>E,Csmin,Amin,Gsmin,E,Csmin,Amin,E,Csmin,A,E,Cs...</td>\n",
       "      <td>2000.0</td>\n",
       "      <td>pop rock</td>\n",
       "      <td>3Y3OcmUcS4jWsEu2PoSP31</td>\n",
       "    </tr>\n",
       "  </tbody>\n",
       "</table>\n",
       "</div>"
      ],
      "text/plain": [
       "                                              chords  \\\n",
       "0  <intro_1> G A Fsmin Bmin G A Fsmin Bmin <verse...   \n",
       "1  C F G C F G F Dmin G C F Dmin G C F G C F G F ...   \n",
       "2  C F C G Amin G F C F C G Amin G F C G C F C G ...   \n",
       "3  Amin G Gmin B Amin G Gmin B Amin G Gmin B Amin...   \n",
       "4  <verse_1> D Dmaj7 G/D A/D D Dmaj7 G/D A/D <cho...   \n",
       "5  <verse_1> Eb Gmin Ab Eb Gmin Ab Eb Gmin Ab Eb ...   \n",
       "6  A Amin Emin A Amin Emin A Amin Emin A Amin Emi...   \n",
       "7  F G C Amin F G C Amin F G C Amin F G C Amin F ...   \n",
       "8  <intro_1> C F G Amin Emin Dmin C F G Amin Emin...   \n",
       "9  E Csmin Amin Gsmin E Csmin Amin E Csmin A E Cs...   \n",
       "\n",
       "                                   simplified_chords  decade   main_genre  \\\n",
       "0  G,A,Fsmin,Bmin,G,A,Fsmin,Bmin,G,A,Fsmin,Bmin,G...  2010.0          pop   \n",
       "1  C,F,G,C,F,G,F,Dmin,G,C,F,Dmin,G,C,F,G,C,F,G,F,...  2000.0  alternative   \n",
       "2  C,F,C,G,Amin,G,F,C,F,C,G,Amin,G,F,C,G,C,F,C,G,...  2000.0  alternative   \n",
       "3  Amin,G,Gmin,B,Amin,G,Gmin,B,Amin,G,Gmin,B,Amin...  2010.0          pop   \n",
       "4  D,Dmaj7,G,A,D,Dmaj7,G,A,G,D,Emin,D,A,G,D,Emin,...  2010.0        metal   \n",
       "5  Eb,Gmin,Ab,Eb,Gmin,Ab,Eb,Gmin,Ab,Eb,Gmin,Ab,Eb...  2010.0  alternative   \n",
       "6  A,Amin,Emin,A,Amin,Emin,A,Amin,Emin,A,Amin,Emi...  2010.0        metal   \n",
       "7  F,G,C,Amin,F,G,C,Amin,F,G,C,Amin,F,G,C,Amin,F,...  2020.0   electronic   \n",
       "8  C,F,G,Amin,Emin,Dmin,C,F,G,Amin,Emin,Dmin,C,F,...  2000.0         rock   \n",
       "9  E,Csmin,Amin,Gsmin,E,Csmin,Amin,E,Csmin,A,E,Cs...  2000.0     pop rock   \n",
       "\n",
       "          spotify_song_id  \n",
       "0  7vpGKEUPrA4UEsS4o4W1tP  \n",
       "1  7MTpNQUBKyyymbS3gPuqwQ  \n",
       "2  6jIIMhcBPRTrkTWh3PXIc7  \n",
       "3  2zAfQdoOeYujy7QIgDUq9p  \n",
       "4  40rChMoUd1VXb4TKgTuTSP  \n",
       "5  6Zc6CovSlkLcuqxkBgea0x  \n",
       "6  2p58AzW86Z0B0pXgE0K2NO  \n",
       "7  43jSmFYpG1mgJcLgIC53gF  \n",
       "8  2O60Sr29rg9vACJXYVICEo  \n",
       "9  3Y3OcmUcS4jWsEu2PoSP31  "
      ]
     },
     "metadata": {},
     "output_type": "display_data"
    }
   ],
   "source": [
    "sample_data = df.head(10)\n",
    "display(sample_data)"
   ]
  },
  {
   "cell_type": "code",
   "execution_count": 4,
   "id": "e5186c1b-0d51-4140-9216-0b192a719c34",
   "metadata": {},
   "outputs": [],
   "source": [
    "# read the equivalence dictionary file\n",
    "# this is a dictionary of dictionaries\n",
    "#    the top-level keys are chord names (e.g. 'C','Amin')\n",
    "#    the top-level values are dictionaries, whose keys are equivalent chords, and whose values are the semitone distance between the top-level key and the low-level key\n",
    "with open(data_folder_path + 'harmonic_equivalence_dictionary.json') as file:\n",
    "    equiv_dict = json.load(file)"
   ]
  },
  {
   "cell_type": "code",
   "execution_count": 5,
   "id": "af15f51c-3db0-4f37-9087-133a1dab2792",
   "metadata": {},
   "outputs": [],
   "source": [
    "def compare_chords(chord_1, chord_2):\n",
    "    if chord_2 in equiv_dict[chord_1]:\n",
    "        return (True, equiv_dict[chord_1][chord_2])\n",
    "    else:\n",
    "        return (False, None)\n",
    "\n",
    "def compare_n_grams(n_gram_1, n_gram_2):\n",
    "    list_1 = n_gram_1.split(',')\n",
    "    list_2 = n_gram_2.split(',')\n",
    "\n",
    "    # if they aren't the same length, we don't have to check anything\n",
    "    if len(list_1) != len(list_2):\n",
    "        return (False, None)\n",
    "\n",
    "    # now we can assume they have the same length\n",
    "    comparison = [compare_chords(list_1[i], list_2[i]) for i in range(len(list_1))]\n",
    "\n",
    "    # if any pairs are not the same, return False\n",
    "    for c in comparison:\n",
    "        if not c[0]:\n",
    "            return (False, None)\n",
    "\n",
    "    # now we can assume every respective pair is equivalent, but we still need all of the distances to match\n",
    "    dist_0 = comparison[0][1]\n",
    "    for c in comparison:\n",
    "        if c[1] != dist_0:\n",
    "            return (False, None)\n",
    "\n",
    "    return (True, dist_0)"
   ]
  },
  {
   "cell_type": "code",
   "execution_count": 6,
   "id": "2d0d28ce-0403-454e-982d-2aa03e2cb178",
   "metadata": {},
   "outputs": [],
   "source": [
    "def get_raw_n_gram_counts(chord_column, n):\n",
    "    # compile a dictionary of counts\n",
    "    results = Counter()\n",
    "    for song in chord_column:\n",
    "        song_as_list = song.split(',')\n",
    "        song_n_grams = [','.join(song_as_list[i:i+n]) for i in range(len(song_as_list) - n + 1)]\n",
    "        for ng in song_n_grams:\n",
    "            results[ng] += 1\n",
    "    return results"
   ]
  },
  {
   "cell_type": "code",
   "execution_count": 7,
   "id": "1bcc2b00-8d5e-4a2d-a580-770d6b65fe06",
   "metadata": {},
   "outputs": [
    {
     "data": {
      "text/plain": [
       "Counter({'G': 133,\n",
       "         'C': 107,\n",
       "         'Amin': 93,\n",
       "         'F': 79,\n",
       "         'A': 63,\n",
       "         'Gmin': 54,\n",
       "         'Dmin': 38,\n",
       "         'Eb': 37,\n",
       "         'Ab': 37,\n",
       "         'Bmin': 27,\n",
       "         'D': 26,\n",
       "         'Emin': 25,\n",
       "         'Fsmin': 23,\n",
       "         'B': 23,\n",
       "         'Csmin': 14,\n",
       "         'Cadd9': 8,\n",
       "         'Csus4': 8,\n",
       "         'E': 8,\n",
       "         'Dmaj7': 5,\n",
       "         'Gsmin': 5,\n",
       "         'Cmin': 3,\n",
       "         'Bb': 3,\n",
       "         'Dsus4': 2,\n",
       "         'As': 1,\n",
       "         'Fmin': 1})"
      ]
     },
     "execution_count": 7,
     "metadata": {},
     "output_type": "execute_result"
    }
   ],
   "source": [
    "get_raw_n_gram_counts(sample_data['simplified_chords'],n=1)"
   ]
  },
  {
   "cell_type": "code",
   "execution_count": 8,
   "id": "a2a70db5-b607-4053-965f-2a08eddbeb86",
   "metadata": {},
   "outputs": [],
   "source": [
    "def get_unique_n_gram_counts(chord_column, n, progress_updates = False):\n",
    "    raw_n_gram_counts = get_raw_n_gram_counts(chord_column, n)\n",
    "    results = Counter()\n",
    "    processed = set()\n",
    "    if progress_updates:\n",
    "        t0 = time.time()\n",
    "        i = 0\n",
    "        percent_complete = 0\n",
    "        num_raw = len(raw_n_gram_counts)\n",
    "        print(\"Finding counts of \" + str(n) + \"-grams up to harmonic equivalence.\")\n",
    "        print(\"There are \" + str(num_raw) + \" raw \" + str(n) + \"-grams to process.\")\n",
    "        progress_interval = int(num_raw /100)\n",
    "    for ng1 in raw_n_gram_counts:\n",
    "        if progress_updates:\n",
    "            i += 1\n",
    "            if i % progress_interval == 0 and i !=0:\n",
    "                percent_complete += 1\n",
    "                print(\"Processing \" + str(n) + \"-gram number \" + str(i) + \".\")\n",
    "                print(\"\\tTime spent so far:\",time.time() - t0)\n",
    "                print(\"\\tComputation is \" + str(percent_complete) + \"% complete.\")\n",
    "        if ng1 in processed:\n",
    "            continue\n",
    "        total = raw_n_gram_counts[ng1]\n",
    "        for ng2 in raw_n_gram_counts:\n",
    "            if (ng2 not in processed) and ng1 != ng2:\n",
    "                if compare_n_grams(ng1, ng2)[0]:\n",
    "                    total += raw_n_gram_counts[ng2]\n",
    "                    processed.add(ng2)\n",
    "        results[ng1] = total\n",
    "        processed.add(ng1)\n",
    "    return results"
   ]
  },
  {
   "cell_type": "code",
   "execution_count": 9,
   "id": "ad723ada-2bbc-4bcf-be37-9c54cbfdb71c",
   "metadata": {},
   "outputs": [
    {
     "data": {
      "text/plain": [
       "Counter({'G': 517, 'Fsmin': 283, 'Dsus4': 10, 'Cadd9': 8, 'Dmaj7': 5})"
      ]
     },
     "execution_count": 9,
     "metadata": {},
     "output_type": "execute_result"
    }
   ],
   "source": [
    "get_unique_n_gram_counts(sample_data['simplified_chords'],n=1)"
   ]
  },
  {
   "cell_type": "code",
   "execution_count": 21,
   "id": "cd06c789-d052-4c57-8023-3f039c3073d3",
   "metadata": {},
   "outputs": [],
   "source": [
    "def get_n_gram_counts(n, chord_column, equivalence, timed =  True):\n",
    "    t0 = time.time()\n",
    "    if equivalence:\n",
    "        #print(\"Finding counts of \" + str(n) + \"-grams up to harmonic equivalence.\")\n",
    "        results = get_unique_n_gram_counts(chord_column, n, progress_updates = True)\n",
    "        print(\"Counting completed. Time taken (in seconds):\",time.time() - t0)\n",
    "        print(\"Number of harmonically distinct \" + str(n) + \"-grams:\", len(results),'\\n')\n",
    "    else:\n",
    "        print(\"Finding counts of raw \" + str(n) + \"-grams.\")\n",
    "        results = get_raw_n_gram_counts(chord_column, n)\n",
    "        print(\"Counting completed. Time taken (in seconds):\",time.time() - t0)\n",
    "        print(\"Number of raw \" + str(n) + \"-grams:\", len(results),'\\n')\n",
    "    return results"
   ]
  },
  {
   "cell_type": "code",
   "execution_count": 24,
   "id": "a4d94a8d-da56-4dec-869e-b325d86947a8",
   "metadata": {},
   "outputs": [
    {
     "name": "stdout",
     "output_type": "stream",
     "text": [
      "Finding counts of 3-grams up to harmonic equivalence.\n",
      "There are 298213 raw 3-grams to process.\n"
     ]
    },
    {
     "ename": "KeyboardInterrupt",
     "evalue": "",
     "output_type": "error",
     "traceback": [
      "\u001b[1;31m---------------------------------------------------------------------------\u001b[0m",
      "\u001b[1;31mKeyboardInterrupt\u001b[0m                         Traceback (most recent call last)",
      "Cell \u001b[1;32mIn[24], line 4\u001b[0m\n\u001b[0;32m      1\u001b[0m \u001b[38;5;66;03m# This only needs to be run once per n, and only for n=1,2,3,4,5,6\u001b[39;00m\n\u001b[0;32m      2\u001b[0m \u001b[38;5;66;03m# n's completed: 1, 2\u001b[39;00m\n\u001b[0;32m      3\u001b[0m n \u001b[38;5;241m=\u001b[39m \u001b[38;5;241m3\u001b[39m\n\u001b[1;32m----> 4\u001b[0m unique_n_gram_counts \u001b[38;5;241m=\u001b[39m get_n_gram_counts(n, chord_column \u001b[38;5;241m=\u001b[39m df[\u001b[38;5;124m'\u001b[39m\u001b[38;5;124msimplified_chords\u001b[39m\u001b[38;5;124m'\u001b[39m], equivalence \u001b[38;5;241m=\u001b[39m \u001b[38;5;28;01mTrue\u001b[39;00m, timed \u001b[38;5;241m=\u001b[39m \u001b[38;5;28;01mTrue\u001b[39;00m)\n\u001b[0;32m      5\u001b[0m \u001b[38;5;28;01mwith\u001b[39;00m \u001b[38;5;28mopen\u001b[39m(\u001b[38;5;124m\"\u001b[39m\u001b[38;5;124mharmonically_unique_\u001b[39m\u001b[38;5;124m\"\u001b[39m \u001b[38;5;241m+\u001b[39m \u001b[38;5;28mstr\u001b[39m(n) \u001b[38;5;241m+\u001b[39m \u001b[38;5;124m\"\u001b[39m\u001b[38;5;124m_gram_counts.json\u001b[39m\u001b[38;5;124m\"\u001b[39m,\u001b[38;5;124m\"\u001b[39m\u001b[38;5;124mw\u001b[39m\u001b[38;5;124m\"\u001b[39m) \u001b[38;5;28;01mas\u001b[39;00m f:\n\u001b[0;32m      6\u001b[0m     json\u001b[38;5;241m.\u001b[39mdump(obj \u001b[38;5;241m=\u001b[39m unique_n_gram_counts, fp \u001b[38;5;241m=\u001b[39m f)\n",
      "Cell \u001b[1;32mIn[21], line 5\u001b[0m, in \u001b[0;36mget_n_gram_counts\u001b[1;34m(n, chord_column, equivalence, timed)\u001b[0m\n\u001b[0;32m      2\u001b[0m t0 \u001b[38;5;241m=\u001b[39m time\u001b[38;5;241m.\u001b[39mtime()\n\u001b[0;32m      3\u001b[0m \u001b[38;5;28;01mif\u001b[39;00m equivalence:\n\u001b[0;32m      4\u001b[0m     \u001b[38;5;66;03m#print(\"Finding counts of \" + str(n) + \"-grams up to harmonic equivalence.\")\u001b[39;00m\n\u001b[1;32m----> 5\u001b[0m     results \u001b[38;5;241m=\u001b[39m get_unique_n_gram_counts(chord_column, n, progress_updates \u001b[38;5;241m=\u001b[39m \u001b[38;5;28;01mTrue\u001b[39;00m)\n\u001b[0;32m      6\u001b[0m     \u001b[38;5;28mprint\u001b[39m(\u001b[38;5;124m\"\u001b[39m\u001b[38;5;124mCounting completed. Time taken (in seconds):\u001b[39m\u001b[38;5;124m\"\u001b[39m,time\u001b[38;5;241m.\u001b[39mtime() \u001b[38;5;241m-\u001b[39m t0)\n\u001b[0;32m      7\u001b[0m     \u001b[38;5;28mprint\u001b[39m(\u001b[38;5;124m\"\u001b[39m\u001b[38;5;124mNumber of harmonically distinct \u001b[39m\u001b[38;5;124m\"\u001b[39m \u001b[38;5;241m+\u001b[39m \u001b[38;5;28mstr\u001b[39m(n) \u001b[38;5;241m+\u001b[39m \u001b[38;5;124m\"\u001b[39m\u001b[38;5;124m-grams:\u001b[39m\u001b[38;5;124m\"\u001b[39m, \u001b[38;5;28mlen\u001b[39m(results),\u001b[38;5;124m'\u001b[39m\u001b[38;5;130;01m\\n\u001b[39;00m\u001b[38;5;124m'\u001b[39m)\n",
      "Cell \u001b[1;32mIn[8], line 27\u001b[0m, in \u001b[0;36mget_unique_n_gram_counts\u001b[1;34m(chord_column, n, progress_updates)\u001b[0m\n\u001b[0;32m     25\u001b[0m \u001b[38;5;28;01mfor\u001b[39;00m ng2 \u001b[38;5;129;01min\u001b[39;00m raw_n_gram_counts:\n\u001b[0;32m     26\u001b[0m     \u001b[38;5;28;01mif\u001b[39;00m (ng2 \u001b[38;5;129;01mnot\u001b[39;00m \u001b[38;5;129;01min\u001b[39;00m processed) \u001b[38;5;129;01mand\u001b[39;00m ng1 \u001b[38;5;241m!=\u001b[39m ng2:\n\u001b[1;32m---> 27\u001b[0m         \u001b[38;5;28;01mif\u001b[39;00m compare_n_grams(ng1, ng2)[\u001b[38;5;241m0\u001b[39m]:\n\u001b[0;32m     28\u001b[0m             total \u001b[38;5;241m+\u001b[39m\u001b[38;5;241m=\u001b[39m raw_n_gram_counts[ng2]\n\u001b[0;32m     29\u001b[0m             processed\u001b[38;5;241m.\u001b[39madd(ng2)\n",
      "Cell \u001b[1;32mIn[5], line 9\u001b[0m, in \u001b[0;36mcompare_n_grams\u001b[1;34m(n_gram_1, n_gram_2)\u001b[0m\n\u001b[0;32m      7\u001b[0m \u001b[38;5;28;01mdef\u001b[39;00m \u001b[38;5;21mcompare_n_grams\u001b[39m(n_gram_1, n_gram_2):\n\u001b[0;32m      8\u001b[0m     list_1 \u001b[38;5;241m=\u001b[39m n_gram_1\u001b[38;5;241m.\u001b[39msplit(\u001b[38;5;124m'\u001b[39m\u001b[38;5;124m,\u001b[39m\u001b[38;5;124m'\u001b[39m)\n\u001b[1;32m----> 9\u001b[0m     list_2 \u001b[38;5;241m=\u001b[39m n_gram_2\u001b[38;5;241m.\u001b[39msplit(\u001b[38;5;124m'\u001b[39m\u001b[38;5;124m,\u001b[39m\u001b[38;5;124m'\u001b[39m)\n\u001b[0;32m     11\u001b[0m     \u001b[38;5;66;03m# if they aren't the same length, we don't have to check anything\u001b[39;00m\n\u001b[0;32m     12\u001b[0m     \u001b[38;5;28;01mif\u001b[39;00m \u001b[38;5;28mlen\u001b[39m(list_1) \u001b[38;5;241m!=\u001b[39m \u001b[38;5;28mlen\u001b[39m(list_2):\n",
      "\u001b[1;31mKeyboardInterrupt\u001b[0m: "
     ]
    }
   ],
   "source": [
    "# This only needs to be run once per n, and only for n=1,2,3,4,5,6\n",
    "# n's completed: 1, 2\n",
    "n = 3\n",
    "unique_n_gram_counts = get_n_gram_counts(n, chord_column = df['simplified_chords'], equivalence = True, timed = True)\n",
    "with open(data_folder_path + 'harmonically_unique_' + str(n) + '_gram_counts.json','w') as f:\n",
    "    json.dump(obj = unique_n_gram_counts, fp = f)"
   ]
  },
  {
   "cell_type": "code",
   "execution_count": 26,
   "id": "e844f20e-2cf9-4959-b1ad-29826196af0b",
   "metadata": {},
   "outputs": [
    {
     "name": "stdout",
     "output_type": "stream",
     "text": [
      "Finding counts of raw 1-grams.\n",
      "Counting completed. Time taken (in seconds): 12.371426105499268\n",
      "Number of raw 1-grams: 690 \n",
      "\n",
      "Finding counts of raw 2-grams.\n",
      "Counting completed. Time taken (in seconds): 14.557015657424927\n",
      "Number of raw 2-grams: 42574 \n",
      "\n",
      "Finding counts of raw 3-grams.\n",
      "Counting completed. Time taken (in seconds): 15.321894884109497\n",
      "Number of raw 3-grams: 298213 \n",
      "\n",
      "Finding counts of raw 4-grams.\n",
      "Counting completed. Time taken (in seconds): 15.965595722198486\n",
      "Number of raw 4-grams: 888910 \n",
      "\n",
      "Finding counts of raw 5-grams.\n",
      "Counting completed. Time taken (in seconds): 16.25770592689514\n",
      "Number of raw 5-grams: 1752485 \n",
      "\n",
      "Finding counts of raw 6-grams.\n",
      "Counting completed. Time taken (in seconds): 16.503804445266724\n",
      "Number of raw 6-grams: 2764461 \n",
      "\n",
      "Finding counts of raw 4-grams.\n",
      "Counting completed. Time taken (in seconds): 15.865700960159302\n",
      "Number of raw 4-grams: 888910 \n",
      "\n",
      "Finding counts of raw 5-grams.\n",
      "Counting completed. Time taken (in seconds): 16.573243379592896\n",
      "Number of raw 5-grams: 1752485 \n",
      "\n",
      "Finding counts of raw 6-grams.\n",
      "Counting completed. Time taken (in seconds): 17.10678744316101\n",
      "Number of raw 6-grams: 2764461 \n",
      "\n"
     ]
    }
   ],
   "source": [
    "raw_1_gram_counts = get_n_gram_counts(n=1, chord_column = df['simplified_chords'], equivalence = False, timed = True)\n",
    "raw_2_gram_counts = get_n_gram_counts(n=2, chord_column = df['simplified_chords'], equivalence = False, timed = True)\n",
    "raw_3_gram_counts = get_n_gram_counts(n=3, chord_column = df['simplified_chords'], equivalence = False, timed = True)\n",
    "raw_4_gram_counts = get_n_gram_counts(n=4, chord_column = df['simplified_chords'], equivalence = False, timed = True)\n",
    "raw_5_gram_counts = get_n_gram_counts(n=5, chord_column = df['simplified_chords'], equivalence = False, timed = True)\n",
    "raw_6_gram_counts = get_n_gram_counts(n=6, chord_column = df['simplified_chords'], equivalence = False, timed = True)\n",
    "raw_7_gram_counts = get_n_gram_counts(n=4, chord_column = df['simplified_chords'], equivalence = False, timed = True)\n",
    "raw_8_gram_counts = get_n_gram_counts(n=5, chord_column = df['simplified_chords'], equivalence = False, timed = True)\n",
    "raw_9_gram_counts = get_n_gram_counts(n=6, chord_column = df['simplified_chords'], equivalence = False, timed = True)"
   ]
  }
 ],
 "metadata": {
  "kernelspec": {
   "display_name": "Python 3 (ipykernel)",
   "language": "python",
   "name": "python3"
  },
  "language_info": {
   "codemirror_mode": {
    "name": "ipython",
    "version": 3
   },
   "file_extension": ".py",
   "mimetype": "text/x-python",
   "name": "python",
   "nbconvert_exporter": "python",
   "pygments_lexer": "ipython3",
   "version": "3.12.4"
  }
 },
 "nbformat": 4,
 "nbformat_minor": 5
}
